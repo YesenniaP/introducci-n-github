{
  "nbformat": 4,
  "nbformat_minor": 0,
  "metadata": {
    "colab": {
      "provenance": [],
      "mount_file_id": "18TGeeLy7i2rvL05poPS46-OrEhPXd49g",
      "authorship_tag": "ABX9TyM3Foh+u9K96wyrZ4PnzP6p",
      "include_colab_link": true
    },
    "kernelspec": {
      "name": "python3",
      "display_name": "Python 3"
    },
    "language_info": {
      "name": "python"
    }
  },
  "cells": [
    {
      "cell_type": "markdown",
      "metadata": {
        "id": "view-in-github",
        "colab_type": "text"
      },
      "source": [
        "<a href=\"https://colab.research.google.com/github/YesenniaP/introducci-n-github/blob/main/Prediccion_ventas.ipynb\" target=\"_parent\"><img src=\"https://colab.research.google.com/assets/colab-badge.svg\" alt=\"Open In Colab\"/></a>"
      ]
    },
    {
      "cell_type": "code",
      "execution_count": 1,
      "metadata": {
        "id": "31YbQY9AAibm"
      },
      "outputs": [],
      "source": [
        "#Proytecto 1"
      ]
    },
    {
      "cell_type": "markdown",
      "source": [
        "#Predicción de ventas\n"
      ],
      "metadata": {
        "id": "-xe6MMoYAkFE"
      }
    },
    {
      "cell_type": "code",
      "source": [
        "from google.colab import drive\n",
        "drive.mount('/content/drive')\n",
        "\n",
        "import pandas as pd\n",
        "import matplotlib.pyplot as plt\n",
        "import numpy as np\n",
        "import seaborn as sns\n",
        "\n"
      ],
      "metadata": {
        "colab": {
          "base_uri": "https://localhost:8080/"
        },
        "id": "PBxOoIhbAt-1",
        "outputId": "de7c8665-19a7-4d42-f72d-e2ddcd3aa8aa"
      },
      "execution_count": 2,
      "outputs": [
        {
          "output_type": "stream",
          "name": "stdout",
          "text": [
            "Drive already mounted at /content/drive; to attempt to forcibly remount, call drive.mount(\"/content/drive\", force_remount=True).\n"
          ]
        }
      ]
    },
    {
      "cell_type": "code",
      "source": [
        "filename =\"/content/drive/MyDrive/Data Science/datos/sales_predictions.csv\"\n",
        "df = pd.read_csv(filename)\n",
        "df.head()\n"
      ],
      "metadata": {
        "colab": {
          "base_uri": "https://localhost:8080/",
          "height": 357
        },
        "id": "v8Jf1HkgCXOi",
        "outputId": "75b91c62-d07e-4e2d-c571-e185f3eba64f"
      },
      "execution_count": 3,
      "outputs": [
        {
          "output_type": "execute_result",
          "data": {
            "text/plain": [
              "  Item_Identifier  Item_Weight Item_Fat_Content  Item_Visibility  \\\n",
              "0           FDA15         9.30          Low Fat         0.016047   \n",
              "1           DRC01         5.92          Regular         0.019278   \n",
              "2           FDN15        17.50          Low Fat         0.016760   \n",
              "3           FDX07        19.20          Regular         0.000000   \n",
              "4           NCD19         8.93          Low Fat         0.000000   \n",
              "\n",
              "               Item_Type  Item_MRP Outlet_Identifier  \\\n",
              "0                  Dairy  249.8092            OUT049   \n",
              "1            Soft Drinks   48.2692            OUT018   \n",
              "2                   Meat  141.6180            OUT049   \n",
              "3  Fruits and Vegetables  182.0950            OUT010   \n",
              "4              Household   53.8614            OUT013   \n",
              "\n",
              "   Outlet_Establishment_Year Outlet_Size Outlet_Location_Type  \\\n",
              "0                       1999      Medium               Tier 1   \n",
              "1                       2009      Medium               Tier 3   \n",
              "2                       1999      Medium               Tier 1   \n",
              "3                       1998         NaN               Tier 3   \n",
              "4                       1987        High               Tier 3   \n",
              "\n",
              "         Outlet_Type  Item_Outlet_Sales  \n",
              "0  Supermarket Type1          3735.1380  \n",
              "1  Supermarket Type2           443.4228  \n",
              "2  Supermarket Type1          2097.2700  \n",
              "3      Grocery Store           732.3800  \n",
              "4  Supermarket Type1           994.7052  "
            ],
            "text/html": [
              "\n",
              "  <div id=\"df-0c60c207-f8d6-485e-a428-d85372092463\">\n",
              "    <div class=\"colab-df-container\">\n",
              "      <div>\n",
              "<style scoped>\n",
              "    .dataframe tbody tr th:only-of-type {\n",
              "        vertical-align: middle;\n",
              "    }\n",
              "\n",
              "    .dataframe tbody tr th {\n",
              "        vertical-align: top;\n",
              "    }\n",
              "\n",
              "    .dataframe thead th {\n",
              "        text-align: right;\n",
              "    }\n",
              "</style>\n",
              "<table border=\"1\" class=\"dataframe\">\n",
              "  <thead>\n",
              "    <tr style=\"text-align: right;\">\n",
              "      <th></th>\n",
              "      <th>Item_Identifier</th>\n",
              "      <th>Item_Weight</th>\n",
              "      <th>Item_Fat_Content</th>\n",
              "      <th>Item_Visibility</th>\n",
              "      <th>Item_Type</th>\n",
              "      <th>Item_MRP</th>\n",
              "      <th>Outlet_Identifier</th>\n",
              "      <th>Outlet_Establishment_Year</th>\n",
              "      <th>Outlet_Size</th>\n",
              "      <th>Outlet_Location_Type</th>\n",
              "      <th>Outlet_Type</th>\n",
              "      <th>Item_Outlet_Sales</th>\n",
              "    </tr>\n",
              "  </thead>\n",
              "  <tbody>\n",
              "    <tr>\n",
              "      <th>0</th>\n",
              "      <td>FDA15</td>\n",
              "      <td>9.30</td>\n",
              "      <td>Low Fat</td>\n",
              "      <td>0.016047</td>\n",
              "      <td>Dairy</td>\n",
              "      <td>249.8092</td>\n",
              "      <td>OUT049</td>\n",
              "      <td>1999</td>\n",
              "      <td>Medium</td>\n",
              "      <td>Tier 1</td>\n",
              "      <td>Supermarket Type1</td>\n",
              "      <td>3735.1380</td>\n",
              "    </tr>\n",
              "    <tr>\n",
              "      <th>1</th>\n",
              "      <td>DRC01</td>\n",
              "      <td>5.92</td>\n",
              "      <td>Regular</td>\n",
              "      <td>0.019278</td>\n",
              "      <td>Soft Drinks</td>\n",
              "      <td>48.2692</td>\n",
              "      <td>OUT018</td>\n",
              "      <td>2009</td>\n",
              "      <td>Medium</td>\n",
              "      <td>Tier 3</td>\n",
              "      <td>Supermarket Type2</td>\n",
              "      <td>443.4228</td>\n",
              "    </tr>\n",
              "    <tr>\n",
              "      <th>2</th>\n",
              "      <td>FDN15</td>\n",
              "      <td>17.50</td>\n",
              "      <td>Low Fat</td>\n",
              "      <td>0.016760</td>\n",
              "      <td>Meat</td>\n",
              "      <td>141.6180</td>\n",
              "      <td>OUT049</td>\n",
              "      <td>1999</td>\n",
              "      <td>Medium</td>\n",
              "      <td>Tier 1</td>\n",
              "      <td>Supermarket Type1</td>\n",
              "      <td>2097.2700</td>\n",
              "    </tr>\n",
              "    <tr>\n",
              "      <th>3</th>\n",
              "      <td>FDX07</td>\n",
              "      <td>19.20</td>\n",
              "      <td>Regular</td>\n",
              "      <td>0.000000</td>\n",
              "      <td>Fruits and Vegetables</td>\n",
              "      <td>182.0950</td>\n",
              "      <td>OUT010</td>\n",
              "      <td>1998</td>\n",
              "      <td>NaN</td>\n",
              "      <td>Tier 3</td>\n",
              "      <td>Grocery Store</td>\n",
              "      <td>732.3800</td>\n",
              "    </tr>\n",
              "    <tr>\n",
              "      <th>4</th>\n",
              "      <td>NCD19</td>\n",
              "      <td>8.93</td>\n",
              "      <td>Low Fat</td>\n",
              "      <td>0.000000</td>\n",
              "      <td>Household</td>\n",
              "      <td>53.8614</td>\n",
              "      <td>OUT013</td>\n",
              "      <td>1987</td>\n",
              "      <td>High</td>\n",
              "      <td>Tier 3</td>\n",
              "      <td>Supermarket Type1</td>\n",
              "      <td>994.7052</td>\n",
              "    </tr>\n",
              "  </tbody>\n",
              "</table>\n",
              "</div>\n",
              "      <button class=\"colab-df-convert\" onclick=\"convertToInteractive('df-0c60c207-f8d6-485e-a428-d85372092463')\"\n",
              "              title=\"Convert this dataframe to an interactive table.\"\n",
              "              style=\"display:none;\">\n",
              "        \n",
              "  <svg xmlns=\"http://www.w3.org/2000/svg\" height=\"24px\"viewBox=\"0 0 24 24\"\n",
              "       width=\"24px\">\n",
              "    <path d=\"M0 0h24v24H0V0z\" fill=\"none\"/>\n",
              "    <path d=\"M18.56 5.44l.94 2.06.94-2.06 2.06-.94-2.06-.94-.94-2.06-.94 2.06-2.06.94zm-11 1L8.5 8.5l.94-2.06 2.06-.94-2.06-.94L8.5 2.5l-.94 2.06-2.06.94zm10 10l.94 2.06.94-2.06 2.06-.94-2.06-.94-.94-2.06-.94 2.06-2.06.94z\"/><path d=\"M17.41 7.96l-1.37-1.37c-.4-.4-.92-.59-1.43-.59-.52 0-1.04.2-1.43.59L10.3 9.45l-7.72 7.72c-.78.78-.78 2.05 0 2.83L4 21.41c.39.39.9.59 1.41.59.51 0 1.02-.2 1.41-.59l7.78-7.78 2.81-2.81c.8-.78.8-2.07 0-2.86zM5.41 20L4 18.59l7.72-7.72 1.47 1.35L5.41 20z\"/>\n",
              "  </svg>\n",
              "      </button>\n",
              "      \n",
              "  <style>\n",
              "    .colab-df-container {\n",
              "      display:flex;\n",
              "      flex-wrap:wrap;\n",
              "      gap: 12px;\n",
              "    }\n",
              "\n",
              "    .colab-df-convert {\n",
              "      background-color: #E8F0FE;\n",
              "      border: none;\n",
              "      border-radius: 50%;\n",
              "      cursor: pointer;\n",
              "      display: none;\n",
              "      fill: #1967D2;\n",
              "      height: 32px;\n",
              "      padding: 0 0 0 0;\n",
              "      width: 32px;\n",
              "    }\n",
              "\n",
              "    .colab-df-convert:hover {\n",
              "      background-color: #E2EBFA;\n",
              "      box-shadow: 0px 1px 2px rgba(60, 64, 67, 0.3), 0px 1px 3px 1px rgba(60, 64, 67, 0.15);\n",
              "      fill: #174EA6;\n",
              "    }\n",
              "\n",
              "    [theme=dark] .colab-df-convert {\n",
              "      background-color: #3B4455;\n",
              "      fill: #D2E3FC;\n",
              "    }\n",
              "\n",
              "    [theme=dark] .colab-df-convert:hover {\n",
              "      background-color: #434B5C;\n",
              "      box-shadow: 0px 1px 3px 1px rgba(0, 0, 0, 0.15);\n",
              "      filter: drop-shadow(0px 1px 2px rgba(0, 0, 0, 0.3));\n",
              "      fill: #FFFFFF;\n",
              "    }\n",
              "  </style>\n",
              "\n",
              "      <script>\n",
              "        const buttonEl =\n",
              "          document.querySelector('#df-0c60c207-f8d6-485e-a428-d85372092463 button.colab-df-convert');\n",
              "        buttonEl.style.display =\n",
              "          google.colab.kernel.accessAllowed ? 'block' : 'none';\n",
              "\n",
              "        async function convertToInteractive(key) {\n",
              "          const element = document.querySelector('#df-0c60c207-f8d6-485e-a428-d85372092463');\n",
              "          const dataTable =\n",
              "            await google.colab.kernel.invokeFunction('convertToInteractive',\n",
              "                                                     [key], {});\n",
              "          if (!dataTable) return;\n",
              "\n",
              "          const docLinkHtml = 'Like what you see? Visit the ' +\n",
              "            '<a target=\"_blank\" href=https://colab.research.google.com/notebooks/data_table.ipynb>data table notebook</a>'\n",
              "            + ' to learn more about interactive tables.';\n",
              "          element.innerHTML = '';\n",
              "          dataTable['output_type'] = 'display_data';\n",
              "          await google.colab.output.renderOutput(dataTable, element);\n",
              "          const docLink = document.createElement('div');\n",
              "          docLink.innerHTML = docLinkHtml;\n",
              "          element.appendChild(docLink);\n",
              "        }\n",
              "      </script>\n",
              "    </div>\n",
              "  </div>\n",
              "  "
            ]
          },
          "metadata": {},
          "execution_count": 3
        }
      ]
    },
    {
      "cell_type": "code",
      "source": [
        "#1) ¿Cuántas filas y columnas?\n",
        "\n",
        "df.shape\n",
        "\n"
      ],
      "metadata": {
        "colab": {
          "base_uri": "https://localhost:8080/"
        },
        "id": "bV6Nd0O924EZ",
        "outputId": "350ee1b1-99db-4ecd-c671-ffefb8fdd32e"
      },
      "execution_count": 4,
      "outputs": [
        {
          "output_type": "execute_result",
          "data": {
            "text/plain": [
              "(8523, 12)"
            ]
          },
          "metadata": {},
          "execution_count": 4
        }
      ]
    },
    {
      "cell_type": "markdown",
      "source": [
        "R/Hay 12 columnas y 8523 filas. "
      ],
      "metadata": {
        "id": "g8edYyNbqGge"
      }
    },
    {
      "cell_type": "code",
      "source": [
        "#2) ¿Cuáles son los tipos de datos en cada variable?\n",
        "\n",
        "df.dtypes\n"
      ],
      "metadata": {
        "colab": {
          "base_uri": "https://localhost:8080/"
        },
        "id": "-oo79f8O3P-P",
        "outputId": "ce93e089-5d7b-4e99-ec16-bf83e4bd509e"
      },
      "execution_count": 5,
      "outputs": [
        {
          "output_type": "execute_result",
          "data": {
            "text/plain": [
              "Item_Identifier               object\n",
              "Item_Weight                  float64\n",
              "Item_Fat_Content              object\n",
              "Item_Visibility              float64\n",
              "Item_Type                     object\n",
              "Item_MRP                     float64\n",
              "Outlet_Identifier             object\n",
              "Outlet_Establishment_Year      int64\n",
              "Outlet_Size                   object\n",
              "Outlet_Location_Type          object\n",
              "Outlet_Type                   object\n",
              "Item_Outlet_Sales            float64\n",
              "dtype: object"
            ]
          },
          "metadata": {},
          "execution_count": 5
        }
      ]
    },
    {
      "cell_type": "markdown",
      "source": [
        "R/ Tenemos variables tipo objeto y float"
      ],
      "metadata": {
        "id": "pSp6mpqsqAS6"
      }
    },
    {
      "cell_type": "code",
      "source": [
        "#3) ¿Hay duplicados? Si es el caso, eliminen algunos duplicados.\n",
        "df.duplicated().sum()\n"
      ],
      "metadata": {
        "colab": {
          "base_uri": "https://localhost:8080/"
        },
        "id": "TDtBJmGS3Shw",
        "outputId": "22ce5031-91cf-4c54-c8ce-9ba6c7d880ed"
      },
      "execution_count": 6,
      "outputs": [
        {
          "output_type": "execute_result",
          "data": {
            "text/plain": [
              "0"
            ]
          },
          "metadata": {},
          "execution_count": 6
        }
      ]
    },
    {
      "cell_type": "markdown",
      "source": [
        "R/En este data frame no se encuentran duplicados."
      ],
      "metadata": {
        "id": "XIwsxS_Zp7hA"
      }
    },
    {
      "cell_type": "code",
      "source": [
        "#4) Identifiquen los valores faltantes.\n",
        "df.info()\n"
      ],
      "metadata": {
        "colab": {
          "base_uri": "https://localhost:8080/"
        },
        "id": "d11zYMa53WaV",
        "outputId": "20346b0d-b1b2-44db-a22f-5d74cfd48f33"
      },
      "execution_count": 7,
      "outputs": [
        {
          "output_type": "stream",
          "name": "stdout",
          "text": [
            "<class 'pandas.core.frame.DataFrame'>\n",
            "RangeIndex: 8523 entries, 0 to 8522\n",
            "Data columns (total 12 columns):\n",
            " #   Column                     Non-Null Count  Dtype  \n",
            "---  ------                     --------------  -----  \n",
            " 0   Item_Identifier            8523 non-null   object \n",
            " 1   Item_Weight                7060 non-null   float64\n",
            " 2   Item_Fat_Content           8523 non-null   object \n",
            " 3   Item_Visibility            8523 non-null   float64\n",
            " 4   Item_Type                  8523 non-null   object \n",
            " 5   Item_MRP                   8523 non-null   float64\n",
            " 6   Outlet_Identifier          8523 non-null   object \n",
            " 7   Outlet_Establishment_Year  8523 non-null   int64  \n",
            " 8   Outlet_Size                6113 non-null   object \n",
            " 9   Outlet_Location_Type       8523 non-null   object \n",
            " 10  Outlet_Type                8523 non-null   object \n",
            " 11  Item_Outlet_Sales          8523 non-null   float64\n",
            "dtypes: float64(4), int64(1), object(7)\n",
            "memory usage: 799.2+ KB\n"
          ]
        }
      ]
    },
    {
      "cell_type": "markdown",
      "source": [
        "R/ Las columnas a las que le falta datos son Item_Weight y Outlet_Size"
      ],
      "metadata": {
        "id": "twcBDIGcqPWA"
      }
    },
    {
      "cell_type": "code",
      "source": [
        "#5) Decidan cómo abordar los valores faltantes y cómo hacerlo. (Esto requiere sus criterios, así que expliquen su elección).\n",
        "\n",
        "df1 = df.drop(columns=[\"Outlet_Size\",\"Item_Weight\"])\n",
        "\n",
        "#R/considero pertinente eliminar las columnas \"Outlet_Size\" y \"Item_Weight\" dado que no encuentro utilidad de analisis para prediccion de ventas \n",
        "\n",
        "\n"
      ],
      "metadata": {
        "id": "YJEsGMT_3aGO"
      },
      "execution_count": 8,
      "outputs": []
    },
    {
      "cell_type": "code",
      "source": [
        "#6) Confirmen que no hay valores faltantes después de abordarlos.\n",
        "df1.info()\n",
        "\n"
      ],
      "metadata": {
        "colab": {
          "base_uri": "https://localhost:8080/"
        },
        "id": "S9RtXI9m3cRX",
        "outputId": "3f8b2a04-8ead-4722-bc95-e4fda54a8163"
      },
      "execution_count": 9,
      "outputs": [
        {
          "output_type": "stream",
          "name": "stdout",
          "text": [
            "<class 'pandas.core.frame.DataFrame'>\n",
            "RangeIndex: 8523 entries, 0 to 8522\n",
            "Data columns (total 10 columns):\n",
            " #   Column                     Non-Null Count  Dtype  \n",
            "---  ------                     --------------  -----  \n",
            " 0   Item_Identifier            8523 non-null   object \n",
            " 1   Item_Fat_Content           8523 non-null   object \n",
            " 2   Item_Visibility            8523 non-null   float64\n",
            " 3   Item_Type                  8523 non-null   object \n",
            " 4   Item_MRP                   8523 non-null   float64\n",
            " 5   Outlet_Identifier          8523 non-null   object \n",
            " 6   Outlet_Establishment_Year  8523 non-null   int64  \n",
            " 7   Outlet_Location_Type       8523 non-null   object \n",
            " 8   Outlet_Type                8523 non-null   object \n",
            " 9   Item_Outlet_Sales          8523 non-null   float64\n",
            "dtypes: float64(3), int64(1), object(6)\n",
            "memory usage: 666.0+ KB\n"
          ]
        }
      ]
    },
    {
      "cell_type": "markdown",
      "source": [
        "Con se puede ver en el codigo anterior ya no se encuentran datos faltantes, dado que se decidió en el item 5, eliminar las columnas donde se encontraban los datos faltantes "
      ],
      "metadata": {
        "id": "vffGMqEvqhoZ"
      }
    },
    {
      "cell_type": "code",
      "source": [
        "#7) Encuentren y arreglen alguna categoría inconsistente de datos (example: fix cat, Cat, and cats so that they are consistent) \n",
        "\n",
        "df1[\"Item_Fat_Content\"] = df1[\"Item_Fat_Content\"].replace({\"LF\":\"low fat\",\"reg\":\"regular\"})\n",
        "df1[\"Item_Fat_Content\"] = df1[\"Item_Fat_Content\"].str.title()\n",
        "df1[\"Item_Fat_Content\"].unique()\n",
        "\n"
      ],
      "metadata": {
        "colab": {
          "base_uri": "https://localhost:8080/"
        },
        "id": "CL9SNVeq3fRx",
        "outputId": "392ef98d-57bf-4b49-b7c8-e1ae15636e1e"
      },
      "execution_count": 10,
      "outputs": [
        {
          "output_type": "execute_result",
          "data": {
            "text/plain": [
              "array(['Low Fat', 'Regular'], dtype=object)"
            ]
          },
          "metadata": {},
          "execution_count": 10
        }
      ]
    },
    {
      "cell_type": "markdown",
      "source": [
        "En el código anterior, reemplacé las abreviaturas con la palabra completa y luego puse cada letra inicial en mayuscala, para dar como resultado solo 2 variables totales. "
      ],
      "metadata": {
        "id": "GX7rzZKjqvC-"
      }
    },
    {
      "cell_type": "code",
      "source": [
        "#8) Para cualquier columna numérica, obtengan las estadísticas resumidas para cada uno (mínimo, máximo y media)\n",
        "df1.describe()"
      ],
      "metadata": {
        "colab": {
          "base_uri": "https://localhost:8080/",
          "height": 300
        },
        "id": "9m5HDdJc3jNA",
        "outputId": "718f8900-c065-4890-bfe2-be36d252e0ff"
      },
      "execution_count": 11,
      "outputs": [
        {
          "output_type": "execute_result",
          "data": {
            "text/plain": [
              "       Item_Visibility     Item_MRP  Outlet_Establishment_Year  \\\n",
              "count      8523.000000  8523.000000                8523.000000   \n",
              "mean          0.066132   140.992782                1997.831867   \n",
              "std           0.051598    62.275067                   8.371760   \n",
              "min           0.000000    31.290000                1985.000000   \n",
              "25%           0.026989    93.826500                1987.000000   \n",
              "50%           0.053931   143.012800                1999.000000   \n",
              "75%           0.094585   185.643700                2004.000000   \n",
              "max           0.328391   266.888400                2009.000000   \n",
              "\n",
              "       Item_Outlet_Sales  \n",
              "count        8523.000000  \n",
              "mean         2181.288914  \n",
              "std          1706.499616  \n",
              "min            33.290000  \n",
              "25%           834.247400  \n",
              "50%          1794.331000  \n",
              "75%          3101.296400  \n",
              "max         13086.964800  "
            ],
            "text/html": [
              "\n",
              "  <div id=\"df-d31329d5-8e8d-4ebe-9625-28b44a1cb279\">\n",
              "    <div class=\"colab-df-container\">\n",
              "      <div>\n",
              "<style scoped>\n",
              "    .dataframe tbody tr th:only-of-type {\n",
              "        vertical-align: middle;\n",
              "    }\n",
              "\n",
              "    .dataframe tbody tr th {\n",
              "        vertical-align: top;\n",
              "    }\n",
              "\n",
              "    .dataframe thead th {\n",
              "        text-align: right;\n",
              "    }\n",
              "</style>\n",
              "<table border=\"1\" class=\"dataframe\">\n",
              "  <thead>\n",
              "    <tr style=\"text-align: right;\">\n",
              "      <th></th>\n",
              "      <th>Item_Visibility</th>\n",
              "      <th>Item_MRP</th>\n",
              "      <th>Outlet_Establishment_Year</th>\n",
              "      <th>Item_Outlet_Sales</th>\n",
              "    </tr>\n",
              "  </thead>\n",
              "  <tbody>\n",
              "    <tr>\n",
              "      <th>count</th>\n",
              "      <td>8523.000000</td>\n",
              "      <td>8523.000000</td>\n",
              "      <td>8523.000000</td>\n",
              "      <td>8523.000000</td>\n",
              "    </tr>\n",
              "    <tr>\n",
              "      <th>mean</th>\n",
              "      <td>0.066132</td>\n",
              "      <td>140.992782</td>\n",
              "      <td>1997.831867</td>\n",
              "      <td>2181.288914</td>\n",
              "    </tr>\n",
              "    <tr>\n",
              "      <th>std</th>\n",
              "      <td>0.051598</td>\n",
              "      <td>62.275067</td>\n",
              "      <td>8.371760</td>\n",
              "      <td>1706.499616</td>\n",
              "    </tr>\n",
              "    <tr>\n",
              "      <th>min</th>\n",
              "      <td>0.000000</td>\n",
              "      <td>31.290000</td>\n",
              "      <td>1985.000000</td>\n",
              "      <td>33.290000</td>\n",
              "    </tr>\n",
              "    <tr>\n",
              "      <th>25%</th>\n",
              "      <td>0.026989</td>\n",
              "      <td>93.826500</td>\n",
              "      <td>1987.000000</td>\n",
              "      <td>834.247400</td>\n",
              "    </tr>\n",
              "    <tr>\n",
              "      <th>50%</th>\n",
              "      <td>0.053931</td>\n",
              "      <td>143.012800</td>\n",
              "      <td>1999.000000</td>\n",
              "      <td>1794.331000</td>\n",
              "    </tr>\n",
              "    <tr>\n",
              "      <th>75%</th>\n",
              "      <td>0.094585</td>\n",
              "      <td>185.643700</td>\n",
              "      <td>2004.000000</td>\n",
              "      <td>3101.296400</td>\n",
              "    </tr>\n",
              "    <tr>\n",
              "      <th>max</th>\n",
              "      <td>0.328391</td>\n",
              "      <td>266.888400</td>\n",
              "      <td>2009.000000</td>\n",
              "      <td>13086.964800</td>\n",
              "    </tr>\n",
              "  </tbody>\n",
              "</table>\n",
              "</div>\n",
              "      <button class=\"colab-df-convert\" onclick=\"convertToInteractive('df-d31329d5-8e8d-4ebe-9625-28b44a1cb279')\"\n",
              "              title=\"Convert this dataframe to an interactive table.\"\n",
              "              style=\"display:none;\">\n",
              "        \n",
              "  <svg xmlns=\"http://www.w3.org/2000/svg\" height=\"24px\"viewBox=\"0 0 24 24\"\n",
              "       width=\"24px\">\n",
              "    <path d=\"M0 0h24v24H0V0z\" fill=\"none\"/>\n",
              "    <path d=\"M18.56 5.44l.94 2.06.94-2.06 2.06-.94-2.06-.94-.94-2.06-.94 2.06-2.06.94zm-11 1L8.5 8.5l.94-2.06 2.06-.94-2.06-.94L8.5 2.5l-.94 2.06-2.06.94zm10 10l.94 2.06.94-2.06 2.06-.94-2.06-.94-.94-2.06-.94 2.06-2.06.94z\"/><path d=\"M17.41 7.96l-1.37-1.37c-.4-.4-.92-.59-1.43-.59-.52 0-1.04.2-1.43.59L10.3 9.45l-7.72 7.72c-.78.78-.78 2.05 0 2.83L4 21.41c.39.39.9.59 1.41.59.51 0 1.02-.2 1.41-.59l7.78-7.78 2.81-2.81c.8-.78.8-2.07 0-2.86zM5.41 20L4 18.59l7.72-7.72 1.47 1.35L5.41 20z\"/>\n",
              "  </svg>\n",
              "      </button>\n",
              "      \n",
              "  <style>\n",
              "    .colab-df-container {\n",
              "      display:flex;\n",
              "      flex-wrap:wrap;\n",
              "      gap: 12px;\n",
              "    }\n",
              "\n",
              "    .colab-df-convert {\n",
              "      background-color: #E8F0FE;\n",
              "      border: none;\n",
              "      border-radius: 50%;\n",
              "      cursor: pointer;\n",
              "      display: none;\n",
              "      fill: #1967D2;\n",
              "      height: 32px;\n",
              "      padding: 0 0 0 0;\n",
              "      width: 32px;\n",
              "    }\n",
              "\n",
              "    .colab-df-convert:hover {\n",
              "      background-color: #E2EBFA;\n",
              "      box-shadow: 0px 1px 2px rgba(60, 64, 67, 0.3), 0px 1px 3px 1px rgba(60, 64, 67, 0.15);\n",
              "      fill: #174EA6;\n",
              "    }\n",
              "\n",
              "    [theme=dark] .colab-df-convert {\n",
              "      background-color: #3B4455;\n",
              "      fill: #D2E3FC;\n",
              "    }\n",
              "\n",
              "    [theme=dark] .colab-df-convert:hover {\n",
              "      background-color: #434B5C;\n",
              "      box-shadow: 0px 1px 3px 1px rgba(0, 0, 0, 0.15);\n",
              "      filter: drop-shadow(0px 1px 2px rgba(0, 0, 0, 0.3));\n",
              "      fill: #FFFFFF;\n",
              "    }\n",
              "  </style>\n",
              "\n",
              "      <script>\n",
              "        const buttonEl =\n",
              "          document.querySelector('#df-d31329d5-8e8d-4ebe-9625-28b44a1cb279 button.colab-df-convert');\n",
              "        buttonEl.style.display =\n",
              "          google.colab.kernel.accessAllowed ? 'block' : 'none';\n",
              "\n",
              "        async function convertToInteractive(key) {\n",
              "          const element = document.querySelector('#df-d31329d5-8e8d-4ebe-9625-28b44a1cb279');\n",
              "          const dataTable =\n",
              "            await google.colab.kernel.invokeFunction('convertToInteractive',\n",
              "                                                     [key], {});\n",
              "          if (!dataTable) return;\n",
              "\n",
              "          const docLinkHtml = 'Like what you see? Visit the ' +\n",
              "            '<a target=\"_blank\" href=https://colab.research.google.com/notebooks/data_table.ipynb>data table notebook</a>'\n",
              "            + ' to learn more about interactive tables.';\n",
              "          element.innerHTML = '';\n",
              "          dataTable['output_type'] = 'display_data';\n",
              "          await google.colab.output.renderOutput(dataTable, element);\n",
              "          const docLink = document.createElement('div');\n",
              "          docLink.innerHTML = docLinkHtml;\n",
              "          element.appendChild(docLink);\n",
              "        }\n",
              "      </script>\n",
              "    </div>\n",
              "  </div>\n",
              "  "
            ]
          },
          "metadata": {},
          "execution_count": 11
        }
      ]
    },
    {
      "cell_type": "code",
      "source": [
        "plt.style.use('seaborn')\n",
        "df1[\"Outlet_Type\"].hist(bins=20, \n",
        "                    color=\"green\", \n",
        "                    label = \"tipo de tienda\", \n",
        "                    alpha = .5)\n",
        "\n",
        "plt.legend()\n",
        "plt.xlabel(\"Ventas\", fontsize=20)\n",
        "plt.ylabel(\"Count\", fontsize =20)\n",
        "\n",
        "#ECon este histograma, podemos ver que en el supermercado tipo 1 hay mayor concentración de datos, ahora abien, \n",
        "#no se puede determinar si esto es porque presenta mas ventas y por ende mayor ganancias, o es porque es el tipo de tiendas mas frecuente en el data frame\n",
        "\n"
      ],
      "metadata": {
        "colab": {
          "base_uri": "https://localhost:8080/",
          "height": 388
        },
        "id": "5gPIHXKhDVq0",
        "outputId": "93b49870-3742-490f-8a2b-3a7c51a04c06"
      },
      "execution_count": 12,
      "outputs": [
        {
          "output_type": "execute_result",
          "data": {
            "text/plain": [
              "Text(0, 0.5, 'Count')"
            ]
          },
          "metadata": {},
          "execution_count": 12
        },
        {
          "output_type": "display_data",
          "data": {
            "text/plain": [
              "<Figure size 576x396 with 1 Axes>"
            ],
            "image/png": "[encoded data removed]"
          },
          "metadata": {}
        }
      ]
    },
    {
      "cell_type": "code",
      "source": [
        "\n",
        "sns.boxplot(data=df1, x=\"Outlet_Type\", y=\"Item_Outlet_Sales\", palette=\"pastel\")\n",
        "plt.xticks(rotation = 45)\n",
        "plt.show\n",
        "\n",
        "#Con este grafico se puede observar que Supermarket type 3 es el tipo de tienda que mas ganancia de ventas tiene y que grocery store es donde menos se regristra ventas. \n",
        "#si comparamos con lo que se pudo observar con el histograma en el punto anterior, se puede concluir que supermarket type 1 no es el tipo de tiendan que mas vende\n",
        "#pero si es el que mas datos concentrados tiene. \n",
        "#Tambien se podria concluir con este tipo de visualización que existen mucho datos outliers, seria importante realizar un analisis del cual es el producto que mas\n",
        "#vende en cada tipo de tienda\n",
        "\n"
      ],
      "metadata": {
        "colab": {
          "base_uri": "https://localhost:8080/",
          "height": 437
        },
        "id": "f7rqi55oz7Io",
        "outputId": "bfe5ec5e-d1c1-48a9-ebb4-ee84d0bd14b5"
      },
      "execution_count": 13,
      "outputs": [
        {
          "output_type": "execute_result",
          "data": {
            "text/plain": [
              "<function matplotlib.pyplot.show(*args, **kw)>"
            ]
          },
          "metadata": {},
          "execution_count": 13
        },
        {
          "output_type": "display_data",
          "data": {
            "text/plain": [
              "<Figure size 576x396 with 1 Axes>"
            ],
            "image/png": "[encoded data removed]"
          },
          "metadata": {}
        }
      ]
    },
    {
      "cell_type": "code",
      "source": [
        "supermark1= df[df[\"Outlet_Type\"]==\"Supermarket Type1\"]\n",
        "serie1= supermark1[\"Item_Type\"].value_counts()\n",
        "\n",
        "supermark2= df[df[\"Outlet_Type\"]==\"Supermarket Type2\"]\n",
        "serie2= supermark2[\"Item_Type\"].value_counts()\n",
        "\n",
        "supermark3= df[df[\"Outlet_Type\"]==\"Supermarket Type3\"]\n",
        "serie3= supermark2[\"Item_Type\"].value_counts()\n",
        "\n",
        "grocery= df[df[\"Outlet_Type\"]==\"Grocery Store\"]\n",
        "serie4= grocery[\"Item_Type\"].value_counts()\n",
        "\n",
        "fig = plt.figure(figsize=(20, 6))\n",
        "\n",
        "plt.subplot(2,4,1);\n",
        "\n",
        "plt.plot(serie1[:], color=\"orange\")\n",
        "plt.xticks(rotation=90)\n",
        "plt.title(\"Supermarket type 1\")\n",
        "\n",
        "plt.subplot(2,4,2);\n",
        "\n",
        "plt.plot(serie2[:], color=\"blue\")\n",
        "plt.xticks(rotation=90)\n",
        "plt.title(\"Supermarket type 2\")\n",
        "\n",
        "plt.subplot(2,4,3);\n",
        "\n",
        "plt.plot(serie3[:], color=\"purple\")\n",
        "plt.xticks(rotation=90)\n",
        "plt.title(\"Supermarket type 3\")\n",
        "\n",
        "plt.subplot(2,4,4);\n",
        "plt.plot(serie4[:], color=\"green\")\n",
        "plt.xticks(rotation=90)\n",
        "plt.title(\"Grocery Store\")\n",
        "\n",
        "\n",
        "\n"
      ],
      "metadata": {
        "colab": {
          "base_uri": "https://localhost:8080/",
          "height": 316
        },
        "id": "58hQvX80SzEZ",
        "outputId": "87085b06-7446-4e61-d757-e95ac3232683"
      },
      "execution_count": 14,
      "outputs": [
        {
          "output_type": "execute_result",
          "data": {
            "text/plain": [
              "Text(0.5, 1.0, 'Grocery Store')"
            ]
          },
          "metadata": {},
          "execution_count": 14
        },
        {
          "output_type": "display_data",
          "data": {
            "text/plain": [
              "<Figure size 1440x432 with 4 Axes>"
            ],
            "image/png": "[encoded data removed]"
          },
          "metadata": {}
        }
      ]
    },
    {
      "cell_type": "code",
      "source": [
        "#Se puede observar en la gráfica anterior como todos las tiendas sin importar el tipo lo que mas se vende son las frutas y verduras, y lo que menos se vende es la comida de mar. \n",
        "#Tambien podemos observar que la tienda que mas vende cada uno de los prodcutos es el supermercado tipo 1 \n",
        "#El supermercado tipo 2 y tipo 3 tienden a vender en igual cantidad cada uno de los productos que se ofrece\n",
        "#Si comparamos los resultados de este gáfico con el anterior (boxplot) podemos ver como a pesar de que el supermercado tipo 1 sea el que mas venda cada producto, no es el que mas genera ganancia de ventas\n",
        "#sino que este lo hace el supermercado tipo 3. Seria importante saber cual es valor en cada tipo de tienda para cada producto, sin embargo dicha variable no se encuentra en nuestro data frame. "
      ],
      "metadata": {
        "id": "djY9--E7l--6"
      },
      "execution_count": 15,
      "outputs": []
    },
    {
      "cell_type": "code",
      "source": [
        "corr = df1.corr()\n",
        "\n",
        "plt.figure(figsize=(10, 6))\n",
        "sns.heatmap(corr, cmap = \"gray\", annot=True)\n",
        "plt.show()\n",
        "\n",
        "#La correlación que hay entre el precio maximo de venta de un producto al publico y las ventas del producto en una tienda particular es moderada de forma positiva"
      ],
      "metadata": {
        "colab": {
          "base_uri": "https://localhost:8080/",
          "height": 378
        },
        "id": "fkyAV3EaIN2g",
        "outputId": "030d1230-d99b-4d98-ad88-2109155bd29d"
      },
      "execution_count": 81,
      "outputs": [
        {
          "output_type": "display_data",
          "data": {
            "text/plain": [
              "<Figure size 720x432 with 2 Axes>"
            ],
            "image/png": "[encoded data removed]"
          },
          "metadata": {}
        }
      ]
    },
    {
      "cell_type": "markdown",
      "source": [
        "Se importará las bibliotecas necesarias para preparar el data frame para un aprendizaje automático. "
      ],
      "metadata": {
        "id": "kmcNELuhsF2V"
      }
    },
    {
      "cell_type": "code",
      "source": [
        "from google.colab import drive\n",
        "drive.mount('/content/drive')\n",
        "\n",
        "import pandas as pd\n",
        "import numpy as np\n",
        "from sklearn.model_selection import train_test_split\n",
        "from sklearn.compose import make_column_selector, make_column_transformer\n",
        "from sklearn.preprocessing import StandardScaler, OneHotEncoder, OrdinalEncoder\n",
        "from sklearn.impute import SimpleImputer\n",
        "from sklearn.pipeline import make_pipeline\n",
        "from sklearn.linear_model import LinearRegression\n",
        "from sklearn.tree import DecisionTreeRegressor\n",
        "from sklearn.metrics import r2_score\n",
        "from sklearn.metrics import mean_absolute_error\n",
        "from sklearn.metrics import mean_squared_error\n",
        "from sklearn import set_config\n",
        "set_config(display='diagram')"
      ],
      "metadata": {
        "colab": {
          "base_uri": "https://localhost:8080/"
        },
        "id": "dI_WyccCsM3Z",
        "outputId": "244bde6b-7c1d-434e-88b6-feccdf5705d5"
      },
      "execution_count": 17,
      "outputs": [
        {
          "output_type": "stream",
          "name": "stdout",
          "text": [
            "Drive already mounted at /content/drive; to attempt to forcibly remount, call drive.mount(\"/content/drive\", force_remount=True).\n"
          ]
        }
      ]
    },
    {
      "cell_type": "markdown",
      "source": [
        "Se regresará al conjunto de datos original con el objetivo de evitar una fuga de datos.  "
      ],
      "metadata": {
        "id": "oERtSOKzoicW"
      }
    },
    {
      "cell_type": "code",
      "source": [
        "filename =\"/content/drive/MyDrive/Data Science/datos/sales_predictions.csv\"\n",
        "df = pd.read_csv(filename)\n",
        "df.head()"
      ],
      "metadata": {
        "colab": {
          "base_uri": "https://localhost:8080/",
          "height": 357
        },
        "id": "M4Bp_Kz7xxFY",
        "outputId": "ea2c7abe-373f-4abc-cac0-5f592e3d0c86"
      },
      "execution_count": 18,
      "outputs": [
        {
          "output_type": "execute_result",
          "data": {
            "text/plain": [
              "  Item_Identifier  Item_Weight Item_Fat_Content  Item_Visibility  \\\n",
              "0           FDA15         9.30          Low Fat         0.016047   \n",
              "1           DRC01         5.92          Regular         0.019278   \n",
              "2           FDN15        17.50          Low Fat         0.016760   \n",
              "3           FDX07        19.20          Regular         0.000000   \n",
              "4           NCD19         8.93          Low Fat         0.000000   \n",
              "\n",
              "               Item_Type  Item_MRP Outlet_Identifier  \\\n",
              "0                  Dairy  249.8092            OUT049   \n",
              "1            Soft Drinks   48.2692            OUT018   \n",
              "2                   Meat  141.6180            OUT049   \n",
              "3  Fruits and Vegetables  182.0950            OUT010   \n",
              "4              Household   53.8614            OUT013   \n",
              "\n",
              "   Outlet_Establishment_Year Outlet_Size Outlet_Location_Type  \\\n",
              "0                       1999      Medium               Tier 1   \n",
              "1                       2009      Medium               Tier 3   \n",
              "2                       1999      Medium               Tier 1   \n",
              "3                       1998         NaN               Tier 3   \n",
              "4                       1987        High               Tier 3   \n",
              "\n",
              "         Outlet_Type  Item_Outlet_Sales  \n",
              "0  Supermarket Type1          3735.1380  \n",
              "1  Supermarket Type2           443.4228  \n",
              "2  Supermarket Type1          2097.2700  \n",
              "3      Grocery Store           732.3800  \n",
              "4  Supermarket Type1           994.7052  "
            ],
            "text/html": [
              "\n",
              "  <div id=\"df-ac8098d6-ca03-401f-9bd7-73ad1f1a2b52\">\n",
              "    <div class=\"colab-df-container\">\n",
              "      <div>\n",
              "<style scoped>\n",
              "    .dataframe tbody tr th:only-of-type {\n",
              "        vertical-align: middle;\n",
              "    }\n",
              "\n",
              "    .dataframe tbody tr th {\n",
              "        vertical-align: top;\n",
              "    }\n",
              "\n",
              "    .dataframe thead th {\n",
              "        text-align: right;\n",
              "    }\n",
              "</style>\n",
              "<table border=\"1\" class=\"dataframe\">\n",
              "  <thead>\n",
              "    <tr style=\"text-align: right;\">\n",
              "      <th></th>\n",
              "      <th>Item_Identifier</th>\n",
              "      <th>Item_Weight</th>\n",
              "      <th>Item_Fat_Content</th>\n",
              "      <th>Item_Visibility</th>\n",
              "      <th>Item_Type</th>\n",
              "      <th>Item_MRP</th>\n",
              "      <th>Outlet_Identifier</th>\n",
              "      <th>Outlet_Establishment_Year</th>\n",
              "      <th>Outlet_Size</th>\n",
              "      <th>Outlet_Location_Type</th>\n",
              "      <th>Outlet_Type</th>\n",
              "      <th>Item_Outlet_Sales</th>\n",
              "    </tr>\n",
              "  </thead>\n",
              "  <tbody>\n",
              "    <tr>\n",
              "      <th>0</th>\n",
              "      <td>FDA15</td>\n",
              "      <td>9.30</td>\n",
              "      <td>Low Fat</td>\n",
              "      <td>0.016047</td>\n",
              "      <td>Dairy</td>\n",
              "      <td>249.8092</td>\n",
              "      <td>OUT049</td>\n",
              "      <td>1999</td>\n",
              "      <td>Medium</td>\n",
              "      <td>Tier 1</td>\n",
              "      <td>Supermarket Type1</td>\n",
              "      <td>3735.1380</td>\n",
              "    </tr>\n",
              "    <tr>\n",
              "      <th>1</th>\n",
              "      <td>DRC01</td>\n",
              "      <td>5.92</td>\n",
              "      <td>Regular</td>\n",
              "      <td>0.019278</td>\n",
              "      <td>Soft Drinks</td>\n",
              "      <td>48.2692</td>\n",
              "      <td>OUT018</td>\n",
              "      <td>2009</td>\n",
              "      <td>Medium</td>\n",
              "      <td>Tier 3</td>\n",
              "      <td>Supermarket Type2</td>\n",
              "      <td>443.4228</td>\n",
              "    </tr>\n",
              "    <tr>\n",
              "      <th>2</th>\n",
              "      <td>FDN15</td>\n",
              "      <td>17.50</td>\n",
              "      <td>Low Fat</td>\n",
              "      <td>0.016760</td>\n",
              "      <td>Meat</td>\n",
              "      <td>141.6180</td>\n",
              "      <td>OUT049</td>\n",
              "      <td>1999</td>\n",
              "      <td>Medium</td>\n",
              "      <td>Tier 1</td>\n",
              "      <td>Supermarket Type1</td>\n",
              "      <td>2097.2700</td>\n",
              "    </tr>\n",
              "    <tr>\n",
              "      <th>3</th>\n",
              "      <td>FDX07</td>\n",
              "      <td>19.20</td>\n",
              "      <td>Regular</td>\n",
              "      <td>0.000000</td>\n",
              "      <td>Fruits and Vegetables</td>\n",
              "      <td>182.0950</td>\n",
              "      <td>OUT010</td>\n",
              "      <td>1998</td>\n",
              "      <td>NaN</td>\n",
              "      <td>Tier 3</td>\n",
              "      <td>Grocery Store</td>\n",
              "      <td>732.3800</td>\n",
              "    </tr>\n",
              "    <tr>\n",
              "      <th>4</th>\n",
              "      <td>NCD19</td>\n",
              "      <td>8.93</td>\n",
              "      <td>Low Fat</td>\n",
              "      <td>0.000000</td>\n",
              "      <td>Household</td>\n",
              "      <td>53.8614</td>\n",
              "      <td>OUT013</td>\n",
              "      <td>1987</td>\n",
              "      <td>High</td>\n",
              "      <td>Tier 3</td>\n",
              "      <td>Supermarket Type1</td>\n",
              "      <td>994.7052</td>\n",
              "    </tr>\n",
              "  </tbody>\n",
              "</table>\n",
              "</div>\n",
              "      <button class=\"colab-df-convert\" onclick=\"convertToInteractive('df-ac8098d6-ca03-401f-9bd7-73ad1f1a2b52')\"\n",
              "              title=\"Convert this dataframe to an interactive table.\"\n",
              "              style=\"display:none;\">\n",
              "        \n",
              "  <svg xmlns=\"http://www.w3.org/2000/svg\" height=\"24px\"viewBox=\"0 0 24 24\"\n",
              "       width=\"24px\">\n",
              "    <path d=\"M0 0h24v24H0V0z\" fill=\"none\"/>\n",
              "    <path d=\"M18.56 5.44l.94 2.06.94-2.06 2.06-.94-2.06-.94-.94-2.06-.94 2.06-2.06.94zm-11 1L8.5 8.5l.94-2.06 2.06-.94-2.06-.94L8.5 2.5l-.94 2.06-2.06.94zm10 10l.94 2.06.94-2.06 2.06-.94-2.06-.94-.94-2.06-.94 2.06-2.06.94z\"/><path d=\"M17.41 7.96l-1.37-1.37c-.4-.4-.92-.59-1.43-.59-.52 0-1.04.2-1.43.59L10.3 9.45l-7.72 7.72c-.78.78-.78 2.05 0 2.83L4 21.41c.39.39.9.59 1.41.59.51 0 1.02-.2 1.41-.59l7.78-7.78 2.81-2.81c.8-.78.8-2.07 0-2.86zM5.41 20L4 18.59l7.72-7.72 1.47 1.35L5.41 20z\"/>\n",
              "  </svg>\n",
              "      </button>\n",
              "      \n",
              "  <style>\n",
              "    .colab-df-container {\n",
              "      display:flex;\n",
              "      flex-wrap:wrap;\n",
              "      gap: 12px;\n",
              "    }\n",
              "\n",
              "    .colab-df-convert {\n",
              "      background-color: #E8F0FE;\n",
              "      border: none;\n",
              "      border-radius: 50%;\n",
              "      cursor: pointer;\n",
              "      display: none;\n",
              "      fill: #1967D2;\n",
              "      height: 32px;\n",
              "      padding: 0 0 0 0;\n",
              "      width: 32px;\n",
              "    }\n",
              "\n",
              "    .colab-df-convert:hover {\n",
              "      background-color: #E2EBFA;\n",
              "      box-shadow: 0px 1px 2px rgba(60, 64, 67, 0.3), 0px 1px 3px 1px rgba(60, 64, 67, 0.15);\n",
              "      fill: #174EA6;\n",
              "    }\n",
              "\n",
              "    [theme=dark] .colab-df-convert {\n",
              "      background-color: #3B4455;\n",
              "      fill: #D2E3FC;\n",
              "    }\n",
              "\n",
              "    [theme=dark] .colab-df-convert:hover {\n",
              "      background-color: #434B5C;\n",
              "      box-shadow: 0px 1px 3px 1px rgba(0, 0, 0, 0.15);\n",
              "      filter: drop-shadow(0px 1px 2px rgba(0, 0, 0, 0.3));\n",
              "      fill: #FFFFFF;\n",
              "    }\n",
              "  </style>\n",
              "\n",
              "      <script>\n",
              "        const buttonEl =\n",
              "          document.querySelector('#df-ac8098d6-ca03-401f-9bd7-73ad1f1a2b52 button.colab-df-convert');\n",
              "        buttonEl.style.display =\n",
              "          google.colab.kernel.accessAllowed ? 'block' : 'none';\n",
              "\n",
              "        async function convertToInteractive(key) {\n",
              "          const element = document.querySelector('#df-ac8098d6-ca03-401f-9bd7-73ad1f1a2b52');\n",
              "          const dataTable =\n",
              "            await google.colab.kernel.invokeFunction('convertToInteractive',\n",
              "                                                     [key], {});\n",
              "          if (!dataTable) return;\n",
              "\n",
              "          const docLinkHtml = 'Like what you see? Visit the ' +\n",
              "            '<a target=\"_blank\" href=https://colab.research.google.com/notebooks/data_table.ipynb>data table notebook</a>'\n",
              "            + ' to learn more about interactive tables.';\n",
              "          element.innerHTML = '';\n",
              "          dataTable['output_type'] = 'display_data';\n",
              "          await google.colab.output.renderOutput(dataTable, element);\n",
              "          const docLink = document.createElement('div');\n",
              "          docLink.innerHTML = docLinkHtml;\n",
              "          element.appendChild(docLink);\n",
              "        }\n",
              "      </script>\n",
              "    </div>\n",
              "  </div>\n",
              "  "
            ]
          },
          "metadata": {},
          "execution_count": 18
        }
      ]
    },
    {
      "cell_type": "code",
      "source": [
        "df[\"Item_Fat_Content\"] = df[\"Item_Fat_Content\"].replace({\"LF\":\"low fat\",\"reg\":\"regular\"})\n",
        "df[\"Item_Fat_Content\"] = df[\"Item_Fat_Content\"].str.title()\n",
        "df[\"Item_Fat_Content\"].unique()"
      ],
      "metadata": {
        "colab": {
          "base_uri": "https://localhost:8080/"
        },
        "id": "l9UShV3erJnA",
        "outputId": "c6313229-2d57-4071-a5f7-965bc54d991e"
      },
      "execution_count": 19,
      "outputs": [
        {
          "output_type": "execute_result",
          "data": {
            "text/plain": [
              "array(['Low Fat', 'Regular'], dtype=object)"
            ]
          },
          "metadata": {},
          "execution_count": 19
        }
      ]
    },
    {
      "cell_type": "markdown",
      "source": [
        "Al traer nuevamente el data frame original, los cambios antes establecidos no se mantuvieron, por lo cual, consideré pertinente volver a corregir la categoría que presentaba inconsistencia de datos, antes de preparar el data para un aprendizaje automático.  "
      ],
      "metadata": {
        "id": "VLkMe1qbrQ8v"
      }
    },
    {
      "cell_type": "markdown",
      "source": [
        "Nota: Si imputaron los valores faltantes basados en un cálculo en todo el conjunto de datos (como la media), ahora deben realizar ese paso después de hacer train test split usando SimpleImputer. "
      ],
      "metadata": {
        "id": "rkD_iwMEowBt"
      }
    },
    {
      "cell_type": "markdown",
      "source": [
        "1. Identifiquen el objetivo (X) y las características (y): Asignen la columna \"Item_Outlet_Sales\" como el objetivo y el resto de las variables relevantes como el matriz de características. "
      ],
      "metadata": {
        "id": "mbZFDOzPo1Bw"
      }
    },
    {
      "cell_type": "code",
      "source": [
        "y = df[\"Item_Outlet_Sales\"]\n",
        "X = df.drop(columns=\"Item_Outlet_Sales\")"
      ],
      "metadata": {
        "id": "quYgLHF3pk0D"
      },
      "execution_count": 20,
      "outputs": []
    },
    {
      "cell_type": "markdown",
      "source": [
        "Como la columna objetivo es \"Item_Outlet_Sales\" esta se asignó a la variable y, y las demas columnas seran la matriz para predecir las ventas de productos en dichas tiendas.  "
      ],
      "metadata": {
        "id": "eruscUdvsnF-"
      }
    },
    {
      "cell_type": "markdown",
      "source": [
        "2. Realicen un train test split"
      ],
      "metadata": {
        "id": "kVwnr8x1o5TU"
      }
    },
    {
      "cell_type": "code",
      "source": [
        "X_train, X_test, y_train, y_test = train_test_split(X, y, random_state=42)\n",
        "X_train"
      ],
      "metadata": {
        "colab": {
          "base_uri": "https://localhost:8080/",
          "height": 661
        },
        "id": "XihCFcArr_es",
        "outputId": "b664db88-c4df-439c-d5bf-7f53d7e96f42"
      },
      "execution_count": 21,
      "outputs": [
        {
          "output_type": "execute_result",
          "data": {
            "text/plain": [
              "     Item_Identifier  Item_Weight Item_Fat_Content  Item_Visibility  \\\n",
              "4776           NCG06       16.350          Low Fat         0.029565   \n",
              "7510           FDV57       15.250          Regular         0.000000   \n",
              "5828           FDM27       12.350          Regular         0.158716   \n",
              "5327           FDG24        7.975          Low Fat         0.014628   \n",
              "4810           FDD05       19.350          Low Fat         0.016645   \n",
              "...              ...          ...              ...              ...   \n",
              "5734           FDY08        9.395          Regular         0.286345   \n",
              "5191           FDC41       15.600          Low Fat         0.117575   \n",
              "5390           NCQ53       17.600          Low Fat         0.018944   \n",
              "860            FDL46       20.350          Low Fat         0.054363   \n",
              "7270           NCN30       16.350          Low Fat         0.016993   \n",
              "\n",
              "                  Item_Type  Item_MRP Outlet_Identifier  \\\n",
              "4776              Household  256.4646            OUT018   \n",
              "7510            Snack Foods  179.7660            OUT018   \n",
              "5828                   Meat  157.2946            OUT049   \n",
              "5327           Baking Goods   82.3250            OUT035   \n",
              "4810           Frozen Foods  120.9098            OUT045   \n",
              "...                     ...       ...               ...   \n",
              "5734  Fruits and Vegetables  139.1838            OUT010   \n",
              "5191           Frozen Foods   75.6670            OUT017   \n",
              "5390     Health and Hygiene  237.3590            OUT045   \n",
              "860             Snack Foods  117.9466            OUT017   \n",
              "7270              Household   95.7410            OUT046   \n",
              "\n",
              "      Outlet_Establishment_Year Outlet_Size Outlet_Location_Type  \\\n",
              "4776                       2009      Medium               Tier 3   \n",
              "7510                       2009      Medium               Tier 3   \n",
              "5828                       1999      Medium               Tier 1   \n",
              "5327                       2004       Small               Tier 2   \n",
              "4810                       2002         NaN               Tier 2   \n",
              "...                         ...         ...                  ...   \n",
              "5734                       1998         NaN               Tier 3   \n",
              "5191                       2007         NaN               Tier 2   \n",
              "5390                       2002         NaN               Tier 2   \n",
              "860                        2007         NaN               Tier 2   \n",
              "7270                       1997       Small               Tier 1   \n",
              "\n",
              "            Outlet_Type  \n",
              "4776  Supermarket Type2  \n",
              "7510  Supermarket Type2  \n",
              "5828  Supermarket Type1  \n",
              "5327  Supermarket Type1  \n",
              "4810  Supermarket Type1  \n",
              "...                 ...  \n",
              "5734      Grocery Store  \n",
              "5191  Supermarket Type1  \n",
              "5390  Supermarket Type1  \n",
              "860   Supermarket Type1  \n",
              "7270  Supermarket Type1  \n",
              "\n",
              "[6392 rows x 11 columns]"
            ],
            "text/html": [
              "\n",
              "  <div id=\"df-4cbebae7-90c5-4ae1-8105-50b393dd440b\">\n",
              "    <div class=\"colab-df-container\">\n",
              "      <div>\n",
              "<style scoped>\n",
              "    .dataframe tbody tr th:only-of-type {\n",
              "        vertical-align: middle;\n",
              "    }\n",
              "\n",
              "    .dataframe tbody tr th {\n",
              "        vertical-align: top;\n",
              "    }\n",
              "\n",
              "    .dataframe thead th {\n",
              "        text-align: right;\n",
              "    }\n",
              "</style>\n",
              "<table border=\"1\" class=\"dataframe\">\n",
              "  <thead>\n",
              "    <tr style=\"text-align: right;\">\n",
              "      <th></th>\n",
              "      <th>Item_Identifier</th>\n",
              "      <th>Item_Weight</th>\n",
              "      <th>Item_Fat_Content</th>\n",
              "      <th>Item_Visibility</th>\n",
              "      <th>Item_Type</th>\n",
              "      <th>Item_MRP</th>\n",
              "      <th>Outlet_Identifier</th>\n",
              "      <th>Outlet_Establishment_Year</th>\n",
              "      <th>Outlet_Size</th>\n",
              "      <th>Outlet_Location_Type</th>\n",
              "      <th>Outlet_Type</th>\n",
              "    </tr>\n",
              "  </thead>\n",
              "  <tbody>\n",
              "    <tr>\n",
              "      <th>4776</th>\n",
              "      <td>NCG06</td>\n",
              "      <td>16.350</td>\n",
              "      <td>Low Fat</td>\n",
              "      <td>0.029565</td>\n",
              "      <td>Household</td>\n",
              "      <td>256.4646</td>\n",
              "      <td>OUT018</td>\n",
              "      <td>2009</td>\n",
              "      <td>Medium</td>\n",
              "      <td>Tier 3</td>\n",
              "      <td>Supermarket Type2</td>\n",
              "    </tr>\n",
              "    <tr>\n",
              "      <th>7510</th>\n",
              "      <td>FDV57</td>\n",
              "      <td>15.250</td>\n",
              "      <td>Regular</td>\n",
              "      <td>0.000000</td>\n",
              "      <td>Snack Foods</td>\n",
              "      <td>179.7660</td>\n",
              "      <td>OUT018</td>\n",
              "      <td>2009</td>\n",
              "      <td>Medium</td>\n",
              "      <td>Tier 3</td>\n",
              "      <td>Supermarket Type2</td>\n",
              "    </tr>\n",
              "    <tr>\n",
              "      <th>5828</th>\n",
              "      <td>FDM27</td>\n",
              "      <td>12.350</td>\n",
              "      <td>Regular</td>\n",
              "      <td>0.158716</td>\n",
              "      <td>Meat</td>\n",
              "      <td>157.2946</td>\n",
              "      <td>OUT049</td>\n",
              "      <td>1999</td>\n",
              "      <td>Medium</td>\n",
              "      <td>Tier 1</td>\n",
              "      <td>Supermarket Type1</td>\n",
              "    </tr>\n",
              "    <tr>\n",
              "      <th>5327</th>\n",
              "      <td>FDG24</td>\n",
              "      <td>7.975</td>\n",
              "      <td>Low Fat</td>\n",
              "      <td>0.014628</td>\n",
              "      <td>Baking Goods</td>\n",
              "      <td>82.3250</td>\n",
              "      <td>OUT035</td>\n",
              "      <td>2004</td>\n",
              "      <td>Small</td>\n",
              "      <td>Tier 2</td>\n",
              "      <td>Supermarket Type1</td>\n",
              "    </tr>\n",
              "    <tr>\n",
              "      <th>4810</th>\n",
              "      <td>FDD05</td>\n",
              "      <td>19.350</td>\n",
              "      <td>Low Fat</td>\n",
              "      <td>0.016645</td>\n",
              "      <td>Frozen Foods</td>\n",
              "      <td>120.9098</td>\n",
              "      <td>OUT045</td>\n",
              "      <td>2002</td>\n",
              "      <td>NaN</td>\n",
              "      <td>Tier 2</td>\n",
              "      <td>Supermarket Type1</td>\n",
              "    </tr>\n",
              "    <tr>\n",
              "      <th>...</th>\n",
              "      <td>...</td>\n",
              "      <td>...</td>\n",
              "      <td>...</td>\n",
              "      <td>...</td>\n",
              "      <td>...</td>\n",
              "      <td>...</td>\n",
              "      <td>...</td>\n",
              "      <td>...</td>\n",
              "      <td>...</td>\n",
              "      <td>...</td>\n",
              "      <td>...</td>\n",
              "    </tr>\n",
              "    <tr>\n",
              "      <th>5734</th>\n",
              "      <td>FDY08</td>\n",
              "      <td>9.395</td>\n",
              "      <td>Regular</td>\n",
              "      <td>0.286345</td>\n",
              "      <td>Fruits and Vegetables</td>\n",
              "      <td>139.1838</td>\n",
              "      <td>OUT010</td>\n",
              "      <td>1998</td>\n",
              "      <td>NaN</td>\n",
              "      <td>Tier 3</td>\n",
              "      <td>Grocery Store</td>\n",
              "    </tr>\n",
              "    <tr>\n",
              "      <th>5191</th>\n",
              "      <td>FDC41</td>\n",
              "      <td>15.600</td>\n",
              "      <td>Low Fat</td>\n",
              "      <td>0.117575</td>\n",
              "      <td>Frozen Foods</td>\n",
              "      <td>75.6670</td>\n",
              "      <td>OUT017</td>\n",
              "      <td>2007</td>\n",
              "      <td>NaN</td>\n",
              "      <td>Tier 2</td>\n",
              "      <td>Supermarket Type1</td>\n",
              "    </tr>\n",
              "    <tr>\n",
              "      <th>5390</th>\n",
              "      <td>NCQ53</td>\n",
              "      <td>17.600</td>\n",
              "      <td>Low Fat</td>\n",
              "      <td>0.018944</td>\n",
              "      <td>Health and Hygiene</td>\n",
              "      <td>237.3590</td>\n",
              "      <td>OUT045</td>\n",
              "      <td>2002</td>\n",
              "      <td>NaN</td>\n",
              "      <td>Tier 2</td>\n",
              "      <td>Supermarket Type1</td>\n",
              "    </tr>\n",
              "    <tr>\n",
              "      <th>860</th>\n",
              "      <td>FDL46</td>\n",
              "      <td>20.350</td>\n",
              "      <td>Low Fat</td>\n",
              "      <td>0.054363</td>\n",
              "      <td>Snack Foods</td>\n",
              "      <td>117.9466</td>\n",
              "      <td>OUT017</td>\n",
              "      <td>2007</td>\n",
              "      <td>NaN</td>\n",
              "      <td>Tier 2</td>\n",
              "      <td>Supermarket Type1</td>\n",
              "    </tr>\n",
              "    <tr>\n",
              "      <th>7270</th>\n",
              "      <td>NCN30</td>\n",
              "      <td>16.350</td>\n",
              "      <td>Low Fat</td>\n",
              "      <td>0.016993</td>\n",
              "      <td>Household</td>\n",
              "      <td>95.7410</td>\n",
              "      <td>OUT046</td>\n",
              "      <td>1997</td>\n",
              "      <td>Small</td>\n",
              "      <td>Tier 1</td>\n",
              "      <td>Supermarket Type1</td>\n",
              "    </tr>\n",
              "  </tbody>\n",
              "</table>\n",
              "<p>6392 rows × 11 columns</p>\n",
              "</div>\n",
              "      <button class=\"colab-df-convert\" onclick=\"convertToInteractive('df-4cbebae7-90c5-4ae1-8105-50b393dd440b')\"\n",
              "              title=\"Convert this dataframe to an interactive table.\"\n",
              "              style=\"display:none;\">\n",
              "        \n",
              "  <svg xmlns=\"http://www.w3.org/2000/svg\" height=\"24px\"viewBox=\"0 0 24 24\"\n",
              "       width=\"24px\">\n",
              "    <path d=\"M0 0h24v24H0V0z\" fill=\"none\"/>\n",
              "    <path d=\"M18.56 5.44l.94 2.06.94-2.06 2.06-.94-2.06-.94-.94-2.06-.94 2.06-2.06.94zm-11 1L8.5 8.5l.94-2.06 2.06-.94-2.06-.94L8.5 2.5l-.94 2.06-2.06.94zm10 10l.94 2.06.94-2.06 2.06-.94-2.06-.94-.94-2.06-.94 2.06-2.06.94z\"/><path d=\"M17.41 7.96l-1.37-1.37c-.4-.4-.92-.59-1.43-.59-.52 0-1.04.2-1.43.59L10.3 9.45l-7.72 7.72c-.78.78-.78 2.05 0 2.83L4 21.41c.39.39.9.59 1.41.59.51 0 1.02-.2 1.41-.59l7.78-7.78 2.81-2.81c.8-.78.8-2.07 0-2.86zM5.41 20L4 18.59l7.72-7.72 1.47 1.35L5.41 20z\"/>\n",
              "  </svg>\n",
              "      </button>\n",
              "      \n",
              "  <style>\n",
              "    .colab-df-container {\n",
              "      display:flex;\n",
              "      flex-wrap:wrap;\n",
              "      gap: 12px;\n",
              "    }\n",
              "\n",
              "    .colab-df-convert {\n",
              "      background-color: #E8F0FE;\n",
              "      border: none;\n",
              "      border-radius: 50%;\n",
              "      cursor: pointer;\n",
              "      display: none;\n",
              "      fill: #1967D2;\n",
              "      height: 32px;\n",
              "      padding: 0 0 0 0;\n",
              "      width: 32px;\n",
              "    }\n",
              "\n",
              "    .colab-df-convert:hover {\n",
              "      background-color: #E2EBFA;\n",
              "      box-shadow: 0px 1px 2px rgba(60, 64, 67, 0.3), 0px 1px 3px 1px rgba(60, 64, 67, 0.15);\n",
              "      fill: #174EA6;\n",
              "    }\n",
              "\n",
              "    [theme=dark] .colab-df-convert {\n",
              "      background-color: #3B4455;\n",
              "      fill: #D2E3FC;\n",
              "    }\n",
              "\n",
              "    [theme=dark] .colab-df-convert:hover {\n",
              "      background-color: #434B5C;\n",
              "      box-shadow: 0px 1px 3px 1px rgba(0, 0, 0, 0.15);\n",
              "      filter: drop-shadow(0px 1px 2px rgba(0, 0, 0, 0.3));\n",
              "      fill: #FFFFFF;\n",
              "    }\n",
              "  </style>\n",
              "\n",
              "      <script>\n",
              "        const buttonEl =\n",
              "          document.querySelector('#df-4cbebae7-90c5-4ae1-8105-50b393dd440b button.colab-df-convert');\n",
              "        buttonEl.style.display =\n",
              "          google.colab.kernel.accessAllowed ? 'block' : 'none';\n",
              "\n",
              "        async function convertToInteractive(key) {\n",
              "          const element = document.querySelector('#df-4cbebae7-90c5-4ae1-8105-50b393dd440b');\n",
              "          const dataTable =\n",
              "            await google.colab.kernel.invokeFunction('convertToInteractive',\n",
              "                                                     [key], {});\n",
              "          if (!dataTable) return;\n",
              "\n",
              "          const docLinkHtml = 'Like what you see? Visit the ' +\n",
              "            '<a target=\"_blank\" href=https://colab.research.google.com/notebooks/data_table.ipynb>data table notebook</a>'\n",
              "            + ' to learn more about interactive tables.';\n",
              "          element.innerHTML = '';\n",
              "          dataTable['output_type'] = 'display_data';\n",
              "          await google.colab.output.renderOutput(dataTable, element);\n",
              "          const docLink = document.createElement('div');\n",
              "          docLink.innerHTML = docLinkHtml;\n",
              "          element.appendChild(docLink);\n",
              "        }\n",
              "      </script>\n",
              "    </div>\n",
              "  </div>\n",
              "  "
            ]
          },
          "metadata": {},
          "execution_count": 21
        }
      ]
    },
    {
      "cell_type": "markdown",
      "source": [
        "Como se puede observar, el dataframe se dividió en un data de prueba y otro de entrenamiento, en la variable X que es la matriz no se encuentra la columna objetivo, la cual con el item anterior se elimino del data y se creo una variable aparte con los datos llamada y. "
      ],
      "metadata": {
        "id": "HQJj5QFttH4X"
      }
    },
    {
      "cell_type": "markdown",
      "source": [
        "3. Creen un pipeline de preprocesamiento para preparar el conjunto de datos para el aprendizaje automático."
      ],
      "metadata": {
        "id": "xE6UvYdfo8V_"
      }
    },
    {
      "cell_type": "markdown",
      "source": [
        "Antes de empezar a realizar un pipeline, se inspeccionará los datos. "
      ],
      "metadata": {
        "id": "AUQYSvEOtoD6"
      }
    },
    {
      "cell_type": "code",
      "source": [
        "print(X.info(), '\\n')\n",
        "print(X.isna().sum())"
      ],
      "metadata": {
        "colab": {
          "base_uri": "https://localhost:8080/"
        },
        "id": "bL4xpruOpAyQ",
        "outputId": "a92d8d04-2742-42d4-df0e-24412aa711f4"
      },
      "execution_count": 22,
      "outputs": [
        {
          "output_type": "stream",
          "name": "stdout",
          "text": [
            "<class 'pandas.core.frame.DataFrame'>\n",
            "RangeIndex: 8523 entries, 0 to 8522\n",
            "Data columns (total 11 columns):\n",
            " #   Column                     Non-Null Count  Dtype  \n",
            "---  ------                     --------------  -----  \n",
            " 0   Item_Identifier            8523 non-null   object \n",
            " 1   Item_Weight                7060 non-null   float64\n",
            " 2   Item_Fat_Content           8523 non-null   object \n",
            " 3   Item_Visibility            8523 non-null   float64\n",
            " 4   Item_Type                  8523 non-null   object \n",
            " 5   Item_MRP                   8523 non-null   float64\n",
            " 6   Outlet_Identifier          8523 non-null   object \n",
            " 7   Outlet_Establishment_Year  8523 non-null   int64  \n",
            " 8   Outlet_Size                6113 non-null   object \n",
            " 9   Outlet_Location_Type       8523 non-null   object \n",
            " 10  Outlet_Type                8523 non-null   object \n",
            "dtypes: float64(3), int64(1), object(7)\n",
            "memory usage: 732.6+ KB\n",
            "None \n",
            "\n",
            "Item_Identifier                 0\n",
            "Item_Weight                  1463\n",
            "Item_Fat_Content                0\n",
            "Item_Visibility                 0\n",
            "Item_Type                       0\n",
            "Item_MRP                        0\n",
            "Outlet_Identifier               0\n",
            "Outlet_Establishment_Year       0\n",
            "Outlet_Size                  2410\n",
            "Outlet_Location_Type            0\n",
            "Outlet_Type                     0\n",
            "dtype: int64\n"
          ]
        }
      ]
    },
    {
      "cell_type": "markdown",
      "source": [
        "Se puede observar este data frame tenemos las siguientes categorias: \n",
        "- Numéricas: Item_Weight, Item_Visibility, Item_MRP, Outlet_Establishment_Year\n",
        "- Categóricas: \n",
        "  - Ordinales: Outlet_Size, Item_Fat_Content\n",
        "  - Nominales: Item_Identifier, Item_Type, Outlet_Identifier, Outlet_Location_Type, Outlet_Type\n",
        "\n",
        "A las columnas Item_Weight y Outlet_Size le faltan datos. Dichos datos faltantes se los cuales seran imputados en caso de la categoría numérica con la media y en la categoria ordinal con most_frequent. "
      ],
      "metadata": {
        "id": "TnpNJmMAt0uD"
      }
    },
    {
      "cell_type": "markdown",
      "source": [
        "Ahos bien para facilitar el preprocesamiento, se transformará la categoria nominal a datos numéricos. "
      ],
      "metadata": {
        "id": "Pd2Ko1x9Rwst"
      }
    },
    {
      "cell_type": "code",
      "source": [
        "df[\"Outlet_Size\"].unique()\n",
        "df[\"Item_Fat_Content\"].unique()"
      ],
      "metadata": {
        "colab": {
          "base_uri": "https://localhost:8080/"
        },
        "id": "9gFaGh-BeNGA",
        "outputId": "150dfecd-6eb6-440d-e693-d850dc013839"
      },
      "execution_count": 23,
      "outputs": [
        {
          "output_type": "execute_result",
          "data": {
            "text/plain": [
              "array(['Low Fat', 'Regular'], dtype=object)"
            ]
          },
          "metadata": {},
          "execution_count": 23
        }
      ]
    },
    {
      "cell_type": "code",
      "source": [
        "#fat = {'Low Fat': 0, 'Regular': 1}\n",
        "#sizes = {'Small': 0, 'Medium': 1, 'High': 2}\n",
        "\n",
        "#X_train.replace({'Outlet_Size': sizes,'Item_Fat_Content':fat},inplace=True)\n",
        "#X_test.replace({'Outlet_Size': sizes,'Item_Fat_Content':fat},inplace=True)\n",
        "#X_train.head()\n"
      ],
      "metadata": {
        "id": "G1mQMZM-el5r"
      },
      "execution_count": 24,
      "outputs": []
    },
    {
      "cell_type": "markdown",
      "source": [
        "Entonces, los pasos a seguir para realizar todos los cambios pertinentes para dejar el data frame listo para un aprendizaje automatico será: \n",
        "\n",
        "1. Realizar selectores de categorias numéricas y categóricas \n",
        "2. Instanciar transformadores: \n",
        "   - Hacer imputados en los valores faltantes\n",
        "   - Transformar columnas categoricas ordinales y nominales \n",
        "   - Escalonar las categorias numéricas \n",
        "3. Instanciar pipelines\n",
        "4. Instanciar ColumnTransformer\n",
        "5. Transformar datos  \n",
        "6. Inspeccionar el resultado\n"
      ],
      "metadata": {
        "id": "qfrllqZxxMGs"
      }
    },
    {
      "cell_type": "markdown",
      "source": [
        "1. Selectores numéricos y categóricos"
      ],
      "metadata": {
        "id": "L85rzrAcwQ_L"
      }
    },
    {
      "cell_type": "code",
      "source": [
        "# Selectors\n",
        "cat_selector = make_column_selector(dtype_include='object')\n",
        "num_selector = make_column_selector(dtype_include='number')"
      ],
      "metadata": {
        "id": "bSsUKtUhwNSO"
      },
      "execution_count": 25,
      "outputs": []
    },
    {
      "cell_type": "markdown",
      "source": [
        "2. Instanciar transformadores"
      ],
      "metadata": {
        "id": "MKg77Mocy4vY"
      }
    },
    {
      "cell_type": "code",
      "source": [
        "# Imputers\n",
        "freq_imputer = SimpleImputer(strategy='most_frequent')\n",
        "mean_imputer = SimpleImputer(strategy='mean')\n",
        "# Scaler\n",
        "scaler = StandardScaler()\n",
        "# One-hot encoder\n",
        "ohe = OneHotEncoder(handle_unknown='ignore', sparse=False)\n",
        "\n",
        "\n",
        "\n",
        "\n"
      ],
      "metadata": {
        "id": "C0cd8kH9xVh0"
      },
      "execution_count": 26,
      "outputs": []
    },
    {
      "cell_type": "markdown",
      "source": [
        "3. Instanciar pipelines"
      ],
      "metadata": {
        "id": "Rbq1xgMQ33sd"
      }
    },
    {
      "cell_type": "code",
      "source": [
        "# Numeric pipeline\n",
        "numeric_pipe = make_pipeline(mean_imputer, scaler)\n",
        "numeric_pipe"
      ],
      "metadata": {
        "colab": {
          "base_uri": "https://localhost:8080/",
          "height": 126
        },
        "id": "PO3y3qKc3kvN",
        "outputId": "30a8d0fc-d7a9-4157-8718-786ab05c214b"
      },
      "execution_count": 27,
      "outputs": [
        {
          "output_type": "execute_result",
          "data": {
            "text/plain": [
              "Pipeline(steps=[('simpleimputer', SimpleImputer()),\n",
              "                ('standardscaler', StandardScaler())])"
            ],
            "text/html": [
              "<style>#sk-59f0e166-24fb-416b-989f-9e3502fd6eef {color: black;background-color: white;}#sk-59f0e166-24fb-416b-989f-9e3502fd6eef pre{padding: 0;}#sk-59f0e166-24fb-416b-989f-9e3502fd6eef div.sk-toggleable {background-color: white;}#sk-59f0e166-24fb-416b-989f-9e3502fd6eef label.sk-toggleable__label {cursor: pointer;display: block;width: 100%;margin-bottom: 0;padding: 0.3em;box-sizing: border-box;text-align: center;}#sk-59f0e166-24fb-416b-989f-9e3502fd6eef label.sk-toggleable__label-arrow:before {content: \"▸\";float: left;margin-right: 0.25em;color: #696969;}#sk-59f0e166-24fb-416b-989f-9e3502fd6eef label.sk-toggleable__label-arrow:hover:before {color: black;}#sk-59f0e166-24fb-416b-989f-9e3502fd6eef div.sk-estimator:hover label.sk-toggleable__label-arrow:before {color: black;}#sk-59f0e166-24fb-416b-989f-9e3502fd6eef div.sk-toggleable__content {max-height: 0;max-width: 0;overflow: hidden;text-align: left;background-color: #f0f8ff;}#sk-59f0e166-24fb-416b-989f-9e3502fd6eef div.sk-toggleable__content pre {margin: 0.2em;color: black;border-radius: 0.25em;background-color: #f0f8ff;}#sk-59f0e166-24fb-416b-989f-9e3502fd6eef input.sk-toggleable__control:checked~div.sk-toggleable__content {max-height: 200px;max-width: 100%;overflow: auto;}#sk-59f0e166-24fb-416b-989f-9e3502fd6eef input.sk-toggleable__control:checked~label.sk-toggleable__label-arrow:before {content: \"▾\";}#sk-59f0e166-24fb-416b-989f-9e3502fd6eef div.sk-estimator input.sk-toggleable__control:checked~label.sk-toggleable__label {background-color: #d4ebff;}#sk-59f0e166-24fb-416b-989f-9e3502fd6eef div.sk-label input.sk-toggleable__control:checked~label.sk-toggleable__label {background-color: #d4ebff;}#sk-59f0e166-24fb-416b-989f-9e3502fd6eef input.sk-hidden--visually {border: 0;clip: rect(1px 1px 1px 1px);clip: rect(1px, 1px, 1px, 1px);height: 1px;margin: -1px;overflow: hidden;padding: 0;position: absolute;width: 1px;}#sk-59f0e166-24fb-416b-989f-9e3502fd6eef div.sk-estimator {font-family: monospace;background-color: #f0f8ff;border: 1px dotted black;border-radius: 0.25em;box-sizing: border-box;margin-bottom: 0.5em;}#sk-59f0e166-24fb-416b-989f-9e3502fd6eef div.sk-estimator:hover {background-color: #d4ebff;}#sk-59f0e166-24fb-416b-989f-9e3502fd6eef div.sk-parallel-item::after {content: \"\";width: 100%;border-bottom: 1px solid gray;flex-grow: 1;}#sk-59f0e166-24fb-416b-989f-9e3502fd6eef div.sk-label:hover label.sk-toggleable__label {background-color: #d4ebff;}#sk-59f0e166-24fb-416b-989f-9e3502fd6eef div.sk-serial::before {content: \"\";position: absolute;border-left: 1px solid gray;box-sizing: border-box;top: 2em;bottom: 0;left: 50%;}#sk-59f0e166-24fb-416b-989f-9e3502fd6eef div.sk-serial {display: flex;flex-direction: column;align-items: center;background-color: white;padding-right: 0.2em;padding-left: 0.2em;}#sk-59f0e166-24fb-416b-989f-9e3502fd6eef div.sk-item {z-index: 1;}#sk-59f0e166-24fb-416b-989f-9e3502fd6eef div.sk-parallel {display: flex;align-items: stretch;justify-content: center;background-color: white;}#sk-59f0e166-24fb-416b-989f-9e3502fd6eef div.sk-parallel::before {content: \"\";position: absolute;border-left: 1px solid gray;box-sizing: border-box;top: 2em;bottom: 0;left: 50%;}#sk-59f0e166-24fb-416b-989f-9e3502fd6eef div.sk-parallel-item {display: flex;flex-direction: column;position: relative;background-color: white;}#sk-59f0e166-24fb-416b-989f-9e3502fd6eef div.sk-parallel-item:first-child::after {align-self: flex-end;width: 50%;}#sk-59f0e166-24fb-416b-989f-9e3502fd6eef div.sk-parallel-item:last-child::after {align-self: flex-start;width: 50%;}#sk-59f0e166-24fb-416b-989f-9e3502fd6eef div.sk-parallel-item:only-child::after {width: 0;}#sk-59f0e166-24fb-416b-989f-9e3502fd6eef div.sk-dashed-wrapped {border: 1px dashed gray;margin: 0 0.4em 0.5em 0.4em;box-sizing: border-box;padding-bottom: 0.4em;background-color: white;position: relative;}#sk-59f0e166-24fb-416b-989f-9e3502fd6eef div.sk-label label {font-family: monospace;font-weight: bold;background-color: white;display: inline-block;line-height: 1.2em;}#sk-59f0e166-24fb-416b-989f-9e3502fd6eef div.sk-label-container {position: relative;z-index: 2;text-align: center;}#sk-59f0e166-24fb-416b-989f-9e3502fd6eef div.sk-container {/* jupyter's `normalize.less` sets `[hidden] { display: none; }` but bootstrap.min.css set `[hidden] { display: none !important; }` so we also need the `!important` here to be able to override the default hidden behavior on the sphinx rendered scikit-learn.org. See: https://github.com/scikit-learn/scikit-learn/issues/21755 */display: inline-block !important;position: relative;}#sk-59f0e166-24fb-416b-989f-9e3502fd6eef div.sk-text-repr-fallback {display: none;}</style><div id=\"sk-59f0e166-24fb-416b-989f-9e3502fd6eef\" class=\"sk-top-container\"><div class=\"sk-text-repr-fallback\"><pre>Pipeline(steps=[(&#x27;simpleimputer&#x27;, SimpleImputer()),\n",
              "                (&#x27;standardscaler&#x27;, StandardScaler())])</pre><b>Please rerun this cell to show the HTML repr or trust the notebook.</b></div><div class=\"sk-container\" hidden><div class=\"sk-item sk-dashed-wrapped\"><div class=\"sk-label-container\"><div class=\"sk-label sk-toggleable\"><input class=\"sk-toggleable__control sk-hidden--visually\" id=\"00650335-bc8f-44af-af21-ad54bf5bc427\" type=\"checkbox\" ><label for=\"00650335-bc8f-44af-af21-ad54bf5bc427\" class=\"sk-toggleable__label sk-toggleable__label-arrow\">Pipeline</label><div class=\"sk-toggleable__content\"><pre>Pipeline(steps=[(&#x27;simpleimputer&#x27;, SimpleImputer()),\n",
              "                (&#x27;standardscaler&#x27;, StandardScaler())])</pre></div></div></div><div class=\"sk-serial\"><div class=\"sk-item\"><div class=\"sk-estimator sk-toggleable\"><input class=\"sk-toggleable__control sk-hidden--visually\" id=\"2fab1404-9d79-4269-a012-ee466c5be818\" type=\"checkbox\" ><label for=\"2fab1404-9d79-4269-a012-ee466c5be818\" class=\"sk-toggleable__label sk-toggleable__label-arrow\">SimpleImputer</label><div class=\"sk-toggleable__content\"><pre>SimpleImputer()</pre></div></div></div><div class=\"sk-item\"><div class=\"sk-estimator sk-toggleable\"><input class=\"sk-toggleable__control sk-hidden--visually\" id=\"a8df15fc-0c67-4027-8131-94850e5b1e51\" type=\"checkbox\" ><label for=\"a8df15fc-0c67-4027-8131-94850e5b1e51\" class=\"sk-toggleable__label sk-toggleable__label-arrow\">StandardScaler</label><div class=\"sk-toggleable__content\"><pre>StandardScaler()</pre></div></div></div></div></div></div></div>"
            ]
          },
          "metadata": {},
          "execution_count": 27
        }
      ]
    },
    {
      "cell_type": "code",
      "source": [
        "# Categorical pipeline\n",
        "categorical_pipe = make_pipeline(freq_imputer, ohe)\n",
        "categorical_pipe"
      ],
      "metadata": {
        "colab": {
          "base_uri": "https://localhost:8080/",
          "height": 126
        },
        "id": "rPYGUdor3-lj",
        "outputId": "02ecf77e-dde5-4e27-e3fe-d85e64fac932"
      },
      "execution_count": 28,
      "outputs": [
        {
          "output_type": "execute_result",
          "data": {
            "text/plain": [
              "Pipeline(steps=[('simpleimputer', SimpleImputer(strategy='most_frequent')),\n",
              "                ('onehotencoder',\n",
              "                 OneHotEncoder(handle_unknown='ignore', sparse=False))])"
            ],
            "text/html": [
              "<style>#sk-66cc92ba-40b5-48fb-9dcb-6ccd2a3a4d73 {color: black;background-color: white;}#sk-66cc92ba-40b5-48fb-9dcb-6ccd2a3a4d73 pre{padding: 0;}#sk-66cc92ba-40b5-48fb-9dcb-6ccd2a3a4d73 div.sk-toggleable {background-color: white;}#sk-66cc92ba-40b5-48fb-9dcb-6ccd2a3a4d73 label.sk-toggleable__label {cursor: pointer;display: block;width: 100%;margin-bottom: 0;padding: 0.3em;box-sizing: border-box;text-align: center;}#sk-66cc92ba-40b5-48fb-9dcb-6ccd2a3a4d73 label.sk-toggleable__label-arrow:before {content: \"▸\";float: left;margin-right: 0.25em;color: #696969;}#sk-66cc92ba-40b5-48fb-9dcb-6ccd2a3a4d73 label.sk-toggleable__label-arrow:hover:before {color: black;}#sk-66cc92ba-40b5-48fb-9dcb-6ccd2a3a4d73 div.sk-estimator:hover label.sk-toggleable__label-arrow:before {color: black;}#sk-66cc92ba-40b5-48fb-9dcb-6ccd2a3a4d73 div.sk-toggleable__content {max-height: 0;max-width: 0;overflow: hidden;text-align: left;background-color: #f0f8ff;}#sk-66cc92ba-40b5-48fb-9dcb-6ccd2a3a4d73 div.sk-toggleable__content pre {margin: 0.2em;color: black;border-radius: 0.25em;background-color: #f0f8ff;}#sk-66cc92ba-40b5-48fb-9dcb-6ccd2a3a4d73 input.sk-toggleable__control:checked~div.sk-toggleable__content {max-height: 200px;max-width: 100%;overflow: auto;}#sk-66cc92ba-40b5-48fb-9dcb-6ccd2a3a4d73 input.sk-toggleable__control:checked~label.sk-toggleable__label-arrow:before {content: \"▾\";}#sk-66cc92ba-40b5-48fb-9dcb-6ccd2a3a4d73 div.sk-estimator input.sk-toggleable__control:checked~label.sk-toggleable__label {background-color: #d4ebff;}#sk-66cc92ba-40b5-48fb-9dcb-6ccd2a3a4d73 div.sk-label input.sk-toggleable__control:checked~label.sk-toggleable__label {background-color: #d4ebff;}#sk-66cc92ba-40b5-48fb-9dcb-6ccd2a3a4d73 input.sk-hidden--visually {border: 0;clip: rect(1px 1px 1px 1px);clip: rect(1px, 1px, 1px, 1px);height: 1px;margin: -1px;overflow: hidden;padding: 0;position: absolute;width: 1px;}#sk-66cc92ba-40b5-48fb-9dcb-6ccd2a3a4d73 div.sk-estimator {font-family: monospace;background-color: #f0f8ff;border: 1px dotted black;border-radius: 0.25em;box-sizing: border-box;margin-bottom: 0.5em;}#sk-66cc92ba-40b5-48fb-9dcb-6ccd2a3a4d73 div.sk-estimator:hover {background-color: #d4ebff;}#sk-66cc92ba-40b5-48fb-9dcb-6ccd2a3a4d73 div.sk-parallel-item::after {content: \"\";width: 100%;border-bottom: 1px solid gray;flex-grow: 1;}#sk-66cc92ba-40b5-48fb-9dcb-6ccd2a3a4d73 div.sk-label:hover label.sk-toggleable__label {background-color: #d4ebff;}#sk-66cc92ba-40b5-48fb-9dcb-6ccd2a3a4d73 div.sk-serial::before {content: \"\";position: absolute;border-left: 1px solid gray;box-sizing: border-box;top: 2em;bottom: 0;left: 50%;}#sk-66cc92ba-40b5-48fb-9dcb-6ccd2a3a4d73 div.sk-serial {display: flex;flex-direction: column;align-items: center;background-color: white;padding-right: 0.2em;padding-left: 0.2em;}#sk-66cc92ba-40b5-48fb-9dcb-6ccd2a3a4d73 div.sk-item {z-index: 1;}#sk-66cc92ba-40b5-48fb-9dcb-6ccd2a3a4d73 div.sk-parallel {display: flex;align-items: stretch;justify-content: center;background-color: white;}#sk-66cc92ba-40b5-48fb-9dcb-6ccd2a3a4d73 div.sk-parallel::before {content: \"\";position: absolute;border-left: 1px solid gray;box-sizing: border-box;top: 2em;bottom: 0;left: 50%;}#sk-66cc92ba-40b5-48fb-9dcb-6ccd2a3a4d73 div.sk-parallel-item {display: flex;flex-direction: column;position: relative;background-color: white;}#sk-66cc92ba-40b5-48fb-9dcb-6ccd2a3a4d73 div.sk-parallel-item:first-child::after {align-self: flex-end;width: 50%;}#sk-66cc92ba-40b5-48fb-9dcb-6ccd2a3a4d73 div.sk-parallel-item:last-child::after {align-self: flex-start;width: 50%;}#sk-66cc92ba-40b5-48fb-9dcb-6ccd2a3a4d73 div.sk-parallel-item:only-child::after {width: 0;}#sk-66cc92ba-40b5-48fb-9dcb-6ccd2a3a4d73 div.sk-dashed-wrapped {border: 1px dashed gray;margin: 0 0.4em 0.5em 0.4em;box-sizing: border-box;padding-bottom: 0.4em;background-color: white;position: relative;}#sk-66cc92ba-40b5-48fb-9dcb-6ccd2a3a4d73 div.sk-label label {font-family: monospace;font-weight: bold;background-color: white;display: inline-block;line-height: 1.2em;}#sk-66cc92ba-40b5-48fb-9dcb-6ccd2a3a4d73 div.sk-label-container {position: relative;z-index: 2;text-align: center;}#sk-66cc92ba-40b5-48fb-9dcb-6ccd2a3a4d73 div.sk-container {/* jupyter's `normalize.less` sets `[hidden] { display: none; }` but bootstrap.min.css set `[hidden] { display: none !important; }` so we also need the `!important` here to be able to override the default hidden behavior on the sphinx rendered scikit-learn.org. See: https://github.com/scikit-learn/scikit-learn/issues/21755 */display: inline-block !important;position: relative;}#sk-66cc92ba-40b5-48fb-9dcb-6ccd2a3a4d73 div.sk-text-repr-fallback {display: none;}</style><div id=\"sk-66cc92ba-40b5-48fb-9dcb-6ccd2a3a4d73\" class=\"sk-top-container\"><div class=\"sk-text-repr-fallback\"><pre>Pipeline(steps=[(&#x27;simpleimputer&#x27;, SimpleImputer(strategy=&#x27;most_frequent&#x27;)),\n",
              "                (&#x27;onehotencoder&#x27;,\n",
              "                 OneHotEncoder(handle_unknown=&#x27;ignore&#x27;, sparse=False))])</pre><b>Please rerun this cell to show the HTML repr or trust the notebook.</b></div><div class=\"sk-container\" hidden><div class=\"sk-item sk-dashed-wrapped\"><div class=\"sk-label-container\"><div class=\"sk-label sk-toggleable\"><input class=\"sk-toggleable__control sk-hidden--visually\" id=\"53f55172-a77f-4c24-ad68-a5e9557148a7\" type=\"checkbox\" ><label for=\"53f55172-a77f-4c24-ad68-a5e9557148a7\" class=\"sk-toggleable__label sk-toggleable__label-arrow\">Pipeline</label><div class=\"sk-toggleable__content\"><pre>Pipeline(steps=[(&#x27;simpleimputer&#x27;, SimpleImputer(strategy=&#x27;most_frequent&#x27;)),\n",
              "                (&#x27;onehotencoder&#x27;,\n",
              "                 OneHotEncoder(handle_unknown=&#x27;ignore&#x27;, sparse=False))])</pre></div></div></div><div class=\"sk-serial\"><div class=\"sk-item\"><div class=\"sk-estimator sk-toggleable\"><input class=\"sk-toggleable__control sk-hidden--visually\" id=\"4e2beb87-79f7-4d31-b529-7459e473ea90\" type=\"checkbox\" ><label for=\"4e2beb87-79f7-4d31-b529-7459e473ea90\" class=\"sk-toggleable__label sk-toggleable__label-arrow\">SimpleImputer</label><div class=\"sk-toggleable__content\"><pre>SimpleImputer(strategy=&#x27;most_frequent&#x27;)</pre></div></div></div><div class=\"sk-item\"><div class=\"sk-estimator sk-toggleable\"><input class=\"sk-toggleable__control sk-hidden--visually\" id=\"18d64be1-177f-4bd1-9b41-c4c3ee3caccb\" type=\"checkbox\" ><label for=\"18d64be1-177f-4bd1-9b41-c4c3ee3caccb\" class=\"sk-toggleable__label sk-toggleable__label-arrow\">OneHotEncoder</label><div class=\"sk-toggleable__content\"><pre>OneHotEncoder(handle_unknown=&#x27;ignore&#x27;, sparse=False)</pre></div></div></div></div></div></div></div>"
            ]
          },
          "metadata": {},
          "execution_count": 28
        }
      ]
    },
    {
      "cell_type": "markdown",
      "source": [
        "4. Instanciar ColumnTransformer"
      ],
      "metadata": {
        "id": "VRWAiVxP4Am0"
      }
    },
    {
      "cell_type": "code",
      "source": [
        "# Tuples para Column Transformer\n",
        "number_tuple = (numeric_pipe, num_selector)\n",
        "category_tuple = (categorical_pipe, cat_selector)\n",
        "# ColumnTransformer\n",
        "preprocessor = make_column_transformer(number_tuple, category_tuple)\n",
        "preprocessor\n"
      ],
      "metadata": {
        "id": "GCGPXES03_2b",
        "colab": {
          "base_uri": "https://localhost:8080/",
          "height": 152
        },
        "outputId": "0fbf2960-afba-4554-d42d-e3266364bf14"
      },
      "execution_count": 29,
      "outputs": [
        {
          "output_type": "execute_result",
          "data": {
            "text/plain": [
              "ColumnTransformer(transformers=[('pipeline-1',\n",
              "                                 Pipeline(steps=[('simpleimputer',\n",
              "                                                  SimpleImputer()),\n",
              "                                                 ('standardscaler',\n",
              "                                                  StandardScaler())]),\n",
              "                                 <sklearn.compose._column_transformer.make_column_selector object at 0x7fdd78367370>),\n",
              "                                ('pipeline-2',\n",
              "                                 Pipeline(steps=[('simpleimputer',\n",
              "                                                  SimpleImputer(strategy='most_frequent')),\n",
              "                                                 ('onehotencoder',\n",
              "                                                  OneHotEncoder(handle_unknown='ignore',\n",
              "                                                                sparse=False))]),\n",
              "                                 <sklearn.compose._column_transformer.make_column_selector object at 0x7fdd78373d90>)])"
            ],
            "text/html": [
              "<style>#sk-1b977a3c-9e99-4c22-8c8e-3d3ee2e7df5a {color: black;background-color: white;}#sk-1b977a3c-9e99-4c22-8c8e-3d3ee2e7df5a pre{padding: 0;}#sk-1b977a3c-9e99-4c22-8c8e-3d3ee2e7df5a div.sk-toggleable {background-color: white;}#sk-1b977a3c-9e99-4c22-8c8e-3d3ee2e7df5a label.sk-toggleable__label {cursor: pointer;display: block;width: 100%;margin-bottom: 0;padding: 0.3em;box-sizing: border-box;text-align: center;}#sk-1b977a3c-9e99-4c22-8c8e-3d3ee2e7df5a label.sk-toggleable__label-arrow:before {content: \"▸\";float: left;margin-right: 0.25em;color: #696969;}#sk-1b977a3c-9e99-4c22-8c8e-3d3ee2e7df5a label.sk-toggleable__label-arrow:hover:before {color: black;}#sk-1b977a3c-9e99-4c22-8c8e-3d3ee2e7df5a div.sk-estimator:hover label.sk-toggleable__label-arrow:before {color: black;}#sk-1b977a3c-9e99-4c22-8c8e-3d3ee2e7df5a div.sk-toggleable__content {max-height: 0;max-width: 0;overflow: hidden;text-align: left;background-color: #f0f8ff;}#sk-1b977a3c-9e99-4c22-8c8e-3d3ee2e7df5a div.sk-toggleable__content pre {margin: 0.2em;color: black;border-radius: 0.25em;background-color: #f0f8ff;}#sk-1b977a3c-9e99-4c22-8c8e-3d3ee2e7df5a input.sk-toggleable__control:checked~div.sk-toggleable__content {max-height: 200px;max-width: 100%;overflow: auto;}#sk-1b977a3c-9e99-4c22-8c8e-3d3ee2e7df5a input.sk-toggleable__control:checked~label.sk-toggleable__label-arrow:before {content: \"▾\";}#sk-1b977a3c-9e99-4c22-8c8e-3d3ee2e7df5a div.sk-estimator input.sk-toggleable__control:checked~label.sk-toggleable__label {background-color: #d4ebff;}#sk-1b977a3c-9e99-4c22-8c8e-3d3ee2e7df5a div.sk-label input.sk-toggleable__control:checked~label.sk-toggleable__label {background-color: #d4ebff;}#sk-1b977a3c-9e99-4c22-8c8e-3d3ee2e7df5a input.sk-hidden--visually {border: 0;clip: rect(1px 1px 1px 1px);clip: rect(1px, 1px, 1px, 1px);height: 1px;margin: -1px;overflow: hidden;padding: 0;position: absolute;width: 1px;}#sk-1b977a3c-9e99-4c22-8c8e-3d3ee2e7df5a div.sk-estimator {font-family: monospace;background-color: #f0f8ff;border: 1px dotted black;border-radius: 0.25em;box-sizing: border-box;margin-bottom: 0.5em;}#sk-1b977a3c-9e99-4c22-8c8e-3d3ee2e7df5a div.sk-estimator:hover {background-color: #d4ebff;}#sk-1b977a3c-9e99-4c22-8c8e-3d3ee2e7df5a div.sk-parallel-item::after {content: \"\";width: 100%;border-bottom: 1px solid gray;flex-grow: 1;}#sk-1b977a3c-9e99-4c22-8c8e-3d3ee2e7df5a div.sk-label:hover label.sk-toggleable__label {background-color: #d4ebff;}#sk-1b977a3c-9e99-4c22-8c8e-3d3ee2e7df5a div.sk-serial::before {content: \"\";position: absolute;border-left: 1px solid gray;box-sizing: border-box;top: 2em;bottom: 0;left: 50%;}#sk-1b977a3c-9e99-4c22-8c8e-3d3ee2e7df5a div.sk-serial {display: flex;flex-direction: column;align-items: center;background-color: white;padding-right: 0.2em;padding-left: 0.2em;}#sk-1b977a3c-9e99-4c22-8c8e-3d3ee2e7df5a div.sk-item {z-index: 1;}#sk-1b977a3c-9e99-4c22-8c8e-3d3ee2e7df5a div.sk-parallel {display: flex;align-items: stretch;justify-content: center;background-color: white;}#sk-1b977a3c-9e99-4c22-8c8e-3d3ee2e7df5a div.sk-parallel::before {content: \"\";position: absolute;border-left: 1px solid gray;box-sizing: border-box;top: 2em;bottom: 0;left: 50%;}#sk-1b977a3c-9e99-4c22-8c8e-3d3ee2e7df5a div.sk-parallel-item {display: flex;flex-direction: column;position: relative;background-color: white;}#sk-1b977a3c-9e99-4c22-8c8e-3d3ee2e7df5a div.sk-parallel-item:first-child::after {align-self: flex-end;width: 50%;}#sk-1b977a3c-9e99-4c22-8c8e-3d3ee2e7df5a div.sk-parallel-item:last-child::after {align-self: flex-start;width: 50%;}#sk-1b977a3c-9e99-4c22-8c8e-3d3ee2e7df5a div.sk-parallel-item:only-child::after {width: 0;}#sk-1b977a3c-9e99-4c22-8c8e-3d3ee2e7df5a div.sk-dashed-wrapped {border: 1px dashed gray;margin: 0 0.4em 0.5em 0.4em;box-sizing: border-box;padding-bottom: 0.4em;background-color: white;position: relative;}#sk-1b977a3c-9e99-4c22-8c8e-3d3ee2e7df5a div.sk-label label {font-family: monospace;font-weight: bold;background-color: white;display: inline-block;line-height: 1.2em;}#sk-1b977a3c-9e99-4c22-8c8e-3d3ee2e7df5a div.sk-label-container {position: relative;z-index: 2;text-align: center;}#sk-1b977a3c-9e99-4c22-8c8e-3d3ee2e7df5a div.sk-container {/* jupyter's `normalize.less` sets `[hidden] { display: none; }` but bootstrap.min.css set `[hidden] { display: none !important; }` so we also need the `!important` here to be able to override the default hidden behavior on the sphinx rendered scikit-learn.org. See: https://github.com/scikit-learn/scikit-learn/issues/21755 */display: inline-block !important;position: relative;}#sk-1b977a3c-9e99-4c22-8c8e-3d3ee2e7df5a div.sk-text-repr-fallback {display: none;}</style><div id=\"sk-1b977a3c-9e99-4c22-8c8e-3d3ee2e7df5a\" class=\"sk-top-container\"><div class=\"sk-text-repr-fallback\"><pre>ColumnTransformer(transformers=[(&#x27;pipeline-1&#x27;,\n",
              "                                 Pipeline(steps=[(&#x27;simpleimputer&#x27;,\n",
              "                                                  SimpleImputer()),\n",
              "                                                 (&#x27;standardscaler&#x27;,\n",
              "                                                  StandardScaler())]),\n",
              "                                 &lt;sklearn.compose._column_transformer.make_column_selector object at 0x7fdd78367370&gt;),\n",
              "                                (&#x27;pipeline-2&#x27;,\n",
              "                                 Pipeline(steps=[(&#x27;simpleimputer&#x27;,\n",
              "                                                  SimpleImputer(strategy=&#x27;most_frequent&#x27;)),\n",
              "                                                 (&#x27;onehotencoder&#x27;,\n",
              "                                                  OneHotEncoder(handle_unknown=&#x27;ignore&#x27;,\n",
              "                                                                sparse=False))]),\n",
              "                                 &lt;sklearn.compose._column_transformer.make_column_selector object at 0x7fdd78373d90&gt;)])</pre><b>Please rerun this cell to show the HTML repr or trust the notebook.</b></div><div class=\"sk-container\" hidden><div class=\"sk-item sk-dashed-wrapped\"><div class=\"sk-label-container\"><div class=\"sk-label sk-toggleable\"><input class=\"sk-toggleable__control sk-hidden--visually\" id=\"f73e17e5-8dcf-481d-ba56-ef901410687e\" type=\"checkbox\" ><label for=\"f73e17e5-8dcf-481d-ba56-ef901410687e\" class=\"sk-toggleable__label sk-toggleable__label-arrow\">ColumnTransformer</label><div class=\"sk-toggleable__content\"><pre>ColumnTransformer(transformers=[(&#x27;pipeline-1&#x27;,\n",
              "                                 Pipeline(steps=[(&#x27;simpleimputer&#x27;,\n",
              "                                                  SimpleImputer()),\n",
              "                                                 (&#x27;standardscaler&#x27;,\n",
              "                                                  StandardScaler())]),\n",
              "                                 &lt;sklearn.compose._column_transformer.make_column_selector object at 0x7fdd78367370&gt;),\n",
              "                                (&#x27;pipeline-2&#x27;,\n",
              "                                 Pipeline(steps=[(&#x27;simpleimputer&#x27;,\n",
              "                                                  SimpleImputer(strategy=&#x27;most_frequent&#x27;)),\n",
              "                                                 (&#x27;onehotencoder&#x27;,\n",
              "                                                  OneHotEncoder(handle_unknown=&#x27;ignore&#x27;,\n",
              "                                                                sparse=False))]),\n",
              "                                 &lt;sklearn.compose._column_transformer.make_column_selector object at 0x7fdd78373d90&gt;)])</pre></div></div></div><div class=\"sk-parallel\"><div class=\"sk-parallel-item\"><div class=\"sk-item\"><div class=\"sk-label-container\"><div class=\"sk-label sk-toggleable\"><input class=\"sk-toggleable__control sk-hidden--visually\" id=\"d2644634-ad9e-456d-b5a0-6643501189ad\" type=\"checkbox\" ><label for=\"d2644634-ad9e-456d-b5a0-6643501189ad\" class=\"sk-toggleable__label sk-toggleable__label-arrow\">pipeline-1</label><div class=\"sk-toggleable__content\"><pre>&lt;sklearn.compose._column_transformer.make_column_selector object at 0x7fdd78367370&gt;</pre></div></div></div><div class=\"sk-serial\"><div class=\"sk-item\"><div class=\"sk-serial\"><div class=\"sk-item\"><div class=\"sk-estimator sk-toggleable\"><input class=\"sk-toggleable__control sk-hidden--visually\" id=\"bcc0fddb-23b1-4b8e-9acd-2b2163e93ae5\" type=\"checkbox\" ><label for=\"bcc0fddb-23b1-4b8e-9acd-2b2163e93ae5\" class=\"sk-toggleable__label sk-toggleable__label-arrow\">SimpleImputer</label><div class=\"sk-toggleable__content\"><pre>SimpleImputer()</pre></div></div></div><div class=\"sk-item\"><div class=\"sk-estimator sk-toggleable\"><input class=\"sk-toggleable__control sk-hidden--visually\" id=\"a13dc3bd-f533-41f3-833f-e8b1d2b280f4\" type=\"checkbox\" ><label for=\"a13dc3bd-f533-41f3-833f-e8b1d2b280f4\" class=\"sk-toggleable__label sk-toggleable__label-arrow\">StandardScaler</label><div class=\"sk-toggleable__content\"><pre>StandardScaler()</pre></div></div></div></div></div></div></div></div><div class=\"sk-parallel-item\"><div class=\"sk-item\"><div class=\"sk-label-container\"><div class=\"sk-label sk-toggleable\"><input class=\"sk-toggleable__control sk-hidden--visually\" id=\"fe9e0a86-85b9-43ff-b4b7-f21b46296bf7\" type=\"checkbox\" ><label for=\"fe9e0a86-85b9-43ff-b4b7-f21b46296bf7\" class=\"sk-toggleable__label sk-toggleable__label-arrow\">pipeline-2</label><div class=\"sk-toggleable__content\"><pre>&lt;sklearn.compose._column_transformer.make_column_selector object at 0x7fdd78373d90&gt;</pre></div></div></div><div class=\"sk-serial\"><div class=\"sk-item\"><div class=\"sk-serial\"><div class=\"sk-item\"><div class=\"sk-estimator sk-toggleable\"><input class=\"sk-toggleable__control sk-hidden--visually\" id=\"531e193b-fadc-4302-8da0-2117463a9a0a\" type=\"checkbox\" ><label for=\"531e193b-fadc-4302-8da0-2117463a9a0a\" class=\"sk-toggleable__label sk-toggleable__label-arrow\">SimpleImputer</label><div class=\"sk-toggleable__content\"><pre>SimpleImputer(strategy=&#x27;most_frequent&#x27;)</pre></div></div></div><div class=\"sk-item\"><div class=\"sk-estimator sk-toggleable\"><input class=\"sk-toggleable__control sk-hidden--visually\" id=\"36c36871-5f6f-4911-84df-970f675ae108\" type=\"checkbox\" ><label for=\"36c36871-5f6f-4911-84df-970f675ae108\" class=\"sk-toggleable__label sk-toggleable__label-arrow\">OneHotEncoder</label><div class=\"sk-toggleable__content\"><pre>OneHotEncoder(handle_unknown=&#x27;ignore&#x27;, sparse=False)</pre></div></div></div></div></div></div></div></div></div></div></div></div>"
            ]
          },
          "metadata": {},
          "execution_count": 29
        }
      ]
    },
    {
      "cell_type": "code",
      "source": [
        "# fit on train\n",
        "preprocessor.fit(X_train)"
      ],
      "metadata": {
        "colab": {
          "base_uri": "https://localhost:8080/",
          "height": 152
        },
        "id": "hUD0dNC9jjSl",
        "outputId": "4f7f6b03-7c04-4ff5-93e1-a433d4673c98"
      },
      "execution_count": 30,
      "outputs": [
        {
          "output_type": "execute_result",
          "data": {
            "text/plain": [
              "ColumnTransformer(transformers=[('pipeline-1',\n",
              "                                 Pipeline(steps=[('simpleimputer',\n",
              "                                                  SimpleImputer()),\n",
              "                                                 ('standardscaler',\n",
              "                                                  StandardScaler())]),\n",
              "                                 <sklearn.compose._column_transformer.make_column_selector object at 0x7fdd78367370>),\n",
              "                                ('pipeline-2',\n",
              "                                 Pipeline(steps=[('simpleimputer',\n",
              "                                                  SimpleImputer(strategy='most_frequent')),\n",
              "                                                 ('onehotencoder',\n",
              "                                                  OneHotEncoder(handle_unknown='ignore',\n",
              "                                                                sparse=False))]),\n",
              "                                 <sklearn.compose._column_transformer.make_column_selector object at 0x7fdd78373d90>)])"
            ],
            "text/html": [
              "<style>#sk-f8a984be-9e5b-49c2-b07c-c4ed92cbd888 {color: black;background-color: white;}#sk-f8a984be-9e5b-49c2-b07c-c4ed92cbd888 pre{padding: 0;}#sk-f8a984be-9e5b-49c2-b07c-c4ed92cbd888 div.sk-toggleable {background-color: white;}#sk-f8a984be-9e5b-49c2-b07c-c4ed92cbd888 label.sk-toggleable__label {cursor: pointer;display: block;width: 100%;margin-bottom: 0;padding: 0.3em;box-sizing: border-box;text-align: center;}#sk-f8a984be-9e5b-49c2-b07c-c4ed92cbd888 label.sk-toggleable__label-arrow:before {content: \"▸\";float: left;margin-right: 0.25em;color: #696969;}#sk-f8a984be-9e5b-49c2-b07c-c4ed92cbd888 label.sk-toggleable__label-arrow:hover:before {color: black;}#sk-f8a984be-9e5b-49c2-b07c-c4ed92cbd888 div.sk-estimator:hover label.sk-toggleable__label-arrow:before {color: black;}#sk-f8a984be-9e5b-49c2-b07c-c4ed92cbd888 div.sk-toggleable__content {max-height: 0;max-width: 0;overflow: hidden;text-align: left;background-color: #f0f8ff;}#sk-f8a984be-9e5b-49c2-b07c-c4ed92cbd888 div.sk-toggleable__content pre {margin: 0.2em;color: black;border-radius: 0.25em;background-color: #f0f8ff;}#sk-f8a984be-9e5b-49c2-b07c-c4ed92cbd888 input.sk-toggleable__control:checked~div.sk-toggleable__content {max-height: 200px;max-width: 100%;overflow: auto;}#sk-f8a984be-9e5b-49c2-b07c-c4ed92cbd888 input.sk-toggleable__control:checked~label.sk-toggleable__label-arrow:before {content: \"▾\";}#sk-f8a984be-9e5b-49c2-b07c-c4ed92cbd888 div.sk-estimator input.sk-toggleable__control:checked~label.sk-toggleable__label {background-color: #d4ebff;}#sk-f8a984be-9e5b-49c2-b07c-c4ed92cbd888 div.sk-label input.sk-toggleable__control:checked~label.sk-toggleable__label {background-color: #d4ebff;}#sk-f8a984be-9e5b-49c2-b07c-c4ed92cbd888 input.sk-hidden--visually {border: 0;clip: rect(1px 1px 1px 1px);clip: rect(1px, 1px, 1px, 1px);height: 1px;margin: -1px;overflow: hidden;padding: 0;position: absolute;width: 1px;}#sk-f8a984be-9e5b-49c2-b07c-c4ed92cbd888 div.sk-estimator {font-family: monospace;background-color: #f0f8ff;border: 1px dotted black;border-radius: 0.25em;box-sizing: border-box;margin-bottom: 0.5em;}#sk-f8a984be-9e5b-49c2-b07c-c4ed92cbd888 div.sk-estimator:hover {background-color: #d4ebff;}#sk-f8a984be-9e5b-49c2-b07c-c4ed92cbd888 div.sk-parallel-item::after {content: \"\";width: 100%;border-bottom: 1px solid gray;flex-grow: 1;}#sk-f8a984be-9e5b-49c2-b07c-c4ed92cbd888 div.sk-label:hover label.sk-toggleable__label {background-color: #d4ebff;}#sk-f8a984be-9e5b-49c2-b07c-c4ed92cbd888 div.sk-serial::before {content: \"\";position: absolute;border-left: 1px solid gray;box-sizing: border-box;top: 2em;bottom: 0;left: 50%;}#sk-f8a984be-9e5b-49c2-b07c-c4ed92cbd888 div.sk-serial {display: flex;flex-direction: column;align-items: center;background-color: white;padding-right: 0.2em;padding-left: 0.2em;}#sk-f8a984be-9e5b-49c2-b07c-c4ed92cbd888 div.sk-item {z-index: 1;}#sk-f8a984be-9e5b-49c2-b07c-c4ed92cbd888 div.sk-parallel {display: flex;align-items: stretch;justify-content: center;background-color: white;}#sk-f8a984be-9e5b-49c2-b07c-c4ed92cbd888 div.sk-parallel::before {content: \"\";position: absolute;border-left: 1px solid gray;box-sizing: border-box;top: 2em;bottom: 0;left: 50%;}#sk-f8a984be-9e5b-49c2-b07c-c4ed92cbd888 div.sk-parallel-item {display: flex;flex-direction: column;position: relative;background-color: white;}#sk-f8a984be-9e5b-49c2-b07c-c4ed92cbd888 div.sk-parallel-item:first-child::after {align-self: flex-end;width: 50%;}#sk-f8a984be-9e5b-49c2-b07c-c4ed92cbd888 div.sk-parallel-item:last-child::after {align-self: flex-start;width: 50%;}#sk-f8a984be-9e5b-49c2-b07c-c4ed92cbd888 div.sk-parallel-item:only-child::after {width: 0;}#sk-f8a984be-9e5b-49c2-b07c-c4ed92cbd888 div.sk-dashed-wrapped {border: 1px dashed gray;margin: 0 0.4em 0.5em 0.4em;box-sizing: border-box;padding-bottom: 0.4em;background-color: white;position: relative;}#sk-f8a984be-9e5b-49c2-b07c-c4ed92cbd888 div.sk-label label {font-family: monospace;font-weight: bold;background-color: white;display: inline-block;line-height: 1.2em;}#sk-f8a984be-9e5b-49c2-b07c-c4ed92cbd888 div.sk-label-container {position: relative;z-index: 2;text-align: center;}#sk-f8a984be-9e5b-49c2-b07c-c4ed92cbd888 div.sk-container {/* jupyter's `normalize.less` sets `[hidden] { display: none; }` but bootstrap.min.css set `[hidden] { display: none !important; }` so we also need the `!important` here to be able to override the default hidden behavior on the sphinx rendered scikit-learn.org. See: https://github.com/scikit-learn/scikit-learn/issues/21755 */display: inline-block !important;position: relative;}#sk-f8a984be-9e5b-49c2-b07c-c4ed92cbd888 div.sk-text-repr-fallback {display: none;}</style><div id=\"sk-f8a984be-9e5b-49c2-b07c-c4ed92cbd888\" class=\"sk-top-container\"><div class=\"sk-text-repr-fallback\"><pre>ColumnTransformer(transformers=[(&#x27;pipeline-1&#x27;,\n",
              "                                 Pipeline(steps=[(&#x27;simpleimputer&#x27;,\n",
              "                                                  SimpleImputer()),\n",
              "                                                 (&#x27;standardscaler&#x27;,\n",
              "                                                  StandardScaler())]),\n",
              "                                 &lt;sklearn.compose._column_transformer.make_column_selector object at 0x7fdd78367370&gt;),\n",
              "                                (&#x27;pipeline-2&#x27;,\n",
              "                                 Pipeline(steps=[(&#x27;simpleimputer&#x27;,\n",
              "                                                  SimpleImputer(strategy=&#x27;most_frequent&#x27;)),\n",
              "                                                 (&#x27;onehotencoder&#x27;,\n",
              "                                                  OneHotEncoder(handle_unknown=&#x27;ignore&#x27;,\n",
              "                                                                sparse=False))]),\n",
              "                                 &lt;sklearn.compose._column_transformer.make_column_selector object at 0x7fdd78373d90&gt;)])</pre><b>Please rerun this cell to show the HTML repr or trust the notebook.</b></div><div class=\"sk-container\" hidden><div class=\"sk-item sk-dashed-wrapped\"><div class=\"sk-label-container\"><div class=\"sk-label sk-toggleable\"><input class=\"sk-toggleable__control sk-hidden--visually\" id=\"c4095bc6-b31c-4cc5-b5ae-98a2ffc4ec58\" type=\"checkbox\" ><label for=\"c4095bc6-b31c-4cc5-b5ae-98a2ffc4ec58\" class=\"sk-toggleable__label sk-toggleable__label-arrow\">ColumnTransformer</label><div class=\"sk-toggleable__content\"><pre>ColumnTransformer(transformers=[(&#x27;pipeline-1&#x27;,\n",
              "                                 Pipeline(steps=[(&#x27;simpleimputer&#x27;,\n",
              "                                                  SimpleImputer()),\n",
              "                                                 (&#x27;standardscaler&#x27;,\n",
              "                                                  StandardScaler())]),\n",
              "                                 &lt;sklearn.compose._column_transformer.make_column_selector object at 0x7fdd78367370&gt;),\n",
              "                                (&#x27;pipeline-2&#x27;,\n",
              "                                 Pipeline(steps=[(&#x27;simpleimputer&#x27;,\n",
              "                                                  SimpleImputer(strategy=&#x27;most_frequent&#x27;)),\n",
              "                                                 (&#x27;onehotencoder&#x27;,\n",
              "                                                  OneHotEncoder(handle_unknown=&#x27;ignore&#x27;,\n",
              "                                                                sparse=False))]),\n",
              "                                 &lt;sklearn.compose._column_transformer.make_column_selector object at 0x7fdd78373d90&gt;)])</pre></div></div></div><div class=\"sk-parallel\"><div class=\"sk-parallel-item\"><div class=\"sk-item\"><div class=\"sk-label-container\"><div class=\"sk-label sk-toggleable\"><input class=\"sk-toggleable__control sk-hidden--visually\" id=\"fedbc505-c49d-4c06-a180-6a9e78145cab\" type=\"checkbox\" ><label for=\"fedbc505-c49d-4c06-a180-6a9e78145cab\" class=\"sk-toggleable__label sk-toggleable__label-arrow\">pipeline-1</label><div class=\"sk-toggleable__content\"><pre>&lt;sklearn.compose._column_transformer.make_column_selector object at 0x7fdd78367370&gt;</pre></div></div></div><div class=\"sk-serial\"><div class=\"sk-item\"><div class=\"sk-serial\"><div class=\"sk-item\"><div class=\"sk-estimator sk-toggleable\"><input class=\"sk-toggleable__control sk-hidden--visually\" id=\"aa453030-d056-4f13-b603-75e6247c98ad\" type=\"checkbox\" ><label for=\"aa453030-d056-4f13-b603-75e6247c98ad\" class=\"sk-toggleable__label sk-toggleable__label-arrow\">SimpleImputer</label><div class=\"sk-toggleable__content\"><pre>SimpleImputer()</pre></div></div></div><div class=\"sk-item\"><div class=\"sk-estimator sk-toggleable\"><input class=\"sk-toggleable__control sk-hidden--visually\" id=\"8b8cc311-80ec-484c-bdb1-52c3c05825a5\" type=\"checkbox\" ><label for=\"8b8cc311-80ec-484c-bdb1-52c3c05825a5\" class=\"sk-toggleable__label sk-toggleable__label-arrow\">StandardScaler</label><div class=\"sk-toggleable__content\"><pre>StandardScaler()</pre></div></div></div></div></div></div></div></div><div class=\"sk-parallel-item\"><div class=\"sk-item\"><div class=\"sk-label-container\"><div class=\"sk-label sk-toggleable\"><input class=\"sk-toggleable__control sk-hidden--visually\" id=\"554a8d6b-c47f-4d73-8149-0334e46827fe\" type=\"checkbox\" ><label for=\"554a8d6b-c47f-4d73-8149-0334e46827fe\" class=\"sk-toggleable__label sk-toggleable__label-arrow\">pipeline-2</label><div class=\"sk-toggleable__content\"><pre>&lt;sklearn.compose._column_transformer.make_column_selector object at 0x7fdd78373d90&gt;</pre></div></div></div><div class=\"sk-serial\"><div class=\"sk-item\"><div class=\"sk-serial\"><div class=\"sk-item\"><div class=\"sk-estimator sk-toggleable\"><input class=\"sk-toggleable__control sk-hidden--visually\" id=\"62209ebe-376d-4c3a-9feb-49dec9999511\" type=\"checkbox\" ><label for=\"62209ebe-376d-4c3a-9feb-49dec9999511\" class=\"sk-toggleable__label sk-toggleable__label-arrow\">SimpleImputer</label><div class=\"sk-toggleable__content\"><pre>SimpleImputer(strategy=&#x27;most_frequent&#x27;)</pre></div></div></div><div class=\"sk-item\"><div class=\"sk-estimator sk-toggleable\"><input class=\"sk-toggleable__control sk-hidden--visually\" id=\"882d421e-8581-4249-832c-156b973c71a3\" type=\"checkbox\" ><label for=\"882d421e-8581-4249-832c-156b973c71a3\" class=\"sk-toggleable__label sk-toggleable__label-arrow\">OneHotEncoder</label><div class=\"sk-toggleable__content\"><pre>OneHotEncoder(handle_unknown=&#x27;ignore&#x27;, sparse=False)</pre></div></div></div></div></div></div></div></div></div></div></div></div>"
            ]
          },
          "metadata": {},
          "execution_count": 30
        }
      ]
    },
    {
      "cell_type": "code",
      "source": [
        "# transform train and test\n",
        "X_train_processed = preprocessor.transform(X_train)\n",
        "X_test_processed = preprocessor.transform(X_test)"
      ],
      "metadata": {
        "id": "--3JEoL4jl2_"
      },
      "execution_count": 31,
      "outputs": []
    },
    {
      "cell_type": "code",
      "source": [
        "# Comprueben los valores faltantes y que los datos se escalen y tengan una codificación one-hot\n",
        "print(np.isnan(X_train_processed).sum().sum(), 'missing values in training data')\n",
        "print(np.isnan(X_test_processed).sum().sum(), 'missing values in testing data')\n",
        "print('\\n')\n",
        "print('All data in X_train_processed are', X_train_processed.dtype)\n",
        "print('All data in X_test_processed are', X_test_processed.dtype)\n",
        "print('\\n')\n",
        "print('shape of data is', X_train_processed.shape)\n",
        "print('\\n')\n",
        "X_train_processed"
      ],
      "metadata": {
        "id": "2vpBeLLyjo8Y",
        "colab": {
          "base_uri": "https://localhost:8080/"
        },
        "outputId": "a0a3438f-6d92-4c1b-8d57-b227cf4e590e"
      },
      "execution_count": 32,
      "outputs": [
        {
          "output_type": "stream",
          "name": "stdout",
          "text": [
            "0 missing values in training data\n",
            "0 missing values in testing data\n",
            "\n",
            "\n",
            "All data in X_train_processed are float64\n",
            "All data in X_test_processed are float64\n",
            "\n",
            "\n",
            "shape of data is (6392, 1592)\n",
            "\n",
            "\n"
          ]
        },
        {
          "output_type": "execute_result",
          "data": {
            "text/plain": [
              "array([[ 0.81724868, -0.71277507,  1.82810922, ...,  0.        ,\n",
              "         1.        ,  0.        ],\n",
              "       [ 0.5563395 , -1.29105225,  0.60336888, ...,  0.        ,\n",
              "         1.        ,  0.        ],\n",
              "       [-0.13151196,  1.81331864,  0.24454056, ...,  1.        ,\n",
              "         0.        ,  0.        ],\n",
              "       ...,\n",
              "       [ 1.11373638, -0.92052713,  1.52302674, ...,  1.        ,\n",
              "         0.        ,  0.        ],\n",
              "       [ 1.76600931, -0.2277552 , -0.38377708, ...,  1.        ,\n",
              "         0.        ,  0.        ],\n",
              "       [ 0.81724868, -0.95867683, -0.73836105, ...,  1.        ,\n",
              "         0.        ,  0.        ]])"
            ]
          },
          "metadata": {},
          "execution_count": 32
        }
      ]
    },
    {
      "cell_type": "markdown",
      "source": [
        "Ahora para este conjunto de datos deberán:\n",
        "\n",
        "1. Crear un modelo de regresión lineal para predecir las ventas.\n",
        "\n",
        "- Evalúen el rendimiento del modelo basándose en r^2.\n",
        "- Evalúen el rendimiento del modelo basándose en RECM.\n",
        "\n",
        "2. rear un modelo de árbol de regresión para predecir las ventas.\n",
        "\n",
        "- Comparen el rendimiento del modelo basándose en r^2.\n",
        "- Comparen el rendimiento del modelo basándose en RECM.  \n",
        "\n",
        "3. Acaban de intentar 2 diferentes modelos en el conjunto de datos. Deben determinar qué modelo implementar.\n",
        "\n",
        "En general, ¿qué modelo recomiendan?\n",
        "Justifiquen su recomendación."
      ],
      "metadata": {
        "id": "AtSg1Akbi9kc"
      }
    },
    {
      "cell_type": "markdown",
      "source": [
        "**Regresión lineal**"
      ],
      "metadata": {
        "id": "t9Bjp75SjQjb"
      }
    },
    {
      "cell_type": "code",
      "source": [
        "#Se hace una instancia del modelo\n",
        "reg = LinearRegression()"
      ],
      "metadata": {
        "id": "pUeIUFKMj0Nj"
      },
      "execution_count": 33,
      "outputs": []
    },
    {
      "cell_type": "code",
      "source": [
        "#entrenamiento del modelo \n",
        "reg.fit(X_train_processed,y_train)"
      ],
      "metadata": {
        "colab": {
          "base_uri": "https://localhost:8080/",
          "height": 75
        },
        "id": "N2MXmyqKkmMA",
        "outputId": "ae13d63f-330e-4bae-ad7d-a473b0546f17"
      },
      "execution_count": 34,
      "outputs": [
        {
          "output_type": "execute_result",
          "data": {
            "text/plain": [
              "LinearRegression()"
            ],
            "text/html": [
              "<style>#sk-4a8af335-d81d-4a51-a03e-c306a0d4116b {color: black;background-color: white;}#sk-4a8af335-d81d-4a51-a03e-c306a0d4116b pre{padding: 0;}#sk-4a8af335-d81d-4a51-a03e-c306a0d4116b div.sk-toggleable {background-color: white;}#sk-4a8af335-d81d-4a51-a03e-c306a0d4116b label.sk-toggleable__label {cursor: pointer;display: block;width: 100%;margin-bottom: 0;padding: 0.3em;box-sizing: border-box;text-align: center;}#sk-4a8af335-d81d-4a51-a03e-c306a0d4116b label.sk-toggleable__label-arrow:before {content: \"▸\";float: left;margin-right: 0.25em;color: #696969;}#sk-4a8af335-d81d-4a51-a03e-c306a0d4116b label.sk-toggleable__label-arrow:hover:before {color: black;}#sk-4a8af335-d81d-4a51-a03e-c306a0d4116b div.sk-estimator:hover label.sk-toggleable__label-arrow:before {color: black;}#sk-4a8af335-d81d-4a51-a03e-c306a0d4116b div.sk-toggleable__content {max-height: 0;max-width: 0;overflow: hidden;text-align: left;background-color: #f0f8ff;}#sk-4a8af335-d81d-4a51-a03e-c306a0d4116b div.sk-toggleable__content pre {margin: 0.2em;color: black;border-radius: 0.25em;background-color: #f0f8ff;}#sk-4a8af335-d81d-4a51-a03e-c306a0d4116b input.sk-toggleable__control:checked~div.sk-toggleable__content {max-height: 200px;max-width: 100%;overflow: auto;}#sk-4a8af335-d81d-4a51-a03e-c306a0d4116b input.sk-toggleable__control:checked~label.sk-toggleable__label-arrow:before {content: \"▾\";}#sk-4a8af335-d81d-4a51-a03e-c306a0d4116b div.sk-estimator input.sk-toggleable__control:checked~label.sk-toggleable__label {background-color: #d4ebff;}#sk-4a8af335-d81d-4a51-a03e-c306a0d4116b div.sk-label input.sk-toggleable__control:checked~label.sk-toggleable__label {background-color: #d4ebff;}#sk-4a8af335-d81d-4a51-a03e-c306a0d4116b input.sk-hidden--visually {border: 0;clip: rect(1px 1px 1px 1px);clip: rect(1px, 1px, 1px, 1px);height: 1px;margin: -1px;overflow: hidden;padding: 0;position: absolute;width: 1px;}#sk-4a8af335-d81d-4a51-a03e-c306a0d4116b div.sk-estimator {font-family: monospace;background-color: #f0f8ff;border: 1px dotted black;border-radius: 0.25em;box-sizing: border-box;margin-bottom: 0.5em;}#sk-4a8af335-d81d-4a51-a03e-c306a0d4116b div.sk-estimator:hover {background-color: #d4ebff;}#sk-4a8af335-d81d-4a51-a03e-c306a0d4116b div.sk-parallel-item::after {content: \"\";width: 100%;border-bottom: 1px solid gray;flex-grow: 1;}#sk-4a8af335-d81d-4a51-a03e-c306a0d4116b div.sk-label:hover label.sk-toggleable__label {background-color: #d4ebff;}#sk-4a8af335-d81d-4a51-a03e-c306a0d4116b div.sk-serial::before {content: \"\";position: absolute;border-left: 1px solid gray;box-sizing: border-box;top: 2em;bottom: 0;left: 50%;}#sk-4a8af335-d81d-4a51-a03e-c306a0d4116b div.sk-serial {display: flex;flex-direction: column;align-items: center;background-color: white;padding-right: 0.2em;padding-left: 0.2em;}#sk-4a8af335-d81d-4a51-a03e-c306a0d4116b div.sk-item {z-index: 1;}#sk-4a8af335-d81d-4a51-a03e-c306a0d4116b div.sk-parallel {display: flex;align-items: stretch;justify-content: center;background-color: white;}#sk-4a8af335-d81d-4a51-a03e-c306a0d4116b div.sk-parallel::before {content: \"\";position: absolute;border-left: 1px solid gray;box-sizing: border-box;top: 2em;bottom: 0;left: 50%;}#sk-4a8af335-d81d-4a51-a03e-c306a0d4116b div.sk-parallel-item {display: flex;flex-direction: column;position: relative;background-color: white;}#sk-4a8af335-d81d-4a51-a03e-c306a0d4116b div.sk-parallel-item:first-child::after {align-self: flex-end;width: 50%;}#sk-4a8af335-d81d-4a51-a03e-c306a0d4116b div.sk-parallel-item:last-child::after {align-self: flex-start;width: 50%;}#sk-4a8af335-d81d-4a51-a03e-c306a0d4116b div.sk-parallel-item:only-child::after {width: 0;}#sk-4a8af335-d81d-4a51-a03e-c306a0d4116b div.sk-dashed-wrapped {border: 1px dashed gray;margin: 0 0.4em 0.5em 0.4em;box-sizing: border-box;padding-bottom: 0.4em;background-color: white;position: relative;}#sk-4a8af335-d81d-4a51-a03e-c306a0d4116b div.sk-label label {font-family: monospace;font-weight: bold;background-color: white;display: inline-block;line-height: 1.2em;}#sk-4a8af335-d81d-4a51-a03e-c306a0d4116b div.sk-label-container {position: relative;z-index: 2;text-align: center;}#sk-4a8af335-d81d-4a51-a03e-c306a0d4116b div.sk-container {/* jupyter's `normalize.less` sets `[hidden] { display: none; }` but bootstrap.min.css set `[hidden] { display: none !important; }` so we also need the `!important` here to be able to override the default hidden behavior on the sphinx rendered scikit-learn.org. See: https://github.com/scikit-learn/scikit-learn/issues/21755 */display: inline-block !important;position: relative;}#sk-4a8af335-d81d-4a51-a03e-c306a0d4116b div.sk-text-repr-fallback {display: none;}</style><div id=\"sk-4a8af335-d81d-4a51-a03e-c306a0d4116b\" class=\"sk-top-container\"><div class=\"sk-text-repr-fallback\"><pre>LinearRegression()</pre><b>Please rerun this cell to show the HTML repr or trust the notebook.</b></div><div class=\"sk-container\" hidden><div class=\"sk-item\"><div class=\"sk-estimator sk-toggleable\"><input class=\"sk-toggleable__control sk-hidden--visually\" id=\"943987e1-6156-45ec-840f-4e9d7af497f7\" type=\"checkbox\" checked><label for=\"943987e1-6156-45ec-840f-4e9d7af497f7\" class=\"sk-toggleable__label sk-toggleable__label-arrow\">LinearRegression</label><div class=\"sk-toggleable__content\"><pre>LinearRegression()</pre></div></div></div></div></div>"
            ]
          },
          "metadata": {},
          "execution_count": 34
        }
      ]
    },
    {
      "cell_type": "code",
      "source": [
        "#Se realiza las predicciones en el conjunto de datos \n",
        "train_preds_reg = reg.predict(X_train_processed)\n",
        "test_preds_reg = reg.predict(X_test_processed)"
      ],
      "metadata": {
        "id": "TvCKQFUIk4Px"
      },
      "execution_count": 71,
      "outputs": []
    },
    {
      "cell_type": "code",
      "source": [
        "# Obtengan las predicciones del conjunto de entrenamiento\n",
        "train_preds = reg.predict(X_train_processed)\n",
        "# Obtengan las predicciones del conjunto de prueba\n",
        "test_preds = reg.predict(X_test_processed)"
      ],
      "metadata": {
        "id": "gMRy6bSCR9P3"
      },
      "execution_count": 72,
      "outputs": []
    },
    {
      "cell_type": "code",
      "source": [
        "#Se evalua el modelo \n",
        "\n",
        "#R2\n",
        "\n",
        "train_score_r2 = reg.score(X_train_processed, y_train)\n",
        "test_score_r2 = reg.score(X_test_processed, y_test)\n",
        "\n",
        "print(\"Valor de métrica R2 en el conjunto de entrenamiento es:\",train_score_r2)\n",
        "print(\"Valor de métrica R2 en el conjunto de prueba es:\",test_score_r2)"
      ],
      "metadata": {
        "colab": {
          "base_uri": "https://localhost:8080/"
        },
        "id": "DXpJWG-tl7Ct",
        "outputId": "8dfbc1e2-a900-40f9-f2f3-6fa31aafca85"
      },
      "execution_count": 59,
      "outputs": [
        {
          "output_type": "stream",
          "name": "stdout",
          "text": [
            "Valor de métrica R2 en el conjunto de entrenamiento es: 0.6714378167544087\n",
            "Valor de métrica R2 en el conjunto de prueba es: -1.6575880497968222e+19\n"
          ]
        }
      ]
    },
    {
      "cell_type": "code",
      "source": [
        "#RECM\n",
        "\n",
        "rmse_train = np.sqrt(mean_squared_error(y_train, train_preds))\n",
        "rmse_test = np.sqrt(mean_squared_error(y_test, test_preds))\n",
        "\n",
        "print(f\"Valor de métrica RECM en el conjunto de entrenamiento es: {rmse_train}\")\n",
        "print(f\"Valor de métrica RECM en el conjunto de prueba es:{rmse_test}\")"
      ],
      "metadata": {
        "colab": {
          "base_uri": "https://localhost:8080/"
        },
        "id": "LU6nzeX3pS98",
        "outputId": "6be76a6d-6126-4726-e23c-32854fc7a306"
      },
      "execution_count": 73,
      "outputs": [
        {
          "output_type": "stream",
          "name": "stdout",
          "text": [
            "Valor de métrica RECM en el conjunto de entrenamiento es: 986.0858114271118\n",
            "Valor de métrica RECM en el conjunto de prueba es:6762579228318.999\n"
          ]
        }
      ]
    },
    {
      "cell_type": "markdown",
      "source": [
        "**Árbol de regresión**"
      ],
      "metadata": {
        "id": "ewU7CXN1jUXa"
      }
    },
    {
      "cell_type": "code",
      "source": [
        "#instanciar el modelo\n",
        "dec_tree = DecisionTreeRegressor(random_state = 42)"
      ],
      "metadata": {
        "id": "_lOFMRwbqrKr"
      },
      "execution_count": 54,
      "outputs": []
    },
    {
      "cell_type": "code",
      "source": [
        "#aplicar el modelo\n",
        "dec_tree.fit(X_train_processed, y_train)"
      ],
      "metadata": {
        "colab": {
          "base_uri": "https://localhost:8080/",
          "height": 75
        },
        "id": "pdQN08XBqwIZ",
        "outputId": "14d0b370-7bab-4e2a-f050-5ef5d7bd1545"
      },
      "execution_count": 55,
      "outputs": [
        {
          "output_type": "execute_result",
          "data": {
            "text/plain": [
              "DecisionTreeRegressor(random_state=42)"
            ],
            "text/html": [
              "<style>#sk-b09b2453-b356-4d75-af5f-cefa270abc6f {color: black;background-color: white;}#sk-b09b2453-b356-4d75-af5f-cefa270abc6f pre{padding: 0;}#sk-b09b2453-b356-4d75-af5f-cefa270abc6f div.sk-toggleable {background-color: white;}#sk-b09b2453-b356-4d75-af5f-cefa270abc6f label.sk-toggleable__label {cursor: pointer;display: block;width: 100%;margin-bottom: 0;padding: 0.3em;box-sizing: border-box;text-align: center;}#sk-b09b2453-b356-4d75-af5f-cefa270abc6f label.sk-toggleable__label-arrow:before {content: \"▸\";float: left;margin-right: 0.25em;color: #696969;}#sk-b09b2453-b356-4d75-af5f-cefa270abc6f label.sk-toggleable__label-arrow:hover:before {color: black;}#sk-b09b2453-b356-4d75-af5f-cefa270abc6f div.sk-estimator:hover label.sk-toggleable__label-arrow:before {color: black;}#sk-b09b2453-b356-4d75-af5f-cefa270abc6f div.sk-toggleable__content {max-height: 0;max-width: 0;overflow: hidden;text-align: left;background-color: #f0f8ff;}#sk-b09b2453-b356-4d75-af5f-cefa270abc6f div.sk-toggleable__content pre {margin: 0.2em;color: black;border-radius: 0.25em;background-color: #f0f8ff;}#sk-b09b2453-b356-4d75-af5f-cefa270abc6f input.sk-toggleable__control:checked~div.sk-toggleable__content {max-height: 200px;max-width: 100%;overflow: auto;}#sk-b09b2453-b356-4d75-af5f-cefa270abc6f input.sk-toggleable__control:checked~label.sk-toggleable__label-arrow:before {content: \"▾\";}#sk-b09b2453-b356-4d75-af5f-cefa270abc6f div.sk-estimator input.sk-toggleable__control:checked~label.sk-toggleable__label {background-color: #d4ebff;}#sk-b09b2453-b356-4d75-af5f-cefa270abc6f div.sk-label input.sk-toggleable__control:checked~label.sk-toggleable__label {background-color: #d4ebff;}#sk-b09b2453-b356-4d75-af5f-cefa270abc6f input.sk-hidden--visually {border: 0;clip: rect(1px 1px 1px 1px);clip: rect(1px, 1px, 1px, 1px);height: 1px;margin: -1px;overflow: hidden;padding: 0;position: absolute;width: 1px;}#sk-b09b2453-b356-4d75-af5f-cefa270abc6f div.sk-estimator {font-family: monospace;background-color: #f0f8ff;border: 1px dotted black;border-radius: 0.25em;box-sizing: border-box;margin-bottom: 0.5em;}#sk-b09b2453-b356-4d75-af5f-cefa270abc6f div.sk-estimator:hover {background-color: #d4ebff;}#sk-b09b2453-b356-4d75-af5f-cefa270abc6f div.sk-parallel-item::after {content: \"\";width: 100%;border-bottom: 1px solid gray;flex-grow: 1;}#sk-b09b2453-b356-4d75-af5f-cefa270abc6f div.sk-label:hover label.sk-toggleable__label {background-color: #d4ebff;}#sk-b09b2453-b356-4d75-af5f-cefa270abc6f div.sk-serial::before {content: \"\";position: absolute;border-left: 1px solid gray;box-sizing: border-box;top: 2em;bottom: 0;left: 50%;}#sk-b09b2453-b356-4d75-af5f-cefa270abc6f div.sk-serial {display: flex;flex-direction: column;align-items: center;background-color: white;padding-right: 0.2em;padding-left: 0.2em;}#sk-b09b2453-b356-4d75-af5f-cefa270abc6f div.sk-item {z-index: 1;}#sk-b09b2453-b356-4d75-af5f-cefa270abc6f div.sk-parallel {display: flex;align-items: stretch;justify-content: center;background-color: white;}#sk-b09b2453-b356-4d75-af5f-cefa270abc6f div.sk-parallel::before {content: \"\";position: absolute;border-left: 1px solid gray;box-sizing: border-box;top: 2em;bottom: 0;left: 50%;}#sk-b09b2453-b356-4d75-af5f-cefa270abc6f div.sk-parallel-item {display: flex;flex-direction: column;position: relative;background-color: white;}#sk-b09b2453-b356-4d75-af5f-cefa270abc6f div.sk-parallel-item:first-child::after {align-self: flex-end;width: 50%;}#sk-b09b2453-b356-4d75-af5f-cefa270abc6f div.sk-parallel-item:last-child::after {align-self: flex-start;width: 50%;}#sk-b09b2453-b356-4d75-af5f-cefa270abc6f div.sk-parallel-item:only-child::after {width: 0;}#sk-b09b2453-b356-4d75-af5f-cefa270abc6f div.sk-dashed-wrapped {border: 1px dashed gray;margin: 0 0.4em 0.5em 0.4em;box-sizing: border-box;padding-bottom: 0.4em;background-color: white;position: relative;}#sk-b09b2453-b356-4d75-af5f-cefa270abc6f div.sk-label label {font-family: monospace;font-weight: bold;background-color: white;display: inline-block;line-height: 1.2em;}#sk-b09b2453-b356-4d75-af5f-cefa270abc6f div.sk-label-container {position: relative;z-index: 2;text-align: center;}#sk-b09b2453-b356-4d75-af5f-cefa270abc6f div.sk-container {/* jupyter's `normalize.less` sets `[hidden] { display: none; }` but bootstrap.min.css set `[hidden] { display: none !important; }` so we also need the `!important` here to be able to override the default hidden behavior on the sphinx rendered scikit-learn.org. See: https://github.com/scikit-learn/scikit-learn/issues/21755 */display: inline-block !important;position: relative;}#sk-b09b2453-b356-4d75-af5f-cefa270abc6f div.sk-text-repr-fallback {display: none;}</style><div id=\"sk-b09b2453-b356-4d75-af5f-cefa270abc6f\" class=\"sk-top-container\"><div class=\"sk-text-repr-fallback\"><pre>DecisionTreeRegressor(random_state=42)</pre><b>Please rerun this cell to show the HTML repr or trust the notebook.</b></div><div class=\"sk-container\" hidden><div class=\"sk-item\"><div class=\"sk-estimator sk-toggleable\"><input class=\"sk-toggleable__control sk-hidden--visually\" id=\"15c7649f-ee31-4627-b6f1-a1f7e050cd4e\" type=\"checkbox\" checked><label for=\"15c7649f-ee31-4627-b6f1-a1f7e050cd4e\" class=\"sk-toggleable__label sk-toggleable__label-arrow\">DecisionTreeRegressor</label><div class=\"sk-toggleable__content\"><pre>DecisionTreeRegressor(random_state=42)</pre></div></div></div></div></div>"
            ]
          },
          "metadata": {},
          "execution_count": 55
        }
      ]
    },
    {
      "cell_type": "code",
      "source": [
        "#predecir el modelo\n",
        "train_preds = dec_tree.predict(X_train_processed)\n",
        "test_preds = dec_tree.predict(X_test_processed)"
      ],
      "metadata": {
        "id": "z9qQxIuHq2aS"
      },
      "execution_count": 56,
      "outputs": []
    },
    {
      "cell_type": "code",
      "source": [
        "#evaluar el modelo R2\n",
        "train_score = dec_tree.score(X_train_processed, y_train)\n",
        "test_score = dec_tree.score(X_test_processed, y_test)\n",
        "print(train_score)\n",
        "print(test_score)"
      ],
      "metadata": {
        "colab": {
          "base_uri": "https://localhost:8080/"
        },
        "id": "pUkksmBlLgtC",
        "outputId": "d649a4ee-ba89-497d-ee03-716c50ecbbf1"
      },
      "execution_count": 74,
      "outputs": [
        {
          "output_type": "stream",
          "name": "stdout",
          "text": [
            "0.9999999773162773\n",
            "0.23571621123237974\n"
          ]
        }
      ]
    },
    {
      "cell_type": "markdown",
      "source": [
        "Podemos observar que el modelo esta sobreajustado por lo cual se hallará cual es el valor de depth y cual seria el ideal para evitar el sobreajuste"
      ],
      "metadata": {
        "id": "uUUrEuFqP0h5"
      }
    },
    {
      "cell_type": "code",
      "source": [
        "dec_tree.get_depth()"
      ],
      "metadata": {
        "colab": {
          "base_uri": "https://localhost:8080/"
        },
        "id": "nnBcJ9LdQFFh",
        "outputId": "b7481945-fbd9-4aa0-8c87-819c24ff3781"
      },
      "execution_count": 60,
      "outputs": [
        {
          "output_type": "execute_result",
          "data": {
            "text/plain": [
              "60"
            ]
          },
          "metadata": {},
          "execution_count": 60
        }
      ]
    },
    {
      "cell_type": "code",
      "source": [
        "# Lista de valores a probar para max_depth:\n",
        "max_depth_range = list(range(2, 60))# \n",
        "# Lista para almacenar la puntuación para cada valor de max_depth:\n",
        "r2 = []\n",
        "for depth in max_depth_range:\n",
        "    dec_tree = DecisionTreeRegressor(max_depth = depth, \n",
        "                             random_state = 42)\n",
        "    dec_tree.fit(X_train_processed, y_train)\n",
        "    score = dec_tree.score(X_test_processed, y_test)\n",
        "    r2.append(score)"
      ],
      "metadata": {
        "id": "9bUt6VoeQG3-"
      },
      "execution_count": 62,
      "outputs": []
    },
    {
      "cell_type": "code",
      "source": [
        "# Visualicen qué max_depth lleva a una puntuación R2 más alta\n",
        "import matplotlib.pyplot as plt\n",
        "plt.plot(max_depth_range, r2)\n",
        "plt.xlabel('max_depth')\n",
        "plt.ylabel('R2');"
      ],
      "metadata": {
        "colab": {
          "base_uri": "https://localhost:8080/",
          "height": 361
        },
        "id": "LuDFjTAPQR3Q",
        "outputId": "1266bf69-42e8-4ee0-ff31-ea6c69d37ef7"
      },
      "execution_count": 63,
      "outputs": [
        {
          "output_type": "display_data",
          "data": {
            "text/plain": [
              "<Figure size 576x396 with 1 Axes>"
            ],
            "image/png": "[encoded data removed]"
          },
          "metadata": {}
        }
      ]
    },
    {
      "cell_type": "markdown",
      "source": [
        "El numero optimo de depth está mas o menos 4, asi que se ejecutará de nuevo el modelo haciendo este ajuste. "
      ],
      "metadata": {
        "id": "dIVMMR7SQEzZ"
      }
    },
    {
      "cell_type": "code",
      "source": [
        "#nuevo modelo ajustado\n",
        "dec_tree_2 = DecisionTreeRegressor(max_depth = 4, random_state = 42)\n",
        "dec_tree_2.fit(X_train_processed, y_train)\n",
        "train_2_score = dec_tree_2.score(X_train_processed, y_train)\n",
        "test_2_score = dec_tree_2.score(X_test_processed, y_test)\n",
        "\n",
        "print(\"Valor de métrica R2 en el conjunto de entrenamiento ajustado es:\", train_2_score)\n",
        "print(\"Valor de métrica R2 en el conjunto de prueba ajustado es:\", test_2_score)"
      ],
      "metadata": {
        "colab": {
          "base_uri": "https://localhost:8080/"
        },
        "id": "c0XKG-6xQ1HP",
        "outputId": "6c1586b1-6c5b-4f73-fd3e-72a4aaa07ff6"
      },
      "execution_count": 79,
      "outputs": [
        {
          "output_type": "stream",
          "name": "stdout",
          "text": [
            "Valor de métrica R2 en el conjunto de entrenamiento ajustado es: 0.5827053939473481\n",
            "Valor de métrica R2 en el conjunto de prueba ajustado es: 0.5839367270114887\n"
          ]
        }
      ]
    },
    {
      "cell_type": "markdown",
      "source": [
        "Podemos ver que en este modelo ajustado ya no existe el sobreajuste. \n",
        "\n",
        "Ahora terminaremos de evaluar el modelo con RECM con los datos ajustados. "
      ],
      "metadata": {
        "id": "7Knkwt3mUXs3"
      }
    },
    {
      "cell_type": "code",
      "source": [
        "#RECM\n",
        "\n",
        "train_preds = dec_tree_2.predict(X_train_processed)\n",
        "test_preds = dec_tree_2.predict(X_test_processed)\n",
        "\n",
        "rmse_train = np.sqrt(mean_squared_error(y_train, train_preds))\n",
        "rmse_test = np.sqrt(mean_squared_error(y_test, test_preds))\n",
        "\n",
        "print(f\"Valor de métrica RECM en el conjunto de entrenamiento es: {rmse_train}\")\n",
        "print(f\"Valor de métrica RECM en el conjunto de prueba es:{rmse_test}\")\n"
      ],
      "metadata": {
        "colab": {
          "base_uri": "https://localhost:8080/"
        },
        "id": "qY8t1wbwTtG7",
        "outputId": "26622925-ab11-4274-f9da-46e7f651c194"
      },
      "execution_count": 80,
      "outputs": [
        {
          "output_type": "stream",
          "name": "stdout",
          "text": [
            "Valor de métrica RECM en el conjunto de entrenamiento es: 1111.2897472534712\n",
            "Valor de métrica RECM en el conjunto de prueba es:1071.4052083436045\n"
          ]
        }
      ]
    },
    {
      "cell_type": "markdown",
      "source": [
        "**Conclusiones**"
      ],
      "metadata": {
        "id": "63LSHIYYjY7y"
      }
    },
    {
      "cell_type": "markdown",
      "source": [
        "1. Al ejecutar los dos modelos, podemos observar que el modelo de regresion lineal arroja valores inconsistentes, por lo cual, no es modelo adecuado para este conjunto de datos. \n",
        "2. El modelo de árbol de desiciones, sobreajustó los datos lo que con llevo a que ubiera gran diferencia entre los datos de entrenamiento y los de prueba, sin embargo cuando se ajusta el modelo determinado el max de profofundidad, este sobreajuste se corrige, dando resultados favorables. \n",
        "3. Entre los dos modelos el mejor para este conjunto de datos, es el arbol de decisiones, ya que prediciendo los datos en el conjunto de entrenamiento y de prueba es mejor, incluso siendo en este modelo mejor en los de prueba.  "
      ],
      "metadata": {
        "id": "92S8wlpFUhKD"
      }
    }
  ]
}