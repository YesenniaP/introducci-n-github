{
  "nbformat": 4,
  "nbformat_minor": 0,
  "metadata": {
    "colab": {
      "provenance": [],
      "mount_file_id": "1weVJZ__0gAp_qRgrj1GBKCmRE44o3Mdn",
      "authorship_tag": "ABX9TyPrkyN5gNkgFNPRM2+ccCo+",
      "include_colab_link": true
    },
    "kernelspec": {
      "name": "python3",
      "display_name": "Python 3"
    },
    "language_info": {
      "name": "python"
    }
  },
  "cells": [
    {
      "cell_type": "markdown",
      "metadata": {
        "id": "view-in-github",
        "colab_type": "text"
      },
      "source": [
        "<a href=\"https://colab.research.google.com/github/YesenniaP/introducci-n-github/blob/main/Proyecto2_stroke.ipynb\" target=\"_parent\"><img src=\"https://colab.research.google.com/assets/colab-badge.svg\" alt=\"Open In Colab\"/></a>"
      ]
    },
    {
      "cell_type": "code",
      "execution_count": 332,
      "metadata": {
        "colab": {
          "base_uri": "https://localhost:8080/"
        },
        "id": "4rglRjdel7aF",
        "outputId": "e1fa47cc-2c42-4319-a1cb-934be83984ff"
      },
      "outputs": [
        {
          "output_type": "stream",
          "name": "stdout",
          "text": [
            "Drive already mounted at /content/drive; to attempt to forcibly remount, call drive.mount(\"/content/drive\", force_remount=True).\n"
          ]
        }
      ],
      "source": [
        "#Se importará las librerias necesarias \n",
        "from google.colab import drive\n",
        "drive.mount('/content/drive')\n",
        "\n",
        "import pandas as pd\n",
        "import matplotlib.pyplot as plt\n",
        "import numpy as np\n",
        "import seaborn as sns\n",
        "import pandas as pd\n",
        "import numpy as np\n",
        "from sklearn.preprocessing import StandardScaler, OneHotEncoder\n",
        "from sklearn.impute import SimpleImputer\n",
        "from sklearn.compose import make_column_transformer, make_column_selector\n",
        "from sklearn.pipeline import make_pipeline\n",
        "from sklearn.model_selection import train_test_split\n",
        "from sklearn import set_config\n",
        "set_config(display='diagram')\n",
        "from sklearn.tree import DecisionTreeClassifier\n",
        "from sklearn.neighbors import KNeighborsClassifier\n",
        "from sklearn.linear_model import LinearRegression\n",
        "from sklearn.linear_model import LogisticRegression\n",
        "from sklearn.metrics import accuracy_score, precision_score, recall_score, classification_report, ConfusionMatrixDisplay, confusion_matrix\n",
        "from sklearn.metrics import roc_auc_score\n"
      ]
    },
    {
      "cell_type": "code",
      "source": [
        "#se importan los datos \n",
        "\n",
        "df = pd.read_csv(\"/content/drive/MyDrive/Data Science/datos/healthcare-dataset-stroke-data.csv\")\n",
        "df.head()"
      ],
      "metadata": {
        "colab": {
          "base_uri": "https://localhost:8080/",
          "height": 206
        },
        "id": "3CBY5ONxmDqE",
        "outputId": "52f66bbe-bd32-4bbb-b0ad-d458f3cd7ed4"
      },
      "execution_count": 333,
      "outputs": [
        {
          "output_type": "execute_result",
          "data": {
            "text/plain": [
              "      id  gender   age  hypertension  heart_disease ever_married  \\\n",
              "0   9046    Male  67.0             0              1          Yes   \n",
              "1  51676  Female  61.0             0              0          Yes   \n",
              "2  31112    Male  80.0             0              1          Yes   \n",
              "3  60182  Female  49.0             0              0          Yes   \n",
              "4   1665  Female  79.0             1              0          Yes   \n",
              "\n",
              "       work_type Residence_type  avg_glucose_level   bmi   smoking_status  \\\n",
              "0        Private          Urban             228.69  36.6  formerly smoked   \n",
              "1  Self-employed          Rural             202.21   NaN     never smoked   \n",
              "2        Private          Rural             105.92  32.5     never smoked   \n",
              "3        Private          Urban             171.23  34.4           smokes   \n",
              "4  Self-employed          Rural             174.12  24.0     never smoked   \n",
              "\n",
              "   stroke  \n",
              "0       1  \n",
              "1       1  \n",
              "2       1  \n",
              "3       1  \n",
              "4       1  "
            ],
            "text/html": [
              "\n",
              "  <div id=\"df-7a192f7a-d12b-41ce-8bae-fba1419f6003\">\n",
              "    <div class=\"colab-df-container\">\n",
              "      <div>\n",
              "<style scoped>\n",
              "    .dataframe tbody tr th:only-of-type {\n",
              "        vertical-align: middle;\n",
              "    }\n",
              "\n",
              "    .dataframe tbody tr th {\n",
              "        vertical-align: top;\n",
              "    }\n",
              "\n",
              "    .dataframe thead th {\n",
              "        text-align: right;\n",
              "    }\n",
              "</style>\n",
              "<table border=\"1\" class=\"dataframe\">\n",
              "  <thead>\n",
              "    <tr style=\"text-align: right;\">\n",
              "      <th></th>\n",
              "      <th>id</th>\n",
              "      <th>gender</th>\n",
              "      <th>age</th>\n",
              "      <th>hypertension</th>\n",
              "      <th>heart_disease</th>\n",
              "      <th>ever_married</th>\n",
              "      <th>work_type</th>\n",
              "      <th>Residence_type</th>\n",
              "      <th>avg_glucose_level</th>\n",
              "      <th>bmi</th>\n",
              "      <th>smoking_status</th>\n",
              "      <th>stroke</th>\n",
              "    </tr>\n",
              "  </thead>\n",
              "  <tbody>\n",
              "    <tr>\n",
              "      <th>0</th>\n",
              "      <td>9046</td>\n",
              "      <td>Male</td>\n",
              "      <td>67.0</td>\n",
              "      <td>0</td>\n",
              "      <td>1</td>\n",
              "      <td>Yes</td>\n",
              "      <td>Private</td>\n",
              "      <td>Urban</td>\n",
              "      <td>228.69</td>\n",
              "      <td>36.6</td>\n",
              "      <td>formerly smoked</td>\n",
              "      <td>1</td>\n",
              "    </tr>\n",
              "    <tr>\n",
              "      <th>1</th>\n",
              "      <td>51676</td>\n",
              "      <td>Female</td>\n",
              "      <td>61.0</td>\n",
              "      <td>0</td>\n",
              "      <td>0</td>\n",
              "      <td>Yes</td>\n",
              "      <td>Self-employed</td>\n",
              "      <td>Rural</td>\n",
              "      <td>202.21</td>\n",
              "      <td>NaN</td>\n",
              "      <td>never smoked</td>\n",
              "      <td>1</td>\n",
              "    </tr>\n",
              "    <tr>\n",
              "      <th>2</th>\n",
              "      <td>31112</td>\n",
              "      <td>Male</td>\n",
              "      <td>80.0</td>\n",
              "      <td>0</td>\n",
              "      <td>1</td>\n",
              "      <td>Yes</td>\n",
              "      <td>Private</td>\n",
              "      <td>Rural</td>\n",
              "      <td>105.92</td>\n",
              "      <td>32.5</td>\n",
              "      <td>never smoked</td>\n",
              "      <td>1</td>\n",
              "    </tr>\n",
              "    <tr>\n",
              "      <th>3</th>\n",
              "      <td>60182</td>\n",
              "      <td>Female</td>\n",
              "      <td>49.0</td>\n",
              "      <td>0</td>\n",
              "      <td>0</td>\n",
              "      <td>Yes</td>\n",
              "      <td>Private</td>\n",
              "      <td>Urban</td>\n",
              "      <td>171.23</td>\n",
              "      <td>34.4</td>\n",
              "      <td>smokes</td>\n",
              "      <td>1</td>\n",
              "    </tr>\n",
              "    <tr>\n",
              "      <th>4</th>\n",
              "      <td>1665</td>\n",
              "      <td>Female</td>\n",
              "      <td>79.0</td>\n",
              "      <td>1</td>\n",
              "      <td>0</td>\n",
              "      <td>Yes</td>\n",
              "      <td>Self-employed</td>\n",
              "      <td>Rural</td>\n",
              "      <td>174.12</td>\n",
              "      <td>24.0</td>\n",
              "      <td>never smoked</td>\n",
              "      <td>1</td>\n",
              "    </tr>\n",
              "  </tbody>\n",
              "</table>\n",
              "</div>\n",
              "      <button class=\"colab-df-convert\" onclick=\"convertToInteractive('df-7a192f7a-d12b-41ce-8bae-fba1419f6003')\"\n",
              "              title=\"Convert this dataframe to an interactive table.\"\n",
              "              style=\"display:none;\">\n",
              "        \n",
              "  <svg xmlns=\"http://www.w3.org/2000/svg\" height=\"24px\"viewBox=\"0 0 24 24\"\n",
              "       width=\"24px\">\n",
              "    <path d=\"M0 0h24v24H0V0z\" fill=\"none\"/>\n",
              "    <path d=\"M18.56 5.44l.94 2.06.94-2.06 2.06-.94-2.06-.94-.94-2.06-.94 2.06-2.06.94zm-11 1L8.5 8.5l.94-2.06 2.06-.94-2.06-.94L8.5 2.5l-.94 2.06-2.06.94zm10 10l.94 2.06.94-2.06 2.06-.94-2.06-.94-.94-2.06-.94 2.06-2.06.94z\"/><path d=\"M17.41 7.96l-1.37-1.37c-.4-.4-.92-.59-1.43-.59-.52 0-1.04.2-1.43.59L10.3 9.45l-7.72 7.72c-.78.78-.78 2.05 0 2.83L4 21.41c.39.39.9.59 1.41.59.51 0 1.02-.2 1.41-.59l7.78-7.78 2.81-2.81c.8-.78.8-2.07 0-2.86zM5.41 20L4 18.59l7.72-7.72 1.47 1.35L5.41 20z\"/>\n",
              "  </svg>\n",
              "      </button>\n",
              "      \n",
              "  <style>\n",
              "    .colab-df-container {\n",
              "      display:flex;\n",
              "      flex-wrap:wrap;\n",
              "      gap: 12px;\n",
              "    }\n",
              "\n",
              "    .colab-df-convert {\n",
              "      background-color: #E8F0FE;\n",
              "      border: none;\n",
              "      border-radius: 50%;\n",
              "      cursor: pointer;\n",
              "      display: none;\n",
              "      fill: #1967D2;\n",
              "      height: 32px;\n",
              "      padding: 0 0 0 0;\n",
              "      width: 32px;\n",
              "    }\n",
              "\n",
              "    .colab-df-convert:hover {\n",
              "      background-color: #E2EBFA;\n",
              "      box-shadow: 0px 1px 2px rgba(60, 64, 67, 0.3), 0px 1px 3px 1px rgba(60, 64, 67, 0.15);\n",
              "      fill: #174EA6;\n",
              "    }\n",
              "\n",
              "    [theme=dark] .colab-df-convert {\n",
              "      background-color: #3B4455;\n",
              "      fill: #D2E3FC;\n",
              "    }\n",
              "\n",
              "    [theme=dark] .colab-df-convert:hover {\n",
              "      background-color: #434B5C;\n",
              "      box-shadow: 0px 1px 3px 1px rgba(0, 0, 0, 0.15);\n",
              "      filter: drop-shadow(0px 1px 2px rgba(0, 0, 0, 0.3));\n",
              "      fill: #FFFFFF;\n",
              "    }\n",
              "  </style>\n",
              "\n",
              "      <script>\n",
              "        const buttonEl =\n",
              "          document.querySelector('#df-7a192f7a-d12b-41ce-8bae-fba1419f6003 button.colab-df-convert');\n",
              "        buttonEl.style.display =\n",
              "          google.colab.kernel.accessAllowed ? 'block' : 'none';\n",
              "\n",
              "        async function convertToInteractive(key) {\n",
              "          const element = document.querySelector('#df-7a192f7a-d12b-41ce-8bae-fba1419f6003');\n",
              "          const dataTable =\n",
              "            await google.colab.kernel.invokeFunction('convertToInteractive',\n",
              "                                                     [key], {});\n",
              "          if (!dataTable) return;\n",
              "\n",
              "          const docLinkHtml = 'Like what you see? Visit the ' +\n",
              "            '<a target=\"_blank\" href=https://colab.research.google.com/notebooks/data_table.ipynb>data table notebook</a>'\n",
              "            + ' to learn more about interactive tables.';\n",
              "          element.innerHTML = '';\n",
              "          dataTable['output_type'] = 'display_data';\n",
              "          await google.colab.output.renderOutput(dataTable, element);\n",
              "          const docLink = document.createElement('div');\n",
              "          docLink.innerHTML = docLinkHtml;\n",
              "          element.appendChild(docLink);\n",
              "        }\n",
              "      </script>\n",
              "    </div>\n",
              "  </div>\n",
              "  "
            ]
          },
          "metadata": {},
          "execution_count": 333
        }
      ]
    },
    {
      "cell_type": "markdown",
      "source": [
        "El conjunto de datos a analizar es para predecir si es probable que un paciente mayor de 20 años puede sufrir un accidente cerebrovascular en función de los parámetros de entrada como el sexo, la edad, tipo de residencia, indice de masa corporal, nivel de glucosa, diversas enfermedades y el tabaquismo."
      ],
      "metadata": {
        "id": "6xypSSwXmHzP"
      }
    },
    {
      "cell_type": "markdown",
      "source": [
        "#Limpieza de datos. "
      ],
      "metadata": {
        "id": "Ag2KtYnvmbn_"
      }
    },
    {
      "cell_type": "code",
      "source": [
        "df.info()"
      ],
      "metadata": {
        "colab": {
          "base_uri": "https://localhost:8080/"
        },
        "id": "k5rwLINomHL-",
        "outputId": "be59ef62-acf9-499d-8e89-d703a990af1c"
      },
      "execution_count": 334,
      "outputs": [
        {
          "output_type": "stream",
          "name": "stdout",
          "text": [
            "<class 'pandas.core.frame.DataFrame'>\n",
            "RangeIndex: 5110 entries, 0 to 5109\n",
            "Data columns (total 12 columns):\n",
            " #   Column             Non-Null Count  Dtype  \n",
            "---  ------             --------------  -----  \n",
            " 0   id                 5110 non-null   int64  \n",
            " 1   gender             5110 non-null   object \n",
            " 2   age                5110 non-null   float64\n",
            " 3   hypertension       5110 non-null   int64  \n",
            " 4   heart_disease      5110 non-null   int64  \n",
            " 5   ever_married       5110 non-null   object \n",
            " 6   work_type          5110 non-null   object \n",
            " 7   Residence_type     5110 non-null   object \n",
            " 8   avg_glucose_level  5110 non-null   float64\n",
            " 9   bmi                4909 non-null   float64\n",
            " 10  smoking_status     5110 non-null   object \n",
            " 11  stroke             5110 non-null   int64  \n",
            "dtypes: float64(3), int64(4), object(5)\n",
            "memory usage: 479.2+ KB\n"
          ]
        }
      ]
    },
    {
      "cell_type": "markdown",
      "source": [
        "En la categoria de BMI hay datos nulos, ademas tenemos 4 columnas tipo object, se revisará si hay duplicados y errores en el data. "
      ],
      "metadata": {
        "id": "6fEc3Qbsn-92"
      }
    },
    {
      "cell_type": "code",
      "source": [
        "df.duplicated().sum()"
      ],
      "metadata": {
        "colab": {
          "base_uri": "https://localhost:8080/"
        },
        "id": "P5C68hdCoLzC",
        "outputId": "5430e3f7-7293-4424-e202-786fb3eb2657"
      },
      "execution_count": 335,
      "outputs": [
        {
          "output_type": "execute_result",
          "data": {
            "text/plain": [
              "0"
            ]
          },
          "metadata": {},
          "execution_count": 335
        }
      ]
    },
    {
      "cell_type": "markdown",
      "source": [
        "No hay duplicados. \n",
        "\n",
        "Se eliminarán las columnas que no son necesarias para el objetivo del data como el id, y se hara un filtro para solo seleccionar las personas mayores de 20 años. "
      ],
      "metadata": {
        "id": "HI01EmJroTuu"
      }
    },
    {
      "cell_type": "code",
      "source": [
        "df = df.drop(columns=[\"id\"])\n",
        "df.head()"
      ],
      "metadata": {
        "colab": {
          "base_uri": "https://localhost:8080/",
          "height": 206
        },
        "id": "KidbyPULqnqW",
        "outputId": "813134e3-a7db-410b-cdd0-a7d71a4030bc"
      },
      "execution_count": 336,
      "outputs": [
        {
          "output_type": "execute_result",
          "data": {
            "text/plain": [
              "   gender   age  hypertension  heart_disease ever_married      work_type  \\\n",
              "0    Male  67.0             0              1          Yes        Private   \n",
              "1  Female  61.0             0              0          Yes  Self-employed   \n",
              "2    Male  80.0             0              1          Yes        Private   \n",
              "3  Female  49.0             0              0          Yes        Private   \n",
              "4  Female  79.0             1              0          Yes  Self-employed   \n",
              "\n",
              "  Residence_type  avg_glucose_level   bmi   smoking_status  stroke  \n",
              "0          Urban             228.69  36.6  formerly smoked       1  \n",
              "1          Rural             202.21   NaN     never smoked       1  \n",
              "2          Rural             105.92  32.5     never smoked       1  \n",
              "3          Urban             171.23  34.4           smokes       1  \n",
              "4          Rural             174.12  24.0     never smoked       1  "
            ],
            "text/html": [
              "\n",
              "  <div id=\"df-48bd1065-daf2-4cc3-997d-7c67519c27c7\">\n",
              "    <div class=\"colab-df-container\">\n",
              "      <div>\n",
              "<style scoped>\n",
              "    .dataframe tbody tr th:only-of-type {\n",
              "        vertical-align: middle;\n",
              "    }\n",
              "\n",
              "    .dataframe tbody tr th {\n",
              "        vertical-align: top;\n",
              "    }\n",
              "\n",
              "    .dataframe thead th {\n",
              "        text-align: right;\n",
              "    }\n",
              "</style>\n",
              "<table border=\"1\" class=\"dataframe\">\n",
              "  <thead>\n",
              "    <tr style=\"text-align: right;\">\n",
              "      <th></th>\n",
              "      <th>gender</th>\n",
              "      <th>age</th>\n",
              "      <th>hypertension</th>\n",
              "      <th>heart_disease</th>\n",
              "      <th>ever_married</th>\n",
              "      <th>work_type</th>\n",
              "      <th>Residence_type</th>\n",
              "      <th>avg_glucose_level</th>\n",
              "      <th>bmi</th>\n",
              "      <th>smoking_status</th>\n",
              "      <th>stroke</th>\n",
              "    </tr>\n",
              "  </thead>\n",
              "  <tbody>\n",
              "    <tr>\n",
              "      <th>0</th>\n",
              "      <td>Male</td>\n",
              "      <td>67.0</td>\n",
              "      <td>0</td>\n",
              "      <td>1</td>\n",
              "      <td>Yes</td>\n",
              "      <td>Private</td>\n",
              "      <td>Urban</td>\n",
              "      <td>228.69</td>\n",
              "      <td>36.6</td>\n",
              "      <td>formerly smoked</td>\n",
              "      <td>1</td>\n",
              "    </tr>\n",
              "    <tr>\n",
              "      <th>1</th>\n",
              "      <td>Female</td>\n",
              "      <td>61.0</td>\n",
              "      <td>0</td>\n",
              "      <td>0</td>\n",
              "      <td>Yes</td>\n",
              "      <td>Self-employed</td>\n",
              "      <td>Rural</td>\n",
              "      <td>202.21</td>\n",
              "      <td>NaN</td>\n",
              "      <td>never smoked</td>\n",
              "      <td>1</td>\n",
              "    </tr>\n",
              "    <tr>\n",
              "      <th>2</th>\n",
              "      <td>Male</td>\n",
              "      <td>80.0</td>\n",
              "      <td>0</td>\n",
              "      <td>1</td>\n",
              "      <td>Yes</td>\n",
              "      <td>Private</td>\n",
              "      <td>Rural</td>\n",
              "      <td>105.92</td>\n",
              "      <td>32.5</td>\n",
              "      <td>never smoked</td>\n",
              "      <td>1</td>\n",
              "    </tr>\n",
              "    <tr>\n",
              "      <th>3</th>\n",
              "      <td>Female</td>\n",
              "      <td>49.0</td>\n",
              "      <td>0</td>\n",
              "      <td>0</td>\n",
              "      <td>Yes</td>\n",
              "      <td>Private</td>\n",
              "      <td>Urban</td>\n",
              "      <td>171.23</td>\n",
              "      <td>34.4</td>\n",
              "      <td>smokes</td>\n",
              "      <td>1</td>\n",
              "    </tr>\n",
              "    <tr>\n",
              "      <th>4</th>\n",
              "      <td>Female</td>\n",
              "      <td>79.0</td>\n",
              "      <td>1</td>\n",
              "      <td>0</td>\n",
              "      <td>Yes</td>\n",
              "      <td>Self-employed</td>\n",
              "      <td>Rural</td>\n",
              "      <td>174.12</td>\n",
              "      <td>24.0</td>\n",
              "      <td>never smoked</td>\n",
              "      <td>1</td>\n",
              "    </tr>\n",
              "  </tbody>\n",
              "</table>\n",
              "</div>\n",
              "      <button class=\"colab-df-convert\" onclick=\"convertToInteractive('df-48bd1065-daf2-4cc3-997d-7c67519c27c7')\"\n",
              "              title=\"Convert this dataframe to an interactive table.\"\n",
              "              style=\"display:none;\">\n",
              "        \n",
              "  <svg xmlns=\"http://www.w3.org/2000/svg\" height=\"24px\"viewBox=\"0 0 24 24\"\n",
              "       width=\"24px\">\n",
              "    <path d=\"M0 0h24v24H0V0z\" fill=\"none\"/>\n",
              "    <path d=\"M18.56 5.44l.94 2.06.94-2.06 2.06-.94-2.06-.94-.94-2.06-.94 2.06-2.06.94zm-11 1L8.5 8.5l.94-2.06 2.06-.94-2.06-.94L8.5 2.5l-.94 2.06-2.06.94zm10 10l.94 2.06.94-2.06 2.06-.94-2.06-.94-.94-2.06-.94 2.06-2.06.94z\"/><path d=\"M17.41 7.96l-1.37-1.37c-.4-.4-.92-.59-1.43-.59-.52 0-1.04.2-1.43.59L10.3 9.45l-7.72 7.72c-.78.78-.78 2.05 0 2.83L4 21.41c.39.39.9.59 1.41.59.51 0 1.02-.2 1.41-.59l7.78-7.78 2.81-2.81c.8-.78.8-2.07 0-2.86zM5.41 20L4 18.59l7.72-7.72 1.47 1.35L5.41 20z\"/>\n",
              "  </svg>\n",
              "      </button>\n",
              "      \n",
              "  <style>\n",
              "    .colab-df-container {\n",
              "      display:flex;\n",
              "      flex-wrap:wrap;\n",
              "      gap: 12px;\n",
              "    }\n",
              "\n",
              "    .colab-df-convert {\n",
              "      background-color: #E8F0FE;\n",
              "      border: none;\n",
              "      border-radius: 50%;\n",
              "      cursor: pointer;\n",
              "      display: none;\n",
              "      fill: #1967D2;\n",
              "      height: 32px;\n",
              "      padding: 0 0 0 0;\n",
              "      width: 32px;\n",
              "    }\n",
              "\n",
              "    .colab-df-convert:hover {\n",
              "      background-color: #E2EBFA;\n",
              "      box-shadow: 0px 1px 2px rgba(60, 64, 67, 0.3), 0px 1px 3px 1px rgba(60, 64, 67, 0.15);\n",
              "      fill: #174EA6;\n",
              "    }\n",
              "\n",
              "    [theme=dark] .colab-df-convert {\n",
              "      background-color: #3B4455;\n",
              "      fill: #D2E3FC;\n",
              "    }\n",
              "\n",
              "    [theme=dark] .colab-df-convert:hover {\n",
              "      background-color: #434B5C;\n",
              "      box-shadow: 0px 1px 3px 1px rgba(0, 0, 0, 0.15);\n",
              "      filter: drop-shadow(0px 1px 2px rgba(0, 0, 0, 0.3));\n",
              "      fill: #FFFFFF;\n",
              "    }\n",
              "  </style>\n",
              "\n",
              "      <script>\n",
              "        const buttonEl =\n",
              "          document.querySelector('#df-48bd1065-daf2-4cc3-997d-7c67519c27c7 button.colab-df-convert');\n",
              "        buttonEl.style.display =\n",
              "          google.colab.kernel.accessAllowed ? 'block' : 'none';\n",
              "\n",
              "        async function convertToInteractive(key) {\n",
              "          const element = document.querySelector('#df-48bd1065-daf2-4cc3-997d-7c67519c27c7');\n",
              "          const dataTable =\n",
              "            await google.colab.kernel.invokeFunction('convertToInteractive',\n",
              "                                                     [key], {});\n",
              "          if (!dataTable) return;\n",
              "\n",
              "          const docLinkHtml = 'Like what you see? Visit the ' +\n",
              "            '<a target=\"_blank\" href=https://colab.research.google.com/notebooks/data_table.ipynb>data table notebook</a>'\n",
              "            + ' to learn more about interactive tables.';\n",
              "          element.innerHTML = '';\n",
              "          dataTable['output_type'] = 'display_data';\n",
              "          await google.colab.output.renderOutput(dataTable, element);\n",
              "          const docLink = document.createElement('div');\n",
              "          docLink.innerHTML = docLinkHtml;\n",
              "          element.appendChild(docLink);\n",
              "        }\n",
              "      </script>\n",
              "    </div>\n",
              "  </div>\n",
              "  "
            ]
          },
          "metadata": {},
          "execution_count": 336
        }
      ]
    },
    {
      "cell_type": "code",
      "source": [
        "#Seleccionar todos los datos para solo obtener pacientes de mayores o iguales a 15 años.\n",
        "\n",
        "age_filter = df[\"age\"] >20\n",
        "df = df.loc[age_filter, :]\n",
        "df[\"age\"].head(164)"
      ],
      "metadata": {
        "colab": {
          "base_uri": "https://localhost:8080/"
        },
        "id": "LgAwBYy-vQWj",
        "outputId": "5ceb4531-b0dc-493a-ffd5-8d7f56e76281"
      },
      "execution_count": 337,
      "outputs": [
        {
          "output_type": "execute_result",
          "data": {
            "text/plain": [
              "0      67.0\n",
              "1      61.0\n",
              "2      80.0\n",
              "3      49.0\n",
              "4      79.0\n",
              "       ... \n",
              "159    81.0\n",
              "160    76.0\n",
              "161    71.0\n",
              "163    78.0\n",
              "164    70.0\n",
              "Name: age, Length: 164, dtype: float64"
            ]
          },
          "metadata": {},
          "execution_count": 337
        }
      ]
    },
    {
      "cell_type": "markdown",
      "source": [
        "Se obtuvo el largo hasta 164 para verificar que si haya funcionado el código, ya que en el data original en la posicion 164 de la columna \"age\" se encontraba el primer dato menor de 20 años. "
      ],
      "metadata": {
        "id": "btCS5khYyfkU"
      }
    },
    {
      "cell_type": "code",
      "source": [
        "#Después de la eliminar los datos menores de 20 años, miremos cuanto es el largo del data. \n",
        "df.shape"
      ],
      "metadata": {
        "colab": {
          "base_uri": "https://localhost:8080/"
        },
        "id": "QxYJPphZosmV",
        "outputId": "7b117df6-34f9-4de6-87f8-9567cbddd678"
      },
      "execution_count": 338,
      "outputs": [
        {
          "output_type": "execute_result",
          "data": {
            "text/plain": [
              "(4085, 11)"
            ]
          },
          "metadata": {},
          "execution_count": 338
        }
      ]
    },
    {
      "cell_type": "markdown",
      "source": [
        "Se buscarán errores por columnas en el data. "
      ],
      "metadata": {
        "id": "Usj7blYMogVl"
      }
    },
    {
      "cell_type": "code",
      "source": [
        "df[\"gender\"].unique()"
      ],
      "metadata": {
        "colab": {
          "base_uri": "https://localhost:8080/"
        },
        "id": "MPSip_oxrxJD",
        "outputId": "ba9a72a7-d7e7-48e5-e69a-1bee902c9cd4"
      },
      "execution_count": 339,
      "outputs": [
        {
          "output_type": "execute_result",
          "data": {
            "text/plain": [
              "array(['Male', 'Female', 'Other'], dtype=object)"
            ]
          },
          "metadata": {},
          "execution_count": 339
        }
      ]
    },
    {
      "cell_type": "code",
      "source": [
        "#Podemos observar que existe un dato erroneo por lo que miraremos cual es la cantidad de cada valor para poder determinar que hacer con este valor erroneo "
      ],
      "metadata": {
        "id": "R3aQvhtHyAB1"
      },
      "execution_count": 340,
      "outputs": []
    },
    {
      "cell_type": "code",
      "source": [
        "df[\"gender\"].value_counts()"
      ],
      "metadata": {
        "colab": {
          "base_uri": "https://localhost:8080/"
        },
        "id": "hx01s0y5s3kl",
        "outputId": "8fb8ac43-8609-4857-a892-dff06ba112cc"
      },
      "execution_count": 341,
      "outputs": [
        {
          "output_type": "execute_result",
          "data": {
            "text/plain": [
              "Female    2476\n",
              "Male      1608\n",
              "Other        1\n",
              "Name: gender, dtype: int64"
            ]
          },
          "metadata": {},
          "execution_count": 341
        }
      ]
    },
    {
      "cell_type": "code",
      "source": [
        "#El valor erroneo es insignificante por lo cual se decide reemplazar por el genero mas comun que es el femenino "
      ],
      "metadata": {
        "id": "giTIcuFgybqo"
      },
      "execution_count": 342,
      "outputs": []
    },
    {
      "cell_type": "code",
      "source": [
        "df[\"gender\"].replace(\"Other\",\"Female\", inplace=True)"
      ],
      "metadata": {
        "id": "8UPkpJZ4yj_V"
      },
      "execution_count": 343,
      "outputs": []
    },
    {
      "cell_type": "code",
      "source": [
        "df[\"gender\"].value_counts()"
      ],
      "metadata": {
        "colab": {
          "base_uri": "https://localhost:8080/"
        },
        "id": "9cZj28eYzATe",
        "outputId": "3fc82967-4310-4570-93f7-cfdc022761db"
      },
      "execution_count": 344,
      "outputs": [
        {
          "output_type": "execute_result",
          "data": {
            "text/plain": [
              "Female    2477\n",
              "Male      1608\n",
              "Name: gender, dtype: int64"
            ]
          },
          "metadata": {},
          "execution_count": 344
        }
      ]
    },
    {
      "cell_type": "code",
      "source": [
        "#Se verificó que el error fuera corregido y efectivamente se hizo el reemplazo del dato correctamente. "
      ],
      "metadata": {
        "id": "naFAo1JqzEZn"
      },
      "execution_count": 345,
      "outputs": []
    },
    {
      "cell_type": "code",
      "source": [
        "df[\"ever_married\"].value_counts()"
      ],
      "metadata": {
        "colab": {
          "base_uri": "https://localhost:8080/"
        },
        "id": "WzRidNmO2R4j",
        "outputId": "5f524be3-cb70-494f-a903-05476411a2ac"
      },
      "execution_count": 346,
      "outputs": [
        {
          "output_type": "execute_result",
          "data": {
            "text/plain": [
              "Yes    3346\n",
              "No      739\n",
              "Name: ever_married, dtype: int64"
            ]
          },
          "metadata": {},
          "execution_count": 346
        }
      ]
    },
    {
      "cell_type": "code",
      "source": [
        "df[\"work_type\"].value_counts()"
      ],
      "metadata": {
        "colab": {
          "base_uri": "https://localhost:8080/"
        },
        "id": "hvQJZZQY2NEn",
        "outputId": "50869fbc-1dca-4372-ba03-5e5716445da9"
      },
      "execution_count": 347,
      "outputs": [
        {
          "output_type": "execute_result",
          "data": {
            "text/plain": [
              "Private          2639\n",
              "Self-employed     802\n",
              "Govt_job          643\n",
              "Never_worked        1\n",
              "Name: work_type, dtype: int64"
            ]
          },
          "metadata": {},
          "execution_count": 347
        }
      ]
    },
    {
      "cell_type": "code",
      "source": [
        "#Ya quue el nunca trabajó o no trabaja es un dato insignificante, se reemplazara´ por el valor mas frecuente que el trabjar en un lugar privado. \n",
        "\n",
        "df[\"work_type\"].replace(\"Never_worked\",\"Private\", inplace=True)\n"
      ],
      "metadata": {
        "id": "be2bKrVk2T5P"
      },
      "execution_count": 348,
      "outputs": []
    },
    {
      "cell_type": "code",
      "source": [
        "#verificamos\n",
        "\n",
        "df[\"work_type\"].value_counts()\n"
      ],
      "metadata": {
        "colab": {
          "base_uri": "https://localhost:8080/"
        },
        "id": "COx5rFwq2011",
        "outputId": "38f118c5-e74e-405d-c001-729baf4d2994"
      },
      "execution_count": 349,
      "outputs": [
        {
          "output_type": "execute_result",
          "data": {
            "text/plain": [
              "Private          2640\n",
              "Self-employed     802\n",
              "Govt_job          643\n",
              "Name: work_type, dtype: int64"
            ]
          },
          "metadata": {},
          "execution_count": 349
        }
      ]
    },
    {
      "cell_type": "code",
      "source": [
        "df[\"hypertension\"].value_counts()"
      ],
      "metadata": {
        "colab": {
          "base_uri": "https://localhost:8080/"
        },
        "id": "YvTM1Gziy3_a",
        "outputId": "0541cb3e-47f6-4736-c555-f7b24345bc39"
      },
      "execution_count": 350,
      "outputs": [
        {
          "output_type": "execute_result",
          "data": {
            "text/plain": [
              "0    3589\n",
              "1     496\n",
              "Name: hypertension, dtype: int64"
            ]
          },
          "metadata": {},
          "execution_count": 350
        }
      ]
    },
    {
      "cell_type": "code",
      "source": [
        "df[\"heart_disease\"].value_counts()\n"
      ],
      "metadata": {
        "colab": {
          "base_uri": "https://localhost:8080/"
        },
        "id": "ao4fkVnUy-WY",
        "outputId": "df3abf9c-1d22-4d52-f5c1-cf47beb9567f"
      },
      "execution_count": 351,
      "outputs": [
        {
          "output_type": "execute_result",
          "data": {
            "text/plain": [
              "0    3810\n",
              "1     275\n",
              "Name: heart_disease, dtype: int64"
            ]
          },
          "metadata": {},
          "execution_count": 351
        }
      ]
    },
    {
      "cell_type": "code",
      "source": [
        "df[\"Residence_type\"].value_counts()\n"
      ],
      "metadata": {
        "colab": {
          "base_uri": "https://localhost:8080/"
        },
        "id": "TtoixA59zKtH",
        "outputId": "9ac63d32-e22a-4da9-d30c-74220eff9e31"
      },
      "execution_count": 352,
      "outputs": [
        {
          "output_type": "execute_result",
          "data": {
            "text/plain": [
              "Urban    2087\n",
              "Rural    1998\n",
              "Name: Residence_type, dtype: int64"
            ]
          },
          "metadata": {},
          "execution_count": 352
        }
      ]
    },
    {
      "cell_type": "code",
      "source": [
        "df[\"avg_glucose_level\"].unique()\n",
        "\n"
      ],
      "metadata": {
        "colab": {
          "base_uri": "https://localhost:8080/"
        },
        "id": "sTqI7QtkzRPj",
        "outputId": "90246bc5-8641-425f-b0cf-6c84d7cc5d12"
      },
      "execution_count": 353,
      "outputs": [
        {
          "output_type": "execute_result",
          "data": {
            "text/plain": [
              "array([228.69, 202.21, 105.92, ...,  82.99, 166.29,  85.28])"
            ]
          },
          "metadata": {},
          "execution_count": 353
        }
      ]
    },
    {
      "cell_type": "code",
      "source": [
        "df[\"bmi\"].unique()\n"
      ],
      "metadata": {
        "colab": {
          "base_uri": "https://localhost:8080/"
        },
        "id": "DLmOTgXMzhvZ",
        "outputId": "62451998-45c5-4d90-cf37-3ccd5a5d0786"
      },
      "execution_count": 354,
      "outputs": [
        {
          "output_type": "execute_result",
          "data": {
            "text/plain": [
              "array([36.6,  nan, 32.5, 34.4, 24. , 29. , 27.4, 22.8, 24.2, 29.7, 36.8,\n",
              "       27.3, 28.2, 30.9, 37.5, 25.8, 37.8, 22.4, 48.9, 26.6, 27.2, 23.5,\n",
              "       28.3, 44.2, 25.4, 22.2, 30.5, 26.5, 33.7, 23.1, 32. , 29.9, 23.9,\n",
              "       28.5, 26.4, 20.2, 33.6, 38.6, 39.2, 27.7, 31.4, 36.5, 33.2, 32.8,\n",
              "       40.4, 25.3, 30.2, 47.5, 20.3, 30. , 28.9, 28.1, 31.1, 21.7, 27. ,\n",
              "       24.1, 45.9, 44.1, 22.9, 29.1, 32.3, 41.1, 25.6, 29.8, 26.3, 26.2,\n",
              "       29.4, 24.4, 28. , 28.8, 34.6, 19.4, 30.3, 41.5, 22.6, 56.6, 27.1,\n",
              "       31.3, 31. , 31.7, 35.8, 28.4, 20.1, 26.7, 38.7, 34.9, 25. , 23.8,\n",
              "       21.8, 27.5, 24.6, 32.9, 26.1, 31.9, 34.1, 36.9, 37.3, 45.7, 34.2,\n",
              "       23.6, 22.3, 37.1, 45. , 25.5, 30.8, 37.4, 34.5, 27.9, 29.5, 46. ,\n",
              "       42.5, 35.5, 26.9, 45.5, 31.5, 33. , 23.4, 30.7, 20.5, 21.5, 40. ,\n",
              "       28.6, 42.2, 29.6, 35.4, 16.9, 26.8, 39.3, 32.6, 35.9, 21.2, 42.4,\n",
              "       40.5, 36.7, 29.3, 19.6, 50.1, 17.7, 54.6, 35. , 22. , 39.4, 22.5,\n",
              "       25.2, 41.8, 60.9, 23.7, 24.5, 31.2, 25.1, 24.8, 36. , 35.3, 43.1,\n",
              "       21.4, 34.3, 27.6, 24.3, 40.1, 21.9, 25.9, 54.7, 24.9, 48.2, 20.7,\n",
              "       39.5, 23.3, 64.8, 35.1, 43.6, 21. , 47.3, 31.6, 21.6, 35.6, 41.9,\n",
              "       29.2, 37.9, 44.6, 39.6, 40.3, 41.6, 39. , 23.2, 36.1, 36.3, 46.5,\n",
              "       46.6, 35.2, 31.8, 38.2, 45.2, 49.8, 27.8, 60.2, 23. , 22.1, 26. ,\n",
              "       44.3, 51. , 39.7, 34.7, 41.2, 34.8, 19.2, 35.7, 40.8, 24.7, 32.4,\n",
              "       34. , 28.7, 20.9, 32.1, 51.5, 20.4, 30.6, 71.9, 40.9, 40.6, 20. ,\n",
              "       21.1, 42.3, 32.2, 50.2, 18.7, 42.1, 47.8, 30.1, 17.3, 36.4, 36.2,\n",
              "       55.7, 19.5, 43. , 20.8, 16.7, 33.8, 43.9, 22.7, 57.5, 37. , 38.5,\n",
              "       44. , 32.7, 54.2, 21.3, 40.2, 33.3, 52.3, 46.1, 33.1, 43.8, 50.3,\n",
              "       38.9, 43.7, 39.9, 78. , 38.3, 41. , 42.6, 43.4, 33.5, 43.2, 30.4,\n",
              "       38. , 33.4, 44.9, 44.7, 38.4, 37.6, 39.8, 53.4, 55.2, 42. , 37.2,\n",
              "       42.8, 18.8, 17.6, 42.9, 37.7, 41.3, 48.4, 50.6, 46.2, 49.5, 33.9,\n",
              "       19.3, 44.5, 45.4, 55. , 54.8, 19.7, 17.9, 43.3, 52.8, 20.6, 66.8,\n",
              "       55.1, 55.9, 57.3, 15.7, 18.3, 56. , 19.8, 44.8, 16.1, 41.7, 51.8,\n",
              "       16.4, 17.1, 19.9, 38.1, 57.7, 14.1, 44.4, 38.8, 25.7, 49.3, 39.1,\n",
              "       54. , 56.1, 53.9, 11.5, 41.4, 49.4, 45.1, 48.5, 49.2, 48.7, 53.8,\n",
              "       42.7, 52.7, 18.5, 53.5, 50.5, 45.3, 14.2, 16. , 51.9, 63.3, 40.7,\n",
              "       61.2, 48. , 46.8, 48.3, 58.1, 18.2, 50.4, 11.3, 18.1, 15. , 19.1,\n",
              "       59.7, 47.4, 52.5, 52.9, 61.6, 49.9, 54.3, 47.9, 50.9, 57.2, 64.4,\n",
              "       92. , 50.8, 57.9, 45.8, 47.6, 48.8, 18.4, 18.6, 46.4, 46.9, 47.1,\n",
              "       48.1, 17.4, 51.7, 46.3, 54.1])"
            ]
          },
          "metadata": {},
          "execution_count": 354
        }
      ]
    },
    {
      "cell_type": "code",
      "source": [
        "df[\"smoking_status\"].value_counts()\n"
      ],
      "metadata": {
        "colab": {
          "base_uri": "https://localhost:8080/"
        },
        "id": "jro2FUrkzl23",
        "outputId": "24eeffba-4543-4aa9-ab40-d5f6f237e1c6"
      },
      "execution_count": 355,
      "outputs": [
        {
          "output_type": "execute_result",
          "data": {
            "text/plain": [
              "never smoked       1672\n",
              "formerly smoked     854\n",
              "Unknown             799\n",
              "smokes              760\n",
              "Name: smoking_status, dtype: int64"
            ]
          },
          "metadata": {},
          "execution_count": 355
        }
      ]
    },
    {
      "cell_type": "markdown",
      "source": [
        "En esta columna vemos que existe una variable llamada \"Unknown\" lo cual no me arrojaría valor para el data y se trata como valores nulos, por lo cual se decide reemplazar la variable con never smoked que es lo mas frecuente en esta columna. "
      ],
      "metadata": {
        "id": "bo184msj1P8o"
      }
    },
    {
      "cell_type": "code",
      "source": [
        "df[\"smoking_status\"].replace({\"Unknown\": \"never smoked\"},inplace=True)\n",
        "df[\"smoking_status\"].value_counts()"
      ],
      "metadata": {
        "colab": {
          "base_uri": "https://localhost:8080/"
        },
        "id": "OqAgweWP1jWQ",
        "outputId": "38c15088-1198-4999-a8cc-7d3f9a2e08d0"
      },
      "execution_count": 356,
      "outputs": [
        {
          "output_type": "execute_result",
          "data": {
            "text/plain": [
              "never smoked       2471\n",
              "formerly smoked     854\n",
              "smokes              760\n",
              "Name: smoking_status, dtype: int64"
            ]
          },
          "metadata": {},
          "execution_count": 356
        }
      ]
    },
    {
      "cell_type": "code",
      "source": [
        "df[\"stroke\"].value_counts()\n"
      ],
      "metadata": {
        "colab": {
          "base_uri": "https://localhost:8080/"
        },
        "id": "c5wcBUKOzsGa",
        "outputId": "2400e7e5-cbd4-4053-e78f-93176edf6fd5"
      },
      "execution_count": 357,
      "outputs": [
        {
          "output_type": "execute_result",
          "data": {
            "text/plain": [
              "0    3838\n",
              "1     247\n",
              "Name: stroke, dtype: int64"
            ]
          },
          "metadata": {},
          "execution_count": 357
        }
      ]
    },
    {
      "cell_type": "code",
      "source": [
        "df.isna().sum()"
      ],
      "metadata": {
        "colab": {
          "base_uri": "https://localhost:8080/"
        },
        "id": "Q4V1m2nV3Osn",
        "outputId": "edfa444e-af30-4d86-99b4-94d42150ce4d"
      },
      "execution_count": 358,
      "outputs": [
        {
          "output_type": "execute_result",
          "data": {
            "text/plain": [
              "gender                 0\n",
              "age                    0\n",
              "hypertension           0\n",
              "heart_disease          0\n",
              "ever_married           0\n",
              "work_type              0\n",
              "Residence_type         0\n",
              "avg_glucose_level      0\n",
              "bmi                  176\n",
              "smoking_status         0\n",
              "stroke                 0\n",
              "dtype: int64"
            ]
          },
          "metadata": {},
          "execution_count": 358
        }
      ]
    },
    {
      "cell_type": "markdown",
      "source": [
        "Como se habia mencionado anteriormente en la columna bmi hay datos nulos, representando aproximadamente el 0.045% de los datos, por lo que se decide elimninar las filas de los datos nulos. \n"
      ],
      "metadata": {
        "id": "iFonjnJJ3i_L"
      }
    },
    {
      "cell_type": "code",
      "source": [
        "df.dropna(subset=[\"bmi\"], inplace=True) \n"
      ],
      "metadata": {
        "id": "6l8kDhgblbcg"
      },
      "execution_count": 359,
      "outputs": []
    },
    {
      "cell_type": "code",
      "source": [
        "#Verificamos\n",
        "df.isna().sum()"
      ],
      "metadata": {
        "colab": {
          "base_uri": "https://localhost:8080/"
        },
        "id": "5V1Zv7sJlWy0",
        "outputId": "bd8a25c1-7673-4b25-ac5b-2c8ae594f60d"
      },
      "execution_count": 360,
      "outputs": [
        {
          "output_type": "execute_result",
          "data": {
            "text/plain": [
              "gender               0\n",
              "age                  0\n",
              "hypertension         0\n",
              "heart_disease        0\n",
              "ever_married         0\n",
              "work_type            0\n",
              "Residence_type       0\n",
              "avg_glucose_level    0\n",
              "bmi                  0\n",
              "smoking_status       0\n",
              "stroke               0\n",
              "dtype: int64"
            ]
          },
          "metadata": {},
          "execution_count": 360
        }
      ]
    },
    {
      "cell_type": "markdown",
      "source": [
        "Se van a visualizar los datos para mirar su comportamiento por medio de gráficos y mapa de color para correlaciones. "
      ],
      "metadata": {
        "id": "XtuCUUvC3zKN"
      }
    },
    {
      "cell_type": "code",
      "source": [
        "sns.lineplot(data=df, x=\"age\", y=\"stroke\", hue =\"gender\", palette=\"tab10\")"
      ],
      "metadata": {
        "colab": {
          "base_uri": "https://localhost:8080/",
          "height": 297
        },
        "id": "1I-_eMdb3omt",
        "outputId": "73e86869-fa6f-4c6e-86ca-6a911c251068"
      },
      "execution_count": 361,
      "outputs": [
        {
          "output_type": "execute_result",
          "data": {
            "text/plain": [
              "<matplotlib.axes._subplots.AxesSubplot at 0x7fac9d97f130>"
            ]
          },
          "metadata": {},
          "execution_count": 361
        },
        {
          "output_type": "display_data",
          "data": {
            "text/plain": [
              "<Figure size 432x288 with 1 Axes>"
            ],
            "image/png": "[encoded data removed]"
          },
          "metadata": {
            "needs_background": "light"
          }
        }
      ]
    },
    {
      "cell_type": "markdown",
      "source": [
        "Podemos observar como entre mas edad y ser hombre tiene más riesgo de accidente cerebrovascular. "
      ],
      "metadata": {
        "id": "GeevF5a57tvz"
      }
    },
    {
      "cell_type": "code",
      "source": [
        "sns.barplot(data=df, x=\"smoking_status\", y=\"stroke\", hue=\"gender\", palette=\"pastel\")"
      ],
      "metadata": {
        "colab": {
          "base_uri": "https://localhost:8080/",
          "height": 298
        },
        "id": "p5ON3v5b7z9e",
        "outputId": "6d5bf9db-5991-4533-ae45-a7384a26cc9f"
      },
      "execution_count": 362,
      "outputs": [
        {
          "output_type": "execute_result",
          "data": {
            "text/plain": [
              "<matplotlib.axes._subplots.AxesSubplot at 0x7fac9dddc370>"
            ]
          },
          "metadata": {},
          "execution_count": 362
        },
        {
          "output_type": "display_data",
          "data": {
            "text/plain": [
              "<Figure size 432x288 with 1 Axes>"
            ],
            "image/png": "[encoded data removed]"
          },
          "metadata": {
            "needs_background": "light"
          }
        }
      ]
    },
    {
      "cell_type": "markdown",
      "source": [
        "Podemos observar que el haber fumado es un argumento fuerte para presentar un accidente de riesgo cardiovascular, seguido de ser un fumador activo. \n",
        "\n",
        "Ahora bien, en general, las personas en la zona urbana fue donde mas se presnetó el stroke. "
      ],
      "metadata": {
        "id": "Resx40Ie9FU9"
      }
    },
    {
      "cell_type": "code",
      "source": [
        "sns.barplot(data=df, x=\"ever_married\", y=\"stroke\", hue=\"Residence_type\", palette=\"pastel\")\n",
        "plt.xlabel(\"Estado civil\")"
      ],
      "metadata": {
        "colab": {
          "base_uri": "https://localhost:8080/",
          "height": 297
        },
        "id": "7XxVBhQK4ARl",
        "outputId": "775ef604-a9aa-41ab-8987-1d57a2f7b9a9"
      },
      "execution_count": 465,
      "outputs": [
        {
          "output_type": "execute_result",
          "data": {
            "text/plain": [
              "Text(0.5, 0, 'Estado civil')"
            ]
          },
          "metadata": {},
          "execution_count": 465
        },
        {
          "output_type": "display_data",
          "data": {
            "text/plain": [
              "<Figure size 432x288 with 1 Axes>"
            ],
            "image/png": "[encoded data removed]"
          },
          "metadata": {
            "needs_background": "light"
          }
        }
      ]
    },
    {
      "cell_type": "code",
      "source": [
        "#Hacer gráfico que muestre quien tiene mas tiesgo de stroke \n",
        "#es decir hallar el promedio de niveles de glucos de IMC y quien tiene hipertension con esos resultadps compararlo\n",
        "#con las personas que estan menor a esos valores "
      ],
      "metadata": {
        "id": "Iwk33WYJ57Xd"
      },
      "execution_count": 364,
      "outputs": []
    },
    {
      "cell_type": "markdown",
      "source": [
        "Ahora graficaremos las diferentes comobilidades para ver su comportamiento frente a un evento isquemico cerebral "
      ],
      "metadata": {
        "id": "AYmhbEwxpD9P"
      }
    },
    {
      "cell_type": "code",
      "source": [
        "comorbilidades = df[(df['hypertension'] ==1) & (df['heart_disease'] ==1) & (df[\"avg_glucose_level\"] >=126) & (df[\"bmi\"] >=30)]\n",
        "comorbilidades"
      ],
      "metadata": {
        "colab": {
          "base_uri": "https://localhost:8080/",
          "height": 551
        },
        "id": "U9s6kz2sEEhz",
        "outputId": "122bb1f1-dd38-45d1-8185-ea9ddce08623"
      },
      "execution_count": 415,
      "outputs": [
        {
          "output_type": "execute_result",
          "data": {
            "text/plain": [
              "      gender   age  hypertension  heart_disease ever_married      work_type  \\\n",
              "115     Male  71.0             1              1           No       Govt_job   \n",
              "193     Male  68.0             1              1          Yes        Private   \n",
              "201     Male  80.0             1              1          Yes        Private   \n",
              "217   Female  55.0             1              1          Yes        Private   \n",
              "243   Female  68.0             1              1          Yes        Private   \n",
              "350   Female  79.0             1              1          Yes  Self-employed   \n",
              "990     Male  61.0             1              1           No        Private   \n",
              "1067    Male  67.0             1              1          Yes        Private   \n",
              "1189    Male  73.0             1              1          Yes  Self-employed   \n",
              "1283    Male  63.0             1              1          Yes        Private   \n",
              "1737  Female  78.0             1              1          Yes        Private   \n",
              "2523    Male  75.0             1              1          Yes        Private   \n",
              "3069  Female  60.0             1              1          Yes        Private   \n",
              "3318    Male  81.0             1              1           No        Private   \n",
              "3587  Female  72.0             1              1          Yes        Private   \n",
              "4855  Female  57.0             1              1          Yes        Private   \n",
              "\n",
              "     Residence_type  avg_glucose_level   bmi   smoking_status  stroke  \n",
              "115           Rural             216.94  30.9     never smoked       1  \n",
              "193           Rural             271.74  31.1           smokes       1  \n",
              "201           Urban             175.29  31.5  formerly smoked       1  \n",
              "217           Urban             210.40  40.0           smokes       1  \n",
              "243           Urban             247.51  40.5  formerly smoked       1  \n",
              "350           Urban             200.28  30.0  formerly smoked       0  \n",
              "990           Rural             148.24  32.2  formerly smoked       0  \n",
              "1067          Rural             254.63  31.0     never smoked       0  \n",
              "1189          Rural             230.68  37.7     never smoked       0  \n",
              "1283          Urban             150.45  44.5  formerly smoked       0  \n",
              "1737          Urban             227.16  41.7     never smoked       0  \n",
              "2523          Rural             221.43  32.5     never smoked       0  \n",
              "3069          Urban             220.24  36.8     never smoked       0  \n",
              "3318          Rural             220.64  30.0     never smoked       0  \n",
              "3587          Urban             198.32  31.3  formerly smoked       0  \n",
              "4855          Rural             231.72  45.7  formerly smoked       0  "
            ],
            "text/html": [
              "\n",
              "  <div id=\"df-a2262ac0-4ff8-4a56-be0b-852392f315a0\">\n",
              "    <div class=\"colab-df-container\">\n",
              "      <div>\n",
              "<style scoped>\n",
              "    .dataframe tbody tr th:only-of-type {\n",
              "        vertical-align: middle;\n",
              "    }\n",
              "\n",
              "    .dataframe tbody tr th {\n",
              "        vertical-align: top;\n",
              "    }\n",
              "\n",
              "    .dataframe thead th {\n",
              "        text-align: right;\n",
              "    }\n",
              "</style>\n",
              "<table border=\"1\" class=\"dataframe\">\n",
              "  <thead>\n",
              "    <tr style=\"text-align: right;\">\n",
              "      <th></th>\n",
              "      <th>gender</th>\n",
              "      <th>age</th>\n",
              "      <th>hypertension</th>\n",
              "      <th>heart_disease</th>\n",
              "      <th>ever_married</th>\n",
              "      <th>work_type</th>\n",
              "      <th>Residence_type</th>\n",
              "      <th>avg_glucose_level</th>\n",
              "      <th>bmi</th>\n",
              "      <th>smoking_status</th>\n",
              "      <th>stroke</th>\n",
              "    </tr>\n",
              "  </thead>\n",
              "  <tbody>\n",
              "    <tr>\n",
              "      <th>115</th>\n",
              "      <td>Male</td>\n",
              "      <td>71.0</td>\n",
              "      <td>1</td>\n",
              "      <td>1</td>\n",
              "      <td>No</td>\n",
              "      <td>Govt_job</td>\n",
              "      <td>Rural</td>\n",
              "      <td>216.94</td>\n",
              "      <td>30.9</td>\n",
              "      <td>never smoked</td>\n",
              "      <td>1</td>\n",
              "    </tr>\n",
              "    <tr>\n",
              "      <th>193</th>\n",
              "      <td>Male</td>\n",
              "      <td>68.0</td>\n",
              "      <td>1</td>\n",
              "      <td>1</td>\n",
              "      <td>Yes</td>\n",
              "      <td>Private</td>\n",
              "      <td>Rural</td>\n",
              "      <td>271.74</td>\n",
              "      <td>31.1</td>\n",
              "      <td>smokes</td>\n",
              "      <td>1</td>\n",
              "    </tr>\n",
              "    <tr>\n",
              "      <th>201</th>\n",
              "      <td>Male</td>\n",
              "      <td>80.0</td>\n",
              "      <td>1</td>\n",
              "      <td>1</td>\n",
              "      <td>Yes</td>\n",
              "      <td>Private</td>\n",
              "      <td>Urban</td>\n",
              "      <td>175.29</td>\n",
              "      <td>31.5</td>\n",
              "      <td>formerly smoked</td>\n",
              "      <td>1</td>\n",
              "    </tr>\n",
              "    <tr>\n",
              "      <th>217</th>\n",
              "      <td>Female</td>\n",
              "      <td>55.0</td>\n",
              "      <td>1</td>\n",
              "      <td>1</td>\n",
              "      <td>Yes</td>\n",
              "      <td>Private</td>\n",
              "      <td>Urban</td>\n",
              "      <td>210.40</td>\n",
              "      <td>40.0</td>\n",
              "      <td>smokes</td>\n",
              "      <td>1</td>\n",
              "    </tr>\n",
              "    <tr>\n",
              "      <th>243</th>\n",
              "      <td>Female</td>\n",
              "      <td>68.0</td>\n",
              "      <td>1</td>\n",
              "      <td>1</td>\n",
              "      <td>Yes</td>\n",
              "      <td>Private</td>\n",
              "      <td>Urban</td>\n",
              "      <td>247.51</td>\n",
              "      <td>40.5</td>\n",
              "      <td>formerly smoked</td>\n",
              "      <td>1</td>\n",
              "    </tr>\n",
              "    <tr>\n",
              "      <th>350</th>\n",
              "      <td>Female</td>\n",
              "      <td>79.0</td>\n",
              "      <td>1</td>\n",
              "      <td>1</td>\n",
              "      <td>Yes</td>\n",
              "      <td>Self-employed</td>\n",
              "      <td>Urban</td>\n",
              "      <td>200.28</td>\n",
              "      <td>30.0</td>\n",
              "      <td>formerly smoked</td>\n",
              "      <td>0</td>\n",
              "    </tr>\n",
              "    <tr>\n",
              "      <th>990</th>\n",
              "      <td>Male</td>\n",
              "      <td>61.0</td>\n",
              "      <td>1</td>\n",
              "      <td>1</td>\n",
              "      <td>No</td>\n",
              "      <td>Private</td>\n",
              "      <td>Rural</td>\n",
              "      <td>148.24</td>\n",
              "      <td>32.2</td>\n",
              "      <td>formerly smoked</td>\n",
              "      <td>0</td>\n",
              "    </tr>\n",
              "    <tr>\n",
              "      <th>1067</th>\n",
              "      <td>Male</td>\n",
              "      <td>67.0</td>\n",
              "      <td>1</td>\n",
              "      <td>1</td>\n",
              "      <td>Yes</td>\n",
              "      <td>Private</td>\n",
              "      <td>Rural</td>\n",
              "      <td>254.63</td>\n",
              "      <td>31.0</td>\n",
              "      <td>never smoked</td>\n",
              "      <td>0</td>\n",
              "    </tr>\n",
              "    <tr>\n",
              "      <th>1189</th>\n",
              "      <td>Male</td>\n",
              "      <td>73.0</td>\n",
              "      <td>1</td>\n",
              "      <td>1</td>\n",
              "      <td>Yes</td>\n",
              "      <td>Self-employed</td>\n",
              "      <td>Rural</td>\n",
              "      <td>230.68</td>\n",
              "      <td>37.7</td>\n",
              "      <td>never smoked</td>\n",
              "      <td>0</td>\n",
              "    </tr>\n",
              "    <tr>\n",
              "      <th>1283</th>\n",
              "      <td>Male</td>\n",
              "      <td>63.0</td>\n",
              "      <td>1</td>\n",
              "      <td>1</td>\n",
              "      <td>Yes</td>\n",
              "      <td>Private</td>\n",
              "      <td>Urban</td>\n",
              "      <td>150.45</td>\n",
              "      <td>44.5</td>\n",
              "      <td>formerly smoked</td>\n",
              "      <td>0</td>\n",
              "    </tr>\n",
              "    <tr>\n",
              "      <th>1737</th>\n",
              "      <td>Female</td>\n",
              "      <td>78.0</td>\n",
              "      <td>1</td>\n",
              "      <td>1</td>\n",
              "      <td>Yes</td>\n",
              "      <td>Private</td>\n",
              "      <td>Urban</td>\n",
              "      <td>227.16</td>\n",
              "      <td>41.7</td>\n",
              "      <td>never smoked</td>\n",
              "      <td>0</td>\n",
              "    </tr>\n",
              "    <tr>\n",
              "      <th>2523</th>\n",
              "      <td>Male</td>\n",
              "      <td>75.0</td>\n",
              "      <td>1</td>\n",
              "      <td>1</td>\n",
              "      <td>Yes</td>\n",
              "      <td>Private</td>\n",
              "      <td>Rural</td>\n",
              "      <td>221.43</td>\n",
              "      <td>32.5</td>\n",
              "      <td>never smoked</td>\n",
              "      <td>0</td>\n",
              "    </tr>\n",
              "    <tr>\n",
              "      <th>3069</th>\n",
              "      <td>Female</td>\n",
              "      <td>60.0</td>\n",
              "      <td>1</td>\n",
              "      <td>1</td>\n",
              "      <td>Yes</td>\n",
              "      <td>Private</td>\n",
              "      <td>Urban</td>\n",
              "      <td>220.24</td>\n",
              "      <td>36.8</td>\n",
              "      <td>never smoked</td>\n",
              "      <td>0</td>\n",
              "    </tr>\n",
              "    <tr>\n",
              "      <th>3318</th>\n",
              "      <td>Male</td>\n",
              "      <td>81.0</td>\n",
              "      <td>1</td>\n",
              "      <td>1</td>\n",
              "      <td>No</td>\n",
              "      <td>Private</td>\n",
              "      <td>Rural</td>\n",
              "      <td>220.64</td>\n",
              "      <td>30.0</td>\n",
              "      <td>never smoked</td>\n",
              "      <td>0</td>\n",
              "    </tr>\n",
              "    <tr>\n",
              "      <th>3587</th>\n",
              "      <td>Female</td>\n",
              "      <td>72.0</td>\n",
              "      <td>1</td>\n",
              "      <td>1</td>\n",
              "      <td>Yes</td>\n",
              "      <td>Private</td>\n",
              "      <td>Urban</td>\n",
              "      <td>198.32</td>\n",
              "      <td>31.3</td>\n",
              "      <td>formerly smoked</td>\n",
              "      <td>0</td>\n",
              "    </tr>\n",
              "    <tr>\n",
              "      <th>4855</th>\n",
              "      <td>Female</td>\n",
              "      <td>57.0</td>\n",
              "      <td>1</td>\n",
              "      <td>1</td>\n",
              "      <td>Yes</td>\n",
              "      <td>Private</td>\n",
              "      <td>Rural</td>\n",
              "      <td>231.72</td>\n",
              "      <td>45.7</td>\n",
              "      <td>formerly smoked</td>\n",
              "      <td>0</td>\n",
              "    </tr>\n",
              "  </tbody>\n",
              "</table>\n",
              "</div>\n",
              "      <button class=\"colab-df-convert\" onclick=\"convertToInteractive('df-a2262ac0-4ff8-4a56-be0b-852392f315a0')\"\n",
              "              title=\"Convert this dataframe to an interactive table.\"\n",
              "              style=\"display:none;\">\n",
              "        \n",
              "  <svg xmlns=\"http://www.w3.org/2000/svg\" height=\"24px\"viewBox=\"0 0 24 24\"\n",
              "       width=\"24px\">\n",
              "    <path d=\"M0 0h24v24H0V0z\" fill=\"none\"/>\n",
              "    <path d=\"M18.56 5.44l.94 2.06.94-2.06 2.06-.94-2.06-.94-.94-2.06-.94 2.06-2.06.94zm-11 1L8.5 8.5l.94-2.06 2.06-.94-2.06-.94L8.5 2.5l-.94 2.06-2.06.94zm10 10l.94 2.06.94-2.06 2.06-.94-2.06-.94-.94-2.06-.94 2.06-2.06.94z\"/><path d=\"M17.41 7.96l-1.37-1.37c-.4-.4-.92-.59-1.43-.59-.52 0-1.04.2-1.43.59L10.3 9.45l-7.72 7.72c-.78.78-.78 2.05 0 2.83L4 21.41c.39.39.9.59 1.41.59.51 0 1.02-.2 1.41-.59l7.78-7.78 2.81-2.81c.8-.78.8-2.07 0-2.86zM5.41 20L4 18.59l7.72-7.72 1.47 1.35L5.41 20z\"/>\n",
              "  </svg>\n",
              "      </button>\n",
              "      \n",
              "  <style>\n",
              "    .colab-df-container {\n",
              "      display:flex;\n",
              "      flex-wrap:wrap;\n",
              "      gap: 12px;\n",
              "    }\n",
              "\n",
              "    .colab-df-convert {\n",
              "      background-color: #E8F0FE;\n",
              "      border: none;\n",
              "      border-radius: 50%;\n",
              "      cursor: pointer;\n",
              "      display: none;\n",
              "      fill: #1967D2;\n",
              "      height: 32px;\n",
              "      padding: 0 0 0 0;\n",
              "      width: 32px;\n",
              "    }\n",
              "\n",
              "    .colab-df-convert:hover {\n",
              "      background-color: #E2EBFA;\n",
              "      box-shadow: 0px 1px 2px rgba(60, 64, 67, 0.3), 0px 1px 3px 1px rgba(60, 64, 67, 0.15);\n",
              "      fill: #174EA6;\n",
              "    }\n",
              "\n",
              "    [theme=dark] .colab-df-convert {\n",
              "      background-color: #3B4455;\n",
              "      fill: #D2E3FC;\n",
              "    }\n",
              "\n",
              "    [theme=dark] .colab-df-convert:hover {\n",
              "      background-color: #434B5C;\n",
              "      box-shadow: 0px 1px 3px 1px rgba(0, 0, 0, 0.15);\n",
              "      filter: drop-shadow(0px 1px 2px rgba(0, 0, 0, 0.3));\n",
              "      fill: #FFFFFF;\n",
              "    }\n",
              "  </style>\n",
              "\n",
              "      <script>\n",
              "        const buttonEl =\n",
              "          document.querySelector('#df-a2262ac0-4ff8-4a56-be0b-852392f315a0 button.colab-df-convert');\n",
              "        buttonEl.style.display =\n",
              "          google.colab.kernel.accessAllowed ? 'block' : 'none';\n",
              "\n",
              "        async function convertToInteractive(key) {\n",
              "          const element = document.querySelector('#df-a2262ac0-4ff8-4a56-be0b-852392f315a0');\n",
              "          const dataTable =\n",
              "            await google.colab.kernel.invokeFunction('convertToInteractive',\n",
              "                                                     [key], {});\n",
              "          if (!dataTable) return;\n",
              "\n",
              "          const docLinkHtml = 'Like what you see? Visit the ' +\n",
              "            '<a target=\"_blank\" href=https://colab.research.google.com/notebooks/data_table.ipynb>data table notebook</a>'\n",
              "            + ' to learn more about interactive tables.';\n",
              "          element.innerHTML = '';\n",
              "          dataTable['output_type'] = 'display_data';\n",
              "          await google.colab.output.renderOutput(dataTable, element);\n",
              "          const docLink = document.createElement('div');\n",
              "          docLink.innerHTML = docLinkHtml;\n",
              "          element.appendChild(docLink);\n",
              "        }\n",
              "      </script>\n",
              "    </div>\n",
              "  </div>\n",
              "  "
            ]
          },
          "metadata": {},
          "execution_count": 415
        }
      ]
    },
    {
      "cell_type": "code",
      "source": [
        "no_comorbilidades = df[(df['hypertension'] ==0) & (df['heart_disease'] ==0) & (df[\"avg_glucose_level\"] <126) & (df[\"bmi\"] <30)]\n",
        "no_comorbilidades"
      ],
      "metadata": {
        "colab": {
          "base_uri": "https://localhost:8080/",
          "height": 424
        },
        "id": "f0uO5AZzFJES",
        "outputId": "7907fdb5-f375-4c4b-d95c-6d806ce2ad60"
      },
      "execution_count": 417,
      "outputs": [
        {
          "output_type": "execute_result",
          "data": {
            "text/plain": [
              "      gender   age  hypertension  heart_disease ever_married      work_type  \\\n",
              "7     Female  69.0             0              0           No        Private   \n",
              "9     Female  78.0             0              0          Yes        Private   \n",
              "12    Female  54.0             0              0          Yes        Private   \n",
              "24      Male  71.0             0              0          Yes        Private   \n",
              "25      Male  80.0             0              0          Yes  Self-employed   \n",
              "...      ...   ...           ...            ...          ...            ...   \n",
              "5090    Male  26.0             0              0           No       Govt_job   \n",
              "5096    Male  57.0             0              0          Yes       Govt_job   \n",
              "5101  Female  45.0             0              0          Yes        Private   \n",
              "5102  Female  57.0             0              0          Yes        Private   \n",
              "5109  Female  44.0             0              0          Yes       Govt_job   \n",
              "\n",
              "     Residence_type  avg_glucose_level   bmi   smoking_status  stroke  \n",
              "7             Urban              94.39  22.8     never smoked       1  \n",
              "9             Urban              58.57  24.2     never smoked       1  \n",
              "12            Urban             104.51  27.3           smokes       1  \n",
              "24            Urban             102.87  27.2  formerly smoked       1  \n",
              "25            Rural             104.12  23.5     never smoked       1  \n",
              "...             ...                ...   ...              ...     ...  \n",
              "5090          Rural             100.85  21.0           smokes       0  \n",
              "5096          Rural              76.62  28.2     never smoked       0  \n",
              "5101          Urban              97.95  24.5     never smoked       0  \n",
              "5102          Rural              77.93  21.7     never smoked       0  \n",
              "5109          Urban              85.28  26.2     never smoked       0  \n",
              "\n",
              "[1565 rows x 11 columns]"
            ],
            "text/html": [
              "\n",
              "  <div id=\"df-b4149d14-1593-4a5e-8ed6-e97f330d86bf\">\n",
              "    <div class=\"colab-df-container\">\n",
              "      <div>\n",
              "<style scoped>\n",
              "    .dataframe tbody tr th:only-of-type {\n",
              "        vertical-align: middle;\n",
              "    }\n",
              "\n",
              "    .dataframe tbody tr th {\n",
              "        vertical-align: top;\n",
              "    }\n",
              "\n",
              "    .dataframe thead th {\n",
              "        text-align: right;\n",
              "    }\n",
              "</style>\n",
              "<table border=\"1\" class=\"dataframe\">\n",
              "  <thead>\n",
              "    <tr style=\"text-align: right;\">\n",
              "      <th></th>\n",
              "      <th>gender</th>\n",
              "      <th>age</th>\n",
              "      <th>hypertension</th>\n",
              "      <th>heart_disease</th>\n",
              "      <th>ever_married</th>\n",
              "      <th>work_type</th>\n",
              "      <th>Residence_type</th>\n",
              "      <th>avg_glucose_level</th>\n",
              "      <th>bmi</th>\n",
              "      <th>smoking_status</th>\n",
              "      <th>stroke</th>\n",
              "    </tr>\n",
              "  </thead>\n",
              "  <tbody>\n",
              "    <tr>\n",
              "      <th>7</th>\n",
              "      <td>Female</td>\n",
              "      <td>69.0</td>\n",
              "      <td>0</td>\n",
              "      <td>0</td>\n",
              "      <td>No</td>\n",
              "      <td>Private</td>\n",
              "      <td>Urban</td>\n",
              "      <td>94.39</td>\n",
              "      <td>22.8</td>\n",
              "      <td>never smoked</td>\n",
              "      <td>1</td>\n",
              "    </tr>\n",
              "    <tr>\n",
              "      <th>9</th>\n",
              "      <td>Female</td>\n",
              "      <td>78.0</td>\n",
              "      <td>0</td>\n",
              "      <td>0</td>\n",
              "      <td>Yes</td>\n",
              "      <td>Private</td>\n",
              "      <td>Urban</td>\n",
              "      <td>58.57</td>\n",
              "      <td>24.2</td>\n",
              "      <td>never smoked</td>\n",
              "      <td>1</td>\n",
              "    </tr>\n",
              "    <tr>\n",
              "      <th>12</th>\n",
              "      <td>Female</td>\n",
              "      <td>54.0</td>\n",
              "      <td>0</td>\n",
              "      <td>0</td>\n",
              "      <td>Yes</td>\n",
              "      <td>Private</td>\n",
              "      <td>Urban</td>\n",
              "      <td>104.51</td>\n",
              "      <td>27.3</td>\n",
              "      <td>smokes</td>\n",
              "      <td>1</td>\n",
              "    </tr>\n",
              "    <tr>\n",
              "      <th>24</th>\n",
              "      <td>Male</td>\n",
              "      <td>71.0</td>\n",
              "      <td>0</td>\n",
              "      <td>0</td>\n",
              "      <td>Yes</td>\n",
              "      <td>Private</td>\n",
              "      <td>Urban</td>\n",
              "      <td>102.87</td>\n",
              "      <td>27.2</td>\n",
              "      <td>formerly smoked</td>\n",
              "      <td>1</td>\n",
              "    </tr>\n",
              "    <tr>\n",
              "      <th>25</th>\n",
              "      <td>Male</td>\n",
              "      <td>80.0</td>\n",
              "      <td>0</td>\n",
              "      <td>0</td>\n",
              "      <td>Yes</td>\n",
              "      <td>Self-employed</td>\n",
              "      <td>Rural</td>\n",
              "      <td>104.12</td>\n",
              "      <td>23.5</td>\n",
              "      <td>never smoked</td>\n",
              "      <td>1</td>\n",
              "    </tr>\n",
              "    <tr>\n",
              "      <th>...</th>\n",
              "      <td>...</td>\n",
              "      <td>...</td>\n",
              "      <td>...</td>\n",
              "      <td>...</td>\n",
              "      <td>...</td>\n",
              "      <td>...</td>\n",
              "      <td>...</td>\n",
              "      <td>...</td>\n",
              "      <td>...</td>\n",
              "      <td>...</td>\n",
              "      <td>...</td>\n",
              "    </tr>\n",
              "    <tr>\n",
              "      <th>5090</th>\n",
              "      <td>Male</td>\n",
              "      <td>26.0</td>\n",
              "      <td>0</td>\n",
              "      <td>0</td>\n",
              "      <td>No</td>\n",
              "      <td>Govt_job</td>\n",
              "      <td>Rural</td>\n",
              "      <td>100.85</td>\n",
              "      <td>21.0</td>\n",
              "      <td>smokes</td>\n",
              "      <td>0</td>\n",
              "    </tr>\n",
              "    <tr>\n",
              "      <th>5096</th>\n",
              "      <td>Male</td>\n",
              "      <td>57.0</td>\n",
              "      <td>0</td>\n",
              "      <td>0</td>\n",
              "      <td>Yes</td>\n",
              "      <td>Govt_job</td>\n",
              "      <td>Rural</td>\n",
              "      <td>76.62</td>\n",
              "      <td>28.2</td>\n",
              "      <td>never smoked</td>\n",
              "      <td>0</td>\n",
              "    </tr>\n",
              "    <tr>\n",
              "      <th>5101</th>\n",
              "      <td>Female</td>\n",
              "      <td>45.0</td>\n",
              "      <td>0</td>\n",
              "      <td>0</td>\n",
              "      <td>Yes</td>\n",
              "      <td>Private</td>\n",
              "      <td>Urban</td>\n",
              "      <td>97.95</td>\n",
              "      <td>24.5</td>\n",
              "      <td>never smoked</td>\n",
              "      <td>0</td>\n",
              "    </tr>\n",
              "    <tr>\n",
              "      <th>5102</th>\n",
              "      <td>Female</td>\n",
              "      <td>57.0</td>\n",
              "      <td>0</td>\n",
              "      <td>0</td>\n",
              "      <td>Yes</td>\n",
              "      <td>Private</td>\n",
              "      <td>Rural</td>\n",
              "      <td>77.93</td>\n",
              "      <td>21.7</td>\n",
              "      <td>never smoked</td>\n",
              "      <td>0</td>\n",
              "    </tr>\n",
              "    <tr>\n",
              "      <th>5109</th>\n",
              "      <td>Female</td>\n",
              "      <td>44.0</td>\n",
              "      <td>0</td>\n",
              "      <td>0</td>\n",
              "      <td>Yes</td>\n",
              "      <td>Govt_job</td>\n",
              "      <td>Urban</td>\n",
              "      <td>85.28</td>\n",
              "      <td>26.2</td>\n",
              "      <td>never smoked</td>\n",
              "      <td>0</td>\n",
              "    </tr>\n",
              "  </tbody>\n",
              "</table>\n",
              "<p>1565 rows × 11 columns</p>\n",
              "</div>\n",
              "      <button class=\"colab-df-convert\" onclick=\"convertToInteractive('df-b4149d14-1593-4a5e-8ed6-e97f330d86bf')\"\n",
              "              title=\"Convert this dataframe to an interactive table.\"\n",
              "              style=\"display:none;\">\n",
              "        \n",
              "  <svg xmlns=\"http://www.w3.org/2000/svg\" height=\"24px\"viewBox=\"0 0 24 24\"\n",
              "       width=\"24px\">\n",
              "    <path d=\"M0 0h24v24H0V0z\" fill=\"none\"/>\n",
              "    <path d=\"M18.56 5.44l.94 2.06.94-2.06 2.06-.94-2.06-.94-.94-2.06-.94 2.06-2.06.94zm-11 1L8.5 8.5l.94-2.06 2.06-.94-2.06-.94L8.5 2.5l-.94 2.06-2.06.94zm10 10l.94 2.06.94-2.06 2.06-.94-2.06-.94-.94-2.06-.94 2.06-2.06.94z\"/><path d=\"M17.41 7.96l-1.37-1.37c-.4-.4-.92-.59-1.43-.59-.52 0-1.04.2-1.43.59L10.3 9.45l-7.72 7.72c-.78.78-.78 2.05 0 2.83L4 21.41c.39.39.9.59 1.41.59.51 0 1.02-.2 1.41-.59l7.78-7.78 2.81-2.81c.8-.78.8-2.07 0-2.86zM5.41 20L4 18.59l7.72-7.72 1.47 1.35L5.41 20z\"/>\n",
              "  </svg>\n",
              "      </button>\n",
              "      \n",
              "  <style>\n",
              "    .colab-df-container {\n",
              "      display:flex;\n",
              "      flex-wrap:wrap;\n",
              "      gap: 12px;\n",
              "    }\n",
              "\n",
              "    .colab-df-convert {\n",
              "      background-color: #E8F0FE;\n",
              "      border: none;\n",
              "      border-radius: 50%;\n",
              "      cursor: pointer;\n",
              "      display: none;\n",
              "      fill: #1967D2;\n",
              "      height: 32px;\n",
              "      padding: 0 0 0 0;\n",
              "      width: 32px;\n",
              "    }\n",
              "\n",
              "    .colab-df-convert:hover {\n",
              "      background-color: #E2EBFA;\n",
              "      box-shadow: 0px 1px 2px rgba(60, 64, 67, 0.3), 0px 1px 3px 1px rgba(60, 64, 67, 0.15);\n",
              "      fill: #174EA6;\n",
              "    }\n",
              "\n",
              "    [theme=dark] .colab-df-convert {\n",
              "      background-color: #3B4455;\n",
              "      fill: #D2E3FC;\n",
              "    }\n",
              "\n",
              "    [theme=dark] .colab-df-convert:hover {\n",
              "      background-color: #434B5C;\n",
              "      box-shadow: 0px 1px 3px 1px rgba(0, 0, 0, 0.15);\n",
              "      filter: drop-shadow(0px 1px 2px rgba(0, 0, 0, 0.3));\n",
              "      fill: #FFFFFF;\n",
              "    }\n",
              "  </style>\n",
              "\n",
              "      <script>\n",
              "        const buttonEl =\n",
              "          document.querySelector('#df-b4149d14-1593-4a5e-8ed6-e97f330d86bf button.colab-df-convert');\n",
              "        buttonEl.style.display =\n",
              "          google.colab.kernel.accessAllowed ? 'block' : 'none';\n",
              "\n",
              "        async function convertToInteractive(key) {\n",
              "          const element = document.querySelector('#df-b4149d14-1593-4a5e-8ed6-e97f330d86bf');\n",
              "          const dataTable =\n",
              "            await google.colab.kernel.invokeFunction('convertToInteractive',\n",
              "                                                     [key], {});\n",
              "          if (!dataTable) return;\n",
              "\n",
              "          const docLinkHtml = 'Like what you see? Visit the ' +\n",
              "            '<a target=\"_blank\" href=https://colab.research.google.com/notebooks/data_table.ipynb>data table notebook</a>'\n",
              "            + ' to learn more about interactive tables.';\n",
              "          element.innerHTML = '';\n",
              "          dataTable['output_type'] = 'display_data';\n",
              "          await google.colab.output.renderOutput(dataTable, element);\n",
              "          const docLink = document.createElement('div');\n",
              "          docLink.innerHTML = docLinkHtml;\n",
              "          element.appendChild(docLink);\n",
              "        }\n",
              "      </script>\n",
              "    </div>\n",
              "  </div>\n",
              "  "
            ]
          },
          "metadata": {},
          "execution_count": 417
        }
      ]
    },
    {
      "cell_type": "code",
      "source": [
        "sns.histplot(data=comorbilidades, x=\"stroke\", multiple=\"dodge\", shrink=.5, color= \"silver\")\n",
        "plt.title(\"Personas con comorbilidades que tuvieron un accidente cerebroscular isquémico\"\"\\n\"\"\\n\")\n",
        "\n"
      ],
      "metadata": {
        "colab": {
          "base_uri": "https://localhost:8080/",
          "height": 343
        },
        "id": "lOLo_wk5NRMY",
        "outputId": "7fe1bcb9-e7c3-4f49-9242-6eae676014f5"
      },
      "execution_count": 464,
      "outputs": [
        {
          "output_type": "execute_result",
          "data": {
            "text/plain": [
              "Text(0.5, 1.0, 'Personas con comorbilidades que tuvieron un accidente cerebroscular isquémico\\n\\n')"
            ]
          },
          "metadata": {},
          "execution_count": 464
        },
        {
          "output_type": "display_data",
          "data": {
            "text/plain": [
              "<Figure size 432x288 with 1 Axes>"
            ],
            "image/png": "[encoded data removed]"
          },
          "metadata": {
            "needs_background": "light"
          }
        }
      ]
    },
    {
      "cell_type": "code",
      "source": [
        "sns.histplot(data=no_comorbilidades, x=\"stroke\", multiple=\"dodge\", shrink=.8, color= \"silver\")\n",
        "plt.title(\"Personas sin comorbilidades que tuvieron un accidente cerebroscular isquémico\"\"\\n\"\"\\n\")"
      ],
      "metadata": {
        "colab": {
          "base_uri": "https://localhost:8080/",
          "height": 343
        },
        "id": "gYhUBytHQnZc",
        "outputId": "e0bb094d-7da0-423d-8e6c-e24a5e4d7596"
      },
      "execution_count": 467,
      "outputs": [
        {
          "output_type": "execute_result",
          "data": {
            "text/plain": [
              "Text(0.5, 1.0, 'Personas sin comorbilidades que tuvieron un accidente cerebroscular isquémico\\n\\n')"
            ]
          },
          "metadata": {},
          "execution_count": 467
        },
        {
          "output_type": "display_data",
          "data": {
            "text/plain": [
              "<Figure size 432x288 with 1 Axes>"
            ],
            "image/png": "[encoded data removed]"
          },
          "metadata": {
            "needs_background": "light"
          }
        }
      ]
    },
    {
      "cell_type": "code",
      "source": [
        "sns.scatterplot(data=comorbilidades, x=\"bmi\", y=\"stroke\", size=\"avg_glucose_level\", color = \"black\")"
      ],
      "metadata": {
        "colab": {
          "base_uri": "https://localhost:8080/",
          "height": 297
        },
        "id": "QhDsmpeYIn3K",
        "outputId": "7aa3de09-6c62-4c1a-dbda-f0253faf1c2e"
      },
      "execution_count": 456,
      "outputs": [
        {
          "output_type": "execute_result",
          "data": {
            "text/plain": [
              "<matplotlib.axes._subplots.AxesSubplot at 0x7fac937c2d60>"
            ]
          },
          "metadata": {},
          "execution_count": 456
        },
        {
          "output_type": "display_data",
          "data": {
            "text/plain": [
              "<Figure size 432x288 with 1 Axes>"
            ],
            "image/png": "[encoded data removed]"
          },
          "metadata": {
            "needs_background": "light"
          }
        }
      ]
    },
    {
      "cell_type": "code",
      "source": [
        "sns.lineplot(data=comorbilidades, x=\"avg_glucose_level\", y=\"stroke\", color=\"black\")\n",
        "plt.xticks(rotation=45)"
      ],
      "metadata": {
        "colab": {
          "base_uri": "https://localhost:8080/",
          "height": 327
        },
        "id": "iJanez0HIoGp",
        "outputId": "3d1cf97c-bbfb-4c9f-a05d-cd77a7d6caf3"
      },
      "execution_count": 455,
      "outputs": [
        {
          "output_type": "execute_result",
          "data": {
            "text/plain": [
              "(array([140., 160., 180., 200., 220., 240., 260., 280.]),\n",
              " <a list of 8 Text major ticklabel objects>)"
            ]
          },
          "metadata": {},
          "execution_count": 455
        },
        {
          "output_type": "display_data",
          "data": {
            "text/plain": [
              "<Figure size 432x288 with 1 Axes>"
            ],
            "image/png": "[encoded data removed]"
          },
          "metadata": {
            "needs_background": "light"
          }
        }
      ]
    },
    {
      "cell_type": "code",
      "source": [
        "corr = df.corr()\n",
        "\n",
        "plt.figure(figsize=(10, 6))\n",
        "sns.heatmap(corr, cmap = \"gray\", annot=True)\n",
        "plt.show()"
      ],
      "metadata": {
        "id": "dpjycveX_Bpx",
        "outputId": "aa67557a-e633-4bee-e7fb-539b531ccb86",
        "colab": {
          "base_uri": "https://localhost:8080/",
          "height": 459
        }
      },
      "execution_count": 366,
      "outputs": [
        {
          "output_type": "display_data",
          "data": {
            "text/plain": [
              "<Figure size 720x432 with 2 Axes>"
            ],
            "image/png": "[encoded data removed]"
          },
          "metadata": {
            "needs_background": "light"
          }
        }
      ]
    },
    {
      "cell_type": "markdown",
      "source": [
        "Las columnas con mejor correlación con la columna objetivo son el nivel de glucosa, enfermedades de corazón hipertención y la edad siendo esta última con mas correlación. \n",
        "Por lo que podemos concluir que las variables por si solas no representan correlacion significativa con el objetivo. "
      ],
      "metadata": {
        "id": "okylqmVPKRhO"
      }
    },
    {
      "cell_type": "markdown",
      "source": [
        "##Preprocesamiento"
      ],
      "metadata": {
        "id": "t8p7eojZS0j4"
      }
    },
    {
      "cell_type": "code",
      "source": [
        "X = df.drop(\"stroke\", axis=1)\n",
        "y = df[\"stroke\"]\n"
      ],
      "metadata": {
        "id": "FLKSjpHZphxc"
      },
      "execution_count": 367,
      "outputs": []
    },
    {
      "cell_type": "code",
      "source": [
        "cat_selector = make_column_selector(dtype_include=\"object\")\n",
        "num_selector = make_column_selector(dtype_include=\"number\")"
      ],
      "metadata": {
        "id": "HMEXVoxJpiZM"
      },
      "execution_count": 368,
      "outputs": []
    },
    {
      "cell_type": "code",
      "source": [
        "# Scaler\n",
        "scaler = StandardScaler()\n",
        "# One-hot encoder\n",
        "ohe = OneHotEncoder(handle_unknown='ignore', sparse=False)"
      ],
      "metadata": {
        "id": "2vwg_YDMI2m6"
      },
      "execution_count": 369,
      "outputs": []
    },
    {
      "cell_type": "code",
      "source": [
        "# Tuples para Column Transformer\n",
        "number_tuple = (scaler, num_selector)\n",
        "category_tuple = (ohe, cat_selector)\n",
        "# ColumnTransformer\n",
        "preprocessor = make_column_transformer(number_tuple, category_tuple)\n",
        "preprocessor"
      ],
      "metadata": {
        "colab": {
          "base_uri": "https://localhost:8080/",
          "height": 118
        },
        "id": "CNWsriS8I3BT",
        "outputId": "27cfc20c-dfa4-41d1-e847-62b92f2e4edf"
      },
      "execution_count": 370,
      "outputs": [
        {
          "output_type": "execute_result",
          "data": {
            "text/plain": [
              "ColumnTransformer(transformers=[('standardscaler', StandardScaler(),\n",
              "                                 <sklearn.compose._column_transformer.make_column_selector object at 0x7fac9d315400>),\n",
              "                                ('onehotencoder',\n",
              "                                 OneHotEncoder(handle_unknown='ignore',\n",
              "                                               sparse=False),\n",
              "                                 <sklearn.compose._column_transformer.make_column_selector object at 0x7fac97b3a6d0>)])"
            ],
            "text/html": [
              "<style>#sk-5e8377d4-8ae2-4ce9-aeee-44e9895f3553 {color: black;background-color: white;}#sk-5e8377d4-8ae2-4ce9-aeee-44e9895f3553 pre{padding: 0;}#sk-5e8377d4-8ae2-4ce9-aeee-44e9895f3553 div.sk-toggleable {background-color: white;}#sk-5e8377d4-8ae2-4ce9-aeee-44e9895f3553 label.sk-toggleable__label {cursor: pointer;display: block;width: 100%;margin-bottom: 0;padding: 0.3em;box-sizing: border-box;text-align: center;}#sk-5e8377d4-8ae2-4ce9-aeee-44e9895f3553 label.sk-toggleable__label-arrow:before {content: \"▸\";float: left;margin-right: 0.25em;color: #696969;}#sk-5e8377d4-8ae2-4ce9-aeee-44e9895f3553 label.sk-toggleable__label-arrow:hover:before {color: black;}#sk-5e8377d4-8ae2-4ce9-aeee-44e9895f3553 div.sk-estimator:hover label.sk-toggleable__label-arrow:before {color: black;}#sk-5e8377d4-8ae2-4ce9-aeee-44e9895f3553 div.sk-toggleable__content {max-height: 0;max-width: 0;overflow: hidden;text-align: left;background-color: #f0f8ff;}#sk-5e8377d4-8ae2-4ce9-aeee-44e9895f3553 div.sk-toggleable__content pre {margin: 0.2em;color: black;border-radius: 0.25em;background-color: #f0f8ff;}#sk-5e8377d4-8ae2-4ce9-aeee-44e9895f3553 input.sk-toggleable__control:checked~div.sk-toggleable__content {max-height: 200px;max-width: 100%;overflow: auto;}#sk-5e8377d4-8ae2-4ce9-aeee-44e9895f3553 input.sk-toggleable__control:checked~label.sk-toggleable__label-arrow:before {content: \"▾\";}#sk-5e8377d4-8ae2-4ce9-aeee-44e9895f3553 div.sk-estimator input.sk-toggleable__control:checked~label.sk-toggleable__label {background-color: #d4ebff;}#sk-5e8377d4-8ae2-4ce9-aeee-44e9895f3553 div.sk-label input.sk-toggleable__control:checked~label.sk-toggleable__label {background-color: #d4ebff;}#sk-5e8377d4-8ae2-4ce9-aeee-44e9895f3553 input.sk-hidden--visually {border: 0;clip: rect(1px 1px 1px 1px);clip: rect(1px, 1px, 1px, 1px);height: 1px;margin: -1px;overflow: hidden;padding: 0;position: absolute;width: 1px;}#sk-5e8377d4-8ae2-4ce9-aeee-44e9895f3553 div.sk-estimator {font-family: monospace;background-color: #f0f8ff;border: 1px dotted black;border-radius: 0.25em;box-sizing: border-box;margin-bottom: 0.5em;}#sk-5e8377d4-8ae2-4ce9-aeee-44e9895f3553 div.sk-estimator:hover {background-color: #d4ebff;}#sk-5e8377d4-8ae2-4ce9-aeee-44e9895f3553 div.sk-parallel-item::after {content: \"\";width: 100%;border-bottom: 1px solid gray;flex-grow: 1;}#sk-5e8377d4-8ae2-4ce9-aeee-44e9895f3553 div.sk-label:hover label.sk-toggleable__label {background-color: #d4ebff;}#sk-5e8377d4-8ae2-4ce9-aeee-44e9895f3553 div.sk-serial::before {content: \"\";position: absolute;border-left: 1px solid gray;box-sizing: border-box;top: 2em;bottom: 0;left: 50%;}#sk-5e8377d4-8ae2-4ce9-aeee-44e9895f3553 div.sk-serial {display: flex;flex-direction: column;align-items: center;background-color: white;padding-right: 0.2em;padding-left: 0.2em;}#sk-5e8377d4-8ae2-4ce9-aeee-44e9895f3553 div.sk-item {z-index: 1;}#sk-5e8377d4-8ae2-4ce9-aeee-44e9895f3553 div.sk-parallel {display: flex;align-items: stretch;justify-content: center;background-color: white;}#sk-5e8377d4-8ae2-4ce9-aeee-44e9895f3553 div.sk-parallel::before {content: \"\";position: absolute;border-left: 1px solid gray;box-sizing: border-box;top: 2em;bottom: 0;left: 50%;}#sk-5e8377d4-8ae2-4ce9-aeee-44e9895f3553 div.sk-parallel-item {display: flex;flex-direction: column;position: relative;background-color: white;}#sk-5e8377d4-8ae2-4ce9-aeee-44e9895f3553 div.sk-parallel-item:first-child::after {align-self: flex-end;width: 50%;}#sk-5e8377d4-8ae2-4ce9-aeee-44e9895f3553 div.sk-parallel-item:last-child::after {align-self: flex-start;width: 50%;}#sk-5e8377d4-8ae2-4ce9-aeee-44e9895f3553 div.sk-parallel-item:only-child::after {width: 0;}#sk-5e8377d4-8ae2-4ce9-aeee-44e9895f3553 div.sk-dashed-wrapped {border: 1px dashed gray;margin: 0 0.4em 0.5em 0.4em;box-sizing: border-box;padding-bottom: 0.4em;background-color: white;position: relative;}#sk-5e8377d4-8ae2-4ce9-aeee-44e9895f3553 div.sk-label label {font-family: monospace;font-weight: bold;background-color: white;display: inline-block;line-height: 1.2em;}#sk-5e8377d4-8ae2-4ce9-aeee-44e9895f3553 div.sk-label-container {position: relative;z-index: 2;text-align: center;}#sk-5e8377d4-8ae2-4ce9-aeee-44e9895f3553 div.sk-container {/* jupyter's `normalize.less` sets `[hidden] { display: none; }` but bootstrap.min.css set `[hidden] { display: none !important; }` so we also need the `!important` here to be able to override the default hidden behavior on the sphinx rendered scikit-learn.org. See: https://github.com/scikit-learn/scikit-learn/issues/21755 */display: inline-block !important;position: relative;}#sk-5e8377d4-8ae2-4ce9-aeee-44e9895f3553 div.sk-text-repr-fallback {display: none;}</style><div id=\"sk-5e8377d4-8ae2-4ce9-aeee-44e9895f3553\" class=\"sk-top-container\"><div class=\"sk-text-repr-fallback\"><pre>ColumnTransformer(transformers=[(&#x27;standardscaler&#x27;, StandardScaler(),\n",
              "                                 &lt;sklearn.compose._column_transformer.make_column_selector object at 0x7fac9d315400&gt;),\n",
              "                                (&#x27;onehotencoder&#x27;,\n",
              "                                 OneHotEncoder(handle_unknown=&#x27;ignore&#x27;,\n",
              "                                               sparse=False),\n",
              "                                 &lt;sklearn.compose._column_transformer.make_column_selector object at 0x7fac97b3a6d0&gt;)])</pre><b>Please rerun this cell to show the HTML repr or trust the notebook.</b></div><div class=\"sk-container\" hidden><div class=\"sk-item sk-dashed-wrapped\"><div class=\"sk-label-container\"><div class=\"sk-label sk-toggleable\"><input class=\"sk-toggleable__control sk-hidden--visually\" id=\"c73acfe9-cee2-40ac-a883-0ae23d87e422\" type=\"checkbox\" ><label for=\"c73acfe9-cee2-40ac-a883-0ae23d87e422\" class=\"sk-toggleable__label sk-toggleable__label-arrow\">ColumnTransformer</label><div class=\"sk-toggleable__content\"><pre>ColumnTransformer(transformers=[(&#x27;standardscaler&#x27;, StandardScaler(),\n",
              "                                 &lt;sklearn.compose._column_transformer.make_column_selector object at 0x7fac9d315400&gt;),\n",
              "                                (&#x27;onehotencoder&#x27;,\n",
              "                                 OneHotEncoder(handle_unknown=&#x27;ignore&#x27;,\n",
              "                                               sparse=False),\n",
              "                                 &lt;sklearn.compose._column_transformer.make_column_selector object at 0x7fac97b3a6d0&gt;)])</pre></div></div></div><div class=\"sk-parallel\"><div class=\"sk-parallel-item\"><div class=\"sk-item\"><div class=\"sk-label-container\"><div class=\"sk-label sk-toggleable\"><input class=\"sk-toggleable__control sk-hidden--visually\" id=\"f4b81261-f3ca-4a4c-85fe-01689cf60b63\" type=\"checkbox\" ><label for=\"f4b81261-f3ca-4a4c-85fe-01689cf60b63\" class=\"sk-toggleable__label sk-toggleable__label-arrow\">standardscaler</label><div class=\"sk-toggleable__content\"><pre>&lt;sklearn.compose._column_transformer.make_column_selector object at 0x7fac9d315400&gt;</pre></div></div></div><div class=\"sk-serial\"><div class=\"sk-item\"><div class=\"sk-estimator sk-toggleable\"><input class=\"sk-toggleable__control sk-hidden--visually\" id=\"49bdf54f-f5da-44d5-8124-97e306cd34ee\" type=\"checkbox\" ><label for=\"49bdf54f-f5da-44d5-8124-97e306cd34ee\" class=\"sk-toggleable__label sk-toggleable__label-arrow\">StandardScaler</label><div class=\"sk-toggleable__content\"><pre>StandardScaler()</pre></div></div></div></div></div></div><div class=\"sk-parallel-item\"><div class=\"sk-item\"><div class=\"sk-label-container\"><div class=\"sk-label sk-toggleable\"><input class=\"sk-toggleable__control sk-hidden--visually\" id=\"74922bfa-6497-40f9-8299-fb9b18bc09d1\" type=\"checkbox\" ><label for=\"74922bfa-6497-40f9-8299-fb9b18bc09d1\" class=\"sk-toggleable__label sk-toggleable__label-arrow\">onehotencoder</label><div class=\"sk-toggleable__content\"><pre>&lt;sklearn.compose._column_transformer.make_column_selector object at 0x7fac97b3a6d0&gt;</pre></div></div></div><div class=\"sk-serial\"><div class=\"sk-item\"><div class=\"sk-estimator sk-toggleable\"><input class=\"sk-toggleable__control sk-hidden--visually\" id=\"98ae3c3b-fc28-46f5-9977-41a862ea5e7c\" type=\"checkbox\" ><label for=\"98ae3c3b-fc28-46f5-9977-41a862ea5e7c\" class=\"sk-toggleable__label sk-toggleable__label-arrow\">OneHotEncoder</label><div class=\"sk-toggleable__content\"><pre>OneHotEncoder(handle_unknown=&#x27;ignore&#x27;, sparse=False)</pre></div></div></div></div></div></div></div></div></div></div>"
            ]
          },
          "metadata": {},
          "execution_count": 370
        }
      ]
    },
    {
      "cell_type": "code",
      "source": [
        "# fit on train\n",
        "preprocessor.fit(X)"
      ],
      "metadata": {
        "colab": {
          "base_uri": "https://localhost:8080/",
          "height": 118
        },
        "id": "6wQkdd8WI_7_",
        "outputId": "6887de85-f087-4261-9913-0e360b799ae2"
      },
      "execution_count": 371,
      "outputs": [
        {
          "output_type": "execute_result",
          "data": {
            "text/plain": [
              "ColumnTransformer(transformers=[('standardscaler', StandardScaler(),\n",
              "                                 <sklearn.compose._column_transformer.make_column_selector object at 0x7fac9d315400>),\n",
              "                                ('onehotencoder',\n",
              "                                 OneHotEncoder(handle_unknown='ignore',\n",
              "                                               sparse=False),\n",
              "                                 <sklearn.compose._column_transformer.make_column_selector object at 0x7fac97b3a6d0>)])"
            ],
            "text/html": [
              "<style>#sk-a78dea81-135b-4451-8392-152e318b0c83 {color: black;background-color: white;}#sk-a78dea81-135b-4451-8392-152e318b0c83 pre{padding: 0;}#sk-a78dea81-135b-4451-8392-152e318b0c83 div.sk-toggleable {background-color: white;}#sk-a78dea81-135b-4451-8392-152e318b0c83 label.sk-toggleable__label {cursor: pointer;display: block;width: 100%;margin-bottom: 0;padding: 0.3em;box-sizing: border-box;text-align: center;}#sk-a78dea81-135b-4451-8392-152e318b0c83 label.sk-toggleable__label-arrow:before {content: \"▸\";float: left;margin-right: 0.25em;color: #696969;}#sk-a78dea81-135b-4451-8392-152e318b0c83 label.sk-toggleable__label-arrow:hover:before {color: black;}#sk-a78dea81-135b-4451-8392-152e318b0c83 div.sk-estimator:hover label.sk-toggleable__label-arrow:before {color: black;}#sk-a78dea81-135b-4451-8392-152e318b0c83 div.sk-toggleable__content {max-height: 0;max-width: 0;overflow: hidden;text-align: left;background-color: #f0f8ff;}#sk-a78dea81-135b-4451-8392-152e318b0c83 div.sk-toggleable__content pre {margin: 0.2em;color: black;border-radius: 0.25em;background-color: #f0f8ff;}#sk-a78dea81-135b-4451-8392-152e318b0c83 input.sk-toggleable__control:checked~div.sk-toggleable__content {max-height: 200px;max-width: 100%;overflow: auto;}#sk-a78dea81-135b-4451-8392-152e318b0c83 input.sk-toggleable__control:checked~label.sk-toggleable__label-arrow:before {content: \"▾\";}#sk-a78dea81-135b-4451-8392-152e318b0c83 div.sk-estimator input.sk-toggleable__control:checked~label.sk-toggleable__label {background-color: #d4ebff;}#sk-a78dea81-135b-4451-8392-152e318b0c83 div.sk-label input.sk-toggleable__control:checked~label.sk-toggleable__label {background-color: #d4ebff;}#sk-a78dea81-135b-4451-8392-152e318b0c83 input.sk-hidden--visually {border: 0;clip: rect(1px 1px 1px 1px);clip: rect(1px, 1px, 1px, 1px);height: 1px;margin: -1px;overflow: hidden;padding: 0;position: absolute;width: 1px;}#sk-a78dea81-135b-4451-8392-152e318b0c83 div.sk-estimator {font-family: monospace;background-color: #f0f8ff;border: 1px dotted black;border-radius: 0.25em;box-sizing: border-box;margin-bottom: 0.5em;}#sk-a78dea81-135b-4451-8392-152e318b0c83 div.sk-estimator:hover {background-color: #d4ebff;}#sk-a78dea81-135b-4451-8392-152e318b0c83 div.sk-parallel-item::after {content: \"\";width: 100%;border-bottom: 1px solid gray;flex-grow: 1;}#sk-a78dea81-135b-4451-8392-152e318b0c83 div.sk-label:hover label.sk-toggleable__label {background-color: #d4ebff;}#sk-a78dea81-135b-4451-8392-152e318b0c83 div.sk-serial::before {content: \"\";position: absolute;border-left: 1px solid gray;box-sizing: border-box;top: 2em;bottom: 0;left: 50%;}#sk-a78dea81-135b-4451-8392-152e318b0c83 div.sk-serial {display: flex;flex-direction: column;align-items: center;background-color: white;padding-right: 0.2em;padding-left: 0.2em;}#sk-a78dea81-135b-4451-8392-152e318b0c83 div.sk-item {z-index: 1;}#sk-a78dea81-135b-4451-8392-152e318b0c83 div.sk-parallel {display: flex;align-items: stretch;justify-content: center;background-color: white;}#sk-a78dea81-135b-4451-8392-152e318b0c83 div.sk-parallel::before {content: \"\";position: absolute;border-left: 1px solid gray;box-sizing: border-box;top: 2em;bottom: 0;left: 50%;}#sk-a78dea81-135b-4451-8392-152e318b0c83 div.sk-parallel-item {display: flex;flex-direction: column;position: relative;background-color: white;}#sk-a78dea81-135b-4451-8392-152e318b0c83 div.sk-parallel-item:first-child::after {align-self: flex-end;width: 50%;}#sk-a78dea81-135b-4451-8392-152e318b0c83 div.sk-parallel-item:last-child::after {align-self: flex-start;width: 50%;}#sk-a78dea81-135b-4451-8392-152e318b0c83 div.sk-parallel-item:only-child::after {width: 0;}#sk-a78dea81-135b-4451-8392-152e318b0c83 div.sk-dashed-wrapped {border: 1px dashed gray;margin: 0 0.4em 0.5em 0.4em;box-sizing: border-box;padding-bottom: 0.4em;background-color: white;position: relative;}#sk-a78dea81-135b-4451-8392-152e318b0c83 div.sk-label label {font-family: monospace;font-weight: bold;background-color: white;display: inline-block;line-height: 1.2em;}#sk-a78dea81-135b-4451-8392-152e318b0c83 div.sk-label-container {position: relative;z-index: 2;text-align: center;}#sk-a78dea81-135b-4451-8392-152e318b0c83 div.sk-container {/* jupyter's `normalize.less` sets `[hidden] { display: none; }` but bootstrap.min.css set `[hidden] { display: none !important; }` so we also need the `!important` here to be able to override the default hidden behavior on the sphinx rendered scikit-learn.org. See: https://github.com/scikit-learn/scikit-learn/issues/21755 */display: inline-block !important;position: relative;}#sk-a78dea81-135b-4451-8392-152e318b0c83 div.sk-text-repr-fallback {display: none;}</style><div id=\"sk-a78dea81-135b-4451-8392-152e318b0c83\" class=\"sk-top-container\"><div class=\"sk-text-repr-fallback\"><pre>ColumnTransformer(transformers=[(&#x27;standardscaler&#x27;, StandardScaler(),\n",
              "                                 &lt;sklearn.compose._column_transformer.make_column_selector object at 0x7fac9d315400&gt;),\n",
              "                                (&#x27;onehotencoder&#x27;,\n",
              "                                 OneHotEncoder(handle_unknown=&#x27;ignore&#x27;,\n",
              "                                               sparse=False),\n",
              "                                 &lt;sklearn.compose._column_transformer.make_column_selector object at 0x7fac97b3a6d0&gt;)])</pre><b>Please rerun this cell to show the HTML repr or trust the notebook.</b></div><div class=\"sk-container\" hidden><div class=\"sk-item sk-dashed-wrapped\"><div class=\"sk-label-container\"><div class=\"sk-label sk-toggleable\"><input class=\"sk-toggleable__control sk-hidden--visually\" id=\"379bc0a8-b2ba-4f52-a584-a4f63f3658ac\" type=\"checkbox\" ><label for=\"379bc0a8-b2ba-4f52-a584-a4f63f3658ac\" class=\"sk-toggleable__label sk-toggleable__label-arrow\">ColumnTransformer</label><div class=\"sk-toggleable__content\"><pre>ColumnTransformer(transformers=[(&#x27;standardscaler&#x27;, StandardScaler(),\n",
              "                                 &lt;sklearn.compose._column_transformer.make_column_selector object at 0x7fac9d315400&gt;),\n",
              "                                (&#x27;onehotencoder&#x27;,\n",
              "                                 OneHotEncoder(handle_unknown=&#x27;ignore&#x27;,\n",
              "                                               sparse=False),\n",
              "                                 &lt;sklearn.compose._column_transformer.make_column_selector object at 0x7fac97b3a6d0&gt;)])</pre></div></div></div><div class=\"sk-parallel\"><div class=\"sk-parallel-item\"><div class=\"sk-item\"><div class=\"sk-label-container\"><div class=\"sk-label sk-toggleable\"><input class=\"sk-toggleable__control sk-hidden--visually\" id=\"af24045e-e835-4918-a336-d0d632b54276\" type=\"checkbox\" ><label for=\"af24045e-e835-4918-a336-d0d632b54276\" class=\"sk-toggleable__label sk-toggleable__label-arrow\">standardscaler</label><div class=\"sk-toggleable__content\"><pre>&lt;sklearn.compose._column_transformer.make_column_selector object at 0x7fac9d315400&gt;</pre></div></div></div><div class=\"sk-serial\"><div class=\"sk-item\"><div class=\"sk-estimator sk-toggleable\"><input class=\"sk-toggleable__control sk-hidden--visually\" id=\"afe8b93f-ad0d-41bd-9b60-d2c121b514a0\" type=\"checkbox\" ><label for=\"afe8b93f-ad0d-41bd-9b60-d2c121b514a0\" class=\"sk-toggleable__label sk-toggleable__label-arrow\">StandardScaler</label><div class=\"sk-toggleable__content\"><pre>StandardScaler()</pre></div></div></div></div></div></div><div class=\"sk-parallel-item\"><div class=\"sk-item\"><div class=\"sk-label-container\"><div class=\"sk-label sk-toggleable\"><input class=\"sk-toggleable__control sk-hidden--visually\" id=\"df1b41b9-784c-4db3-b347-3fa9c65e2e29\" type=\"checkbox\" ><label for=\"df1b41b9-784c-4db3-b347-3fa9c65e2e29\" class=\"sk-toggleable__label sk-toggleable__label-arrow\">onehotencoder</label><div class=\"sk-toggleable__content\"><pre>&lt;sklearn.compose._column_transformer.make_column_selector object at 0x7fac97b3a6d0&gt;</pre></div></div></div><div class=\"sk-serial\"><div class=\"sk-item\"><div class=\"sk-estimator sk-toggleable\"><input class=\"sk-toggleable__control sk-hidden--visually\" id=\"5d506c3a-cfe6-441a-99d3-9ca48be609f7\" type=\"checkbox\" ><label for=\"5d506c3a-cfe6-441a-99d3-9ca48be609f7\" class=\"sk-toggleable__label sk-toggleable__label-arrow\">OneHotEncoder</label><div class=\"sk-toggleable__content\"><pre>OneHotEncoder(handle_unknown=&#x27;ignore&#x27;, sparse=False)</pre></div></div></div></div></div></div></div></div></div></div>"
            ]
          },
          "metadata": {},
          "execution_count": 371
        }
      ]
    },
    {
      "cell_type": "code",
      "source": [
        "X= preprocessor.transform(X)"
      ],
      "metadata": {
        "id": "3jz-gvofJEOd"
      },
      "execution_count": 372,
      "outputs": []
    },
    {
      "cell_type": "code",
      "source": [
        "X_train, X_test, y_train, y_test = train_test_split(X, y, random_state=42,stratify=y)"
      ],
      "metadata": {
        "id": "YdYflD1wSeNl"
      },
      "execution_count": 373,
      "outputs": []
    },
    {
      "cell_type": "markdown",
      "source": [
        "#Modelos"
      ],
      "metadata": {
        "id": "bbVChjDwSw5K"
      }
    },
    {
      "cell_type": "markdown",
      "source": [
        "Utilizaremos modelos de clasificación para mirar que modelo es mejor para este conjunto de datos. "
      ],
      "metadata": {
        "id": "g15QbLRFZC4r"
      }
    },
    {
      "cell_type": "code",
      "source": [
        "#arbol de decisiones\n",
        "dec_tree = DecisionTreeClassifier(random_state = 42)\n",
        "\n",
        "#KNN\n",
        "knn = KNeighborsClassifier()\n",
        "\n",
        "#regresionlogistica\n",
        "logreg = LogisticRegression()"
      ],
      "metadata": {
        "id": "eeId5b8bSvzG"
      },
      "execution_count": 390,
      "outputs": []
    },
    {
      "cell_type": "code",
      "source": [
        "dec_tree.fit(X_train, y_train)\n",
        "knn.fit(X_train, y_train)\n",
        "logreg.fit(X_train,y_train)"
      ],
      "metadata": {
        "colab": {
          "base_uri": "https://localhost:8080/",
          "height": 75
        },
        "id": "wKxs0fQRX28J",
        "outputId": "b9bd0259-2e06-4c7f-ac21-5b2d1ea5e472"
      },
      "execution_count": 391,
      "outputs": [
        {
          "output_type": "execute_result",
          "data": {
            "text/plain": [
              "LogisticRegression()"
            ],
            "text/html": [
              "<style>#sk-abef34d4-f8ce-42b2-abc9-68a2782279c4 {color: black;background-color: white;}#sk-abef34d4-f8ce-42b2-abc9-68a2782279c4 pre{padding: 0;}#sk-abef34d4-f8ce-42b2-abc9-68a2782279c4 div.sk-toggleable {background-color: white;}#sk-abef34d4-f8ce-42b2-abc9-68a2782279c4 label.sk-toggleable__label {cursor: pointer;display: block;width: 100%;margin-bottom: 0;padding: 0.3em;box-sizing: border-box;text-align: center;}#sk-abef34d4-f8ce-42b2-abc9-68a2782279c4 label.sk-toggleable__label-arrow:before {content: \"▸\";float: left;margin-right: 0.25em;color: #696969;}#sk-abef34d4-f8ce-42b2-abc9-68a2782279c4 label.sk-toggleable__label-arrow:hover:before {color: black;}#sk-abef34d4-f8ce-42b2-abc9-68a2782279c4 div.sk-estimator:hover label.sk-toggleable__label-arrow:before {color: black;}#sk-abef34d4-f8ce-42b2-abc9-68a2782279c4 div.sk-toggleable__content {max-height: 0;max-width: 0;overflow: hidden;text-align: left;background-color: #f0f8ff;}#sk-abef34d4-f8ce-42b2-abc9-68a2782279c4 div.sk-toggleable__content pre {margin: 0.2em;color: black;border-radius: 0.25em;background-color: #f0f8ff;}#sk-abef34d4-f8ce-42b2-abc9-68a2782279c4 input.sk-toggleable__control:checked~div.sk-toggleable__content {max-height: 200px;max-width: 100%;overflow: auto;}#sk-abef34d4-f8ce-42b2-abc9-68a2782279c4 input.sk-toggleable__control:checked~label.sk-toggleable__label-arrow:before {content: \"▾\";}#sk-abef34d4-f8ce-42b2-abc9-68a2782279c4 div.sk-estimator input.sk-toggleable__control:checked~label.sk-toggleable__label {background-color: #d4ebff;}#sk-abef34d4-f8ce-42b2-abc9-68a2782279c4 div.sk-label input.sk-toggleable__control:checked~label.sk-toggleable__label {background-color: #d4ebff;}#sk-abef34d4-f8ce-42b2-abc9-68a2782279c4 input.sk-hidden--visually {border: 0;clip: rect(1px 1px 1px 1px);clip: rect(1px, 1px, 1px, 1px);height: 1px;margin: -1px;overflow: hidden;padding: 0;position: absolute;width: 1px;}#sk-abef34d4-f8ce-42b2-abc9-68a2782279c4 div.sk-estimator {font-family: monospace;background-color: #f0f8ff;border: 1px dotted black;border-radius: 0.25em;box-sizing: border-box;margin-bottom: 0.5em;}#sk-abef34d4-f8ce-42b2-abc9-68a2782279c4 div.sk-estimator:hover {background-color: #d4ebff;}#sk-abef34d4-f8ce-42b2-abc9-68a2782279c4 div.sk-parallel-item::after {content: \"\";width: 100%;border-bottom: 1px solid gray;flex-grow: 1;}#sk-abef34d4-f8ce-42b2-abc9-68a2782279c4 div.sk-label:hover label.sk-toggleable__label {background-color: #d4ebff;}#sk-abef34d4-f8ce-42b2-abc9-68a2782279c4 div.sk-serial::before {content: \"\";position: absolute;border-left: 1px solid gray;box-sizing: border-box;top: 2em;bottom: 0;left: 50%;}#sk-abef34d4-f8ce-42b2-abc9-68a2782279c4 div.sk-serial {display: flex;flex-direction: column;align-items: center;background-color: white;padding-right: 0.2em;padding-left: 0.2em;}#sk-abef34d4-f8ce-42b2-abc9-68a2782279c4 div.sk-item {z-index: 1;}#sk-abef34d4-f8ce-42b2-abc9-68a2782279c4 div.sk-parallel {display: flex;align-items: stretch;justify-content: center;background-color: white;}#sk-abef34d4-f8ce-42b2-abc9-68a2782279c4 div.sk-parallel::before {content: \"\";position: absolute;border-left: 1px solid gray;box-sizing: border-box;top: 2em;bottom: 0;left: 50%;}#sk-abef34d4-f8ce-42b2-abc9-68a2782279c4 div.sk-parallel-item {display: flex;flex-direction: column;position: relative;background-color: white;}#sk-abef34d4-f8ce-42b2-abc9-68a2782279c4 div.sk-parallel-item:first-child::after {align-self: flex-end;width: 50%;}#sk-abef34d4-f8ce-42b2-abc9-68a2782279c4 div.sk-parallel-item:last-child::after {align-self: flex-start;width: 50%;}#sk-abef34d4-f8ce-42b2-abc9-68a2782279c4 div.sk-parallel-item:only-child::after {width: 0;}#sk-abef34d4-f8ce-42b2-abc9-68a2782279c4 div.sk-dashed-wrapped {border: 1px dashed gray;margin: 0 0.4em 0.5em 0.4em;box-sizing: border-box;padding-bottom: 0.4em;background-color: white;position: relative;}#sk-abef34d4-f8ce-42b2-abc9-68a2782279c4 div.sk-label label {font-family: monospace;font-weight: bold;background-color: white;display: inline-block;line-height: 1.2em;}#sk-abef34d4-f8ce-42b2-abc9-68a2782279c4 div.sk-label-container {position: relative;z-index: 2;text-align: center;}#sk-abef34d4-f8ce-42b2-abc9-68a2782279c4 div.sk-container {/* jupyter's `normalize.less` sets `[hidden] { display: none; }` but bootstrap.min.css set `[hidden] { display: none !important; }` so we also need the `!important` here to be able to override the default hidden behavior on the sphinx rendered scikit-learn.org. See: https://github.com/scikit-learn/scikit-learn/issues/21755 */display: inline-block !important;position: relative;}#sk-abef34d4-f8ce-42b2-abc9-68a2782279c4 div.sk-text-repr-fallback {display: none;}</style><div id=\"sk-abef34d4-f8ce-42b2-abc9-68a2782279c4\" class=\"sk-top-container\"><div class=\"sk-text-repr-fallback\"><pre>LogisticRegression()</pre><b>Please rerun this cell to show the HTML repr or trust the notebook.</b></div><div class=\"sk-container\" hidden><div class=\"sk-item\"><div class=\"sk-estimator sk-toggleable\"><input class=\"sk-toggleable__control sk-hidden--visually\" id=\"3914fb89-1738-42c8-b908-4eb28006497d\" type=\"checkbox\" checked><label for=\"3914fb89-1738-42c8-b908-4eb28006497d\" class=\"sk-toggleable__label sk-toggleable__label-arrow\">LogisticRegression</label><div class=\"sk-toggleable__content\"><pre>LogisticRegression()</pre></div></div></div></div></div>"
            ]
          },
          "metadata": {},
          "execution_count": 391
        }
      ]
    },
    {
      "cell_type": "code",
      "source": [
        "dec_tree_pred = dec_tree.predict(X_test)\n",
        "knn_pred = knn.predict(X_test)\n",
        "log_pred = logreg.predict(X_test)\n",
        "\n"
      ],
      "metadata": {
        "id": "yQl451s1YKcr"
      },
      "execution_count": 392,
      "outputs": []
    },
    {
      "cell_type": "markdown",
      "source": [
        "Evaluaremos los modelos "
      ],
      "metadata": {
        "id": "nYwgbpY2ZNyU"
      }
    },
    {
      "cell_type": "code",
      "source": [
        "# calculen la exactitud de la clasificación\n",
        "score_train_1 = dec_tree.score(X_train, y_train)\n",
        "score_train_2 = knn.score(X_train, y_train)\n",
        "score_train_3 = logreg.score(X_train, y_train)\n",
        "\n",
        "score_test_1 = dec_tree.score(X_test, y_test)\n",
        "score_test_2 = knn.score(X_test, y_test)\n",
        "score_test_3 = logreg.score(X_test, y_test)\n",
        "\n",
        "print(f\"Exactitud del arbol de decisiones en el conjunto de prueba\",score_test_1)\n",
        "print(f\"Exactitud de knn en el conjunto de prueba                 \",score_test_2)\n",
        "print(f\"Exactitud de regresion logistica en el conjunto de prueba \",score_test_3,\"\\n\") \n",
        "\n",
        "\n",
        "print(f\"Exactitud del arbol de decisiones en el conjunto de entrenamiento\",score_train_1)\n",
        "print(f\"Exactitud de knn en el conjunto de entrenamiento                 \",score_train_2)\n",
        "print(f\"Exactitud del regresión logistica en el conjunto de entrenamiento\",score_train_3)\n"
      ],
      "metadata": {
        "colab": {
          "base_uri": "https://localhost:8080/"
        },
        "id": "ulnByg82ZIU7",
        "outputId": "0e58c414-6df2-463f-eb4c-d5f9d365b580"
      },
      "execution_count": 393,
      "outputs": [
        {
          "output_type": "stream",
          "name": "stdout",
          "text": [
            "Exactitud del arbol de decisiones en el conjunto de prueba 0.8926380368098159\n",
            "Exactitud de knn en el conjunto de prueba                  0.9447852760736196\n",
            "Exactitud de regresion logistica en el conjunto de prueba  0.9468302658486708 \n",
            "\n",
            "Exactitud del arbol de decisiones en el conjunto de entrenamiento 1.0\n",
            "Exactitud de knn en el conjunto de entrenamiento                  0.9474582053906516\n",
            "Exactitud del regresión logistica en el conjunto de entrenamiento 0.946775844421699\n"
          ]
        }
      ]
    },
    {
      "cell_type": "code",
      "source": [
        "print(f'Training AUC: {roc_auc_score(y_train, logreg.predict_proba(X_train)[:,1])}')\n",
        "print(f'Testing AUC: {roc_auc_score(y_test, logreg.predict_proba(X_test)[:,1])}')\n"
      ],
      "metadata": {
        "colab": {
          "base_uri": "https://localhost:8080/"
        },
        "id": "VgDQutBkd5tt",
        "outputId": "130ba25e-f318-484f-807b-15433b4eb694"
      },
      "execution_count": 394,
      "outputs": [
        {
          "output_type": "stream",
          "name": "stdout",
          "text": [
            "Training AUC: 0.817847077847078\n",
            "Testing AUC: 0.8007974746635654\n"
          ]
        }
      ]
    },
    {
      "cell_type": "code",
      "source": [
        "print(f'Training AUC: {roc_auc_score(y_train, knn.predict_proba(X_train)[:,1])}')\n",
        "print(f'Testing AUC: {roc_auc_score(y_test, knn.predict_proba(X_test)[:,1])}')"
      ],
      "metadata": {
        "colab": {
          "base_uri": "https://localhost:8080/"
        },
        "id": "kXRL0yAXkrzs",
        "outputId": "d835b6a5-49a4-43ce-b08a-0e5e0dd8833b"
      },
      "execution_count": 395,
      "outputs": [
        {
          "output_type": "stream",
          "name": "stdout",
          "text": [
            "Training AUC: 0.9334615384615385\n",
            "Testing AUC: 0.6073267984715068\n"
          ]
        }
      ]
    },
    {
      "cell_type": "code",
      "source": [
        "print(f'Training AUC: {roc_auc_score(y_train, dec_tree.predict_proba(X_train)[:,1])}')\n",
        "print(f'Testing AUC: {roc_auc_score(y_test, dec_tree.predict_proba(X_test)[:,1])}')"
      ],
      "metadata": {
        "colab": {
          "base_uri": "https://localhost:8080/"
        },
        "id": "bsLI3xubkwkB",
        "outputId": "d6909246-2477-41c9-8402-f9df52e31173"
      },
      "execution_count": 396,
      "outputs": [
        {
          "output_type": "stream",
          "name": "stdout",
          "text": [
            "Training AUC: 1.0\n",
            "Testing AUC: 0.5349102841003488\n"
          ]
        }
      ]
    },
    {
      "cell_type": "code",
      "source": [
        "y_true = list(y_test)\n",
        "print(classification_report(y_true,dec_tree.predict(X_test), labels=[1, 0]))"
      ],
      "metadata": {
        "colab": {
          "base_uri": "https://localhost:8080/"
        },
        "id": "-9OSAGu215ic",
        "outputId": "1eb3542e-18e9-4344-c132-486765c97048"
      },
      "execution_count": 397,
      "outputs": [
        {
          "output_type": "stream",
          "name": "stdout",
          "text": [
            "              precision    recall  f1-score   support\n",
            "\n",
            "           1       0.10      0.13      0.12        52\n",
            "           0       0.95      0.94      0.94       926\n",
            "\n",
            "    accuracy                           0.89       978\n",
            "   macro avg       0.53      0.53      0.53       978\n",
            "weighted avg       0.91      0.89      0.90       978\n",
            "\n"
          ]
        }
      ]
    },
    {
      "cell_type": "code",
      "source": [
        "y_true = list(y_test)\n",
        "print(classification_report(y_true,knn.predict(X_test), labels=[1, 0]))"
      ],
      "metadata": {
        "colab": {
          "base_uri": "https://localhost:8080/"
        },
        "id": "2FtGTziQ2K8W",
        "outputId": "15878d9a-92e0-4b95-982e-32ca8bdb67b0"
      },
      "execution_count": 398,
      "outputs": [
        {
          "output_type": "stream",
          "name": "stdout",
          "text": [
            "              precision    recall  f1-score   support\n",
            "\n",
            "           1       0.00      0.00      0.00        52\n",
            "           0       0.95      1.00      0.97       926\n",
            "\n",
            "    accuracy                           0.94       978\n",
            "   macro avg       0.47      0.50      0.49       978\n",
            "weighted avg       0.90      0.94      0.92       978\n",
            "\n"
          ]
        }
      ]
    },
    {
      "cell_type": "code",
      "source": [
        "y_true = list(y_test)\n",
        "print(classification_report(y_true, logreg.predict(X_test), labels=[1, 0]))"
      ],
      "metadata": {
        "colab": {
          "base_uri": "https://localhost:8080/"
        },
        "id": "g9SuAJ-K2Qk4",
        "outputId": "6bca1eae-d70c-486c-c61c-18ef101c7385"
      },
      "execution_count": 400,
      "outputs": [
        {
          "output_type": "stream",
          "name": "stdout",
          "text": [
            "              precision    recall  f1-score   support\n",
            "\n",
            "           1       0.00      0.00      0.00        52\n",
            "           0       0.95      1.00      0.97       926\n",
            "\n",
            "    accuracy                           0.95       978\n",
            "   macro avg       0.47      0.50      0.49       978\n",
            "weighted avg       0.90      0.95      0.92       978\n",
            "\n"
          ]
        },
        {
          "output_type": "stream",
          "name": "stderr",
          "text": [
            "/usr/local/lib/python3.8/dist-packages/sklearn/metrics/_classification.py:1318: UndefinedMetricWarning: Precision and F-score are ill-defined and being set to 0.0 in labels with no predicted samples. Use `zero_division` parameter to control this behavior.\n",
            "  _warn_prf(average, modifier, msg_start, len(result))\n",
            "/usr/local/lib/python3.8/dist-packages/sklearn/metrics/_classification.py:1318: UndefinedMetricWarning: Precision and F-score are ill-defined and being set to 0.0 in labels with no predicted samples. Use `zero_division` parameter to control this behavior.\n",
            "  _warn_prf(average, modifier, msg_start, len(result))\n",
            "/usr/local/lib/python3.8/dist-packages/sklearn/metrics/_classification.py:1318: UndefinedMetricWarning: Precision and F-score are ill-defined and being set to 0.0 in labels with no predicted samples. Use `zero_division` parameter to control this behavior.\n",
            "  _warn_prf(average, modifier, msg_start, len(result))\n"
          ]
        }
      ]
    },
    {
      "cell_type": "code",
      "source": [
        "ConfusionMatrixDisplay.from_predictions(y_true, dec_tree.predict(X_test), normalize=\"true\")"
      ],
      "metadata": {
        "colab": {
          "base_uri": "https://localhost:8080/",
          "height": 297
        },
        "id": "da2VxOIt4YYM",
        "outputId": "20816c00-6d3a-4c59-ed9d-38ac4c46df67"
      },
      "execution_count": 401,
      "outputs": [
        {
          "output_type": "execute_result",
          "data": {
            "text/plain": [
              "<sklearn.metrics._plot.confusion_matrix.ConfusionMatrixDisplay at 0x7fac9cb2afd0>"
            ]
          },
          "metadata": {},
          "execution_count": 401
        },
        {
          "output_type": "display_data",
          "data": {
            "text/plain": [
              "<Figure size 432x288 with 2 Axes>"
            ],
            "image/png": "[encoded data removed]"
          },
          "metadata": {
            "needs_background": "light"
          }
        }
      ]
    },
    {
      "cell_type": "code",
      "source": [
        "ConfusionMatrixDisplay.from_predictions(y_true, knn.predict(X_test), normalize=\"true\")"
      ],
      "metadata": {
        "colab": {
          "base_uri": "https://localhost:8080/",
          "height": 301
        },
        "id": "kOQ9oSWf4rRX",
        "outputId": "5023ca96-5832-47ba-cc7d-61c8233cbc71"
      },
      "execution_count": 402,
      "outputs": [
        {
          "output_type": "execute_result",
          "data": {
            "text/plain": [
              "<sklearn.metrics._plot.confusion_matrix.ConfusionMatrixDisplay at 0x7fac96f62520>"
            ]
          },
          "metadata": {},
          "execution_count": 402
        },
        {
          "output_type": "display_data",
          "data": {
            "text/plain": [
              "<Figure size 432x288 with 2 Axes>"
            ],
            "image/png": "[encoded data removed]"
          },
          "metadata": {
            "needs_background": "light"
          }
        }
      ]
    },
    {
      "cell_type": "code",
      "source": [
        "ConfusionMatrixDisplay.from_predictions(y_true, logreg.predict(X_test), normalize=\"true\")"
      ],
      "metadata": {
        "colab": {
          "base_uri": "https://localhost:8080/",
          "height": 301
        },
        "id": "DL6aQqhg4vu-",
        "outputId": "9b698829-86f6-4fe7-e5ac-fb2f9ab19b45"
      },
      "execution_count": 403,
      "outputs": [
        {
          "output_type": "execute_result",
          "data": {
            "text/plain": [
              "<sklearn.metrics._plot.confusion_matrix.ConfusionMatrixDisplay at 0x7fac97b3a250>"
            ]
          },
          "metadata": {},
          "execution_count": 403
        },
        {
          "output_type": "display_data",
          "data": {
            "text/plain": [
              "<Figure size 432x288 with 2 Axes>"
            ],
            "image/png": "[encoded data removed]"
          },
          "metadata": {
            "needs_background": "light"
          }
        }
      ]
    },
    {
      "cell_type": "markdown",
      "source": [
        "Al evaluar los modelos podemos ver que en general solo son utiles para predecir que personas no tienen riesgo de sufrir un accidente cerebrovascular isquémico \n",
        "El modelo mas indicado seria regresion logistica dado que es el modelo que mejor se comporta con los datos de prueba en las mayoria de las metricas de evaluación de modelos\n",
        "\n"
      ],
      "metadata": {
        "id": "xkeJKylKlW1r"
      }
    },
    {
      "cell_type": "markdown",
      "source": [
        "#conclusiones"
      ],
      "metadata": {
        "id": "fJdnsayw8e8Y"
      }
    },
    {
      "cell_type": "markdown",
      "source": [
        "1. Entre mas comorbilidades presente el paciente mas riesgo tiene de tener un accidente cerebrovascular isquémico\n",
        "\n",
        "2. Las características individuales no representan riesgo significativo en presentar accidente cerebrovascular isquémico\n",
        "\n",
        "3. Los modelo de predicción solo son útiles para predecir los pacientes que no van a sufrir de un accidente cerebrovascular isquémico"
      ],
      "metadata": {
        "id": "s-WY7DfK8gUz"
      }
    }
  ]
}